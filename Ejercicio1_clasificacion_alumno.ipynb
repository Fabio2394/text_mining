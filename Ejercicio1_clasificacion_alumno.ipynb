{
  "cells": [
    {
      "cell_type": "markdown",
      "metadata": {
        "id": "view-in-github",
        "colab_type": "text"
      },
      "source": [
        "<a href=\"https://colab.research.google.com/github/Fabio2394/text_mining/blob/main/Ejercicio1_clasificacion_alumno.ipynb\" target=\"_parent\"><img src=\"https://colab.research.google.com/assets/colab-badge.svg\" alt=\"Open In Colab\"/></a>"
      ]
    },
    {
      "cell_type": "code",
      "execution_count": 57,
      "metadata": {
        "colab": {
          "base_uri": "https://localhost:8080/"
        },
        "collapsed": true,
        "id": "M5MhVlxlKxJF",
        "outputId": "b1a28179-5ad8-49d5-d38b-93d4c38a9a45"
      },
      "outputs": [
        {
          "output_type": "stream",
          "name": "stdout",
          "text": [
            "Requirement already satisfied: datasets in /usr/local/lib/python3.11/dist-packages (2.14.4)\n",
            "Requirement already satisfied: numpy>=1.17 in /usr/local/lib/python3.11/dist-packages (from datasets) (2.0.2)\n",
            "Requirement already satisfied: pyarrow>=8.0.0 in /usr/local/lib/python3.11/dist-packages (from datasets) (18.1.0)\n",
            "Requirement already satisfied: dill<0.3.8,>=0.3.0 in /usr/local/lib/python3.11/dist-packages (from datasets) (0.3.7)\n",
            "Requirement already satisfied: pandas in /usr/local/lib/python3.11/dist-packages (from datasets) (2.2.2)\n",
            "Requirement already satisfied: requests>=2.19.0 in /usr/local/lib/python3.11/dist-packages (from datasets) (2.32.3)\n",
            "Requirement already satisfied: tqdm>=4.62.1 in /usr/local/lib/python3.11/dist-packages (from datasets) (4.67.1)\n",
            "Requirement already satisfied: xxhash in /usr/local/lib/python3.11/dist-packages (from datasets) (3.5.0)\n",
            "Requirement already satisfied: multiprocess in /usr/local/lib/python3.11/dist-packages (from datasets) (0.70.15)\n",
            "Requirement already satisfied: fsspec>=2021.11.1 in /usr/local/lib/python3.11/dist-packages (from fsspec[http]>=2021.11.1->datasets) (2023.9.2)\n",
            "Requirement already satisfied: aiohttp in /usr/local/lib/python3.11/dist-packages (from datasets) (3.11.15)\n",
            "Requirement already satisfied: huggingface-hub<1.0.0,>=0.14.0 in /usr/local/lib/python3.11/dist-packages (from datasets) (0.33.0)\n",
            "Requirement already satisfied: packaging in /usr/local/lib/python3.11/dist-packages (from datasets) (24.2)\n",
            "Requirement already satisfied: pyyaml>=5.1 in /usr/local/lib/python3.11/dist-packages (from datasets) (6.0.2)\n",
            "Requirement already satisfied: aiohappyeyeballs>=2.3.0 in /usr/local/lib/python3.11/dist-packages (from aiohttp->datasets) (2.6.1)\n",
            "Requirement already satisfied: aiosignal>=1.1.2 in /usr/local/lib/python3.11/dist-packages (from aiohttp->datasets) (1.3.2)\n",
            "Requirement already satisfied: attrs>=17.3.0 in /usr/local/lib/python3.11/dist-packages (from aiohttp->datasets) (25.3.0)\n",
            "Requirement already satisfied: frozenlist>=1.1.1 in /usr/local/lib/python3.11/dist-packages (from aiohttp->datasets) (1.7.0)\n",
            "Requirement already satisfied: multidict<7.0,>=4.5 in /usr/local/lib/python3.11/dist-packages (from aiohttp->datasets) (6.5.0)\n",
            "Requirement already satisfied: propcache>=0.2.0 in /usr/local/lib/python3.11/dist-packages (from aiohttp->datasets) (0.3.2)\n",
            "Requirement already satisfied: yarl<2.0,>=1.17.0 in /usr/local/lib/python3.11/dist-packages (from aiohttp->datasets) (1.20.1)\n",
            "Requirement already satisfied: filelock in /usr/local/lib/python3.11/dist-packages (from huggingface-hub<1.0.0,>=0.14.0->datasets) (3.18.0)\n",
            "Requirement already satisfied: typing-extensions>=3.7.4.3 in /usr/local/lib/python3.11/dist-packages (from huggingface-hub<1.0.0,>=0.14.0->datasets) (4.14.0)\n",
            "Requirement already satisfied: hf-xet<2.0.0,>=1.1.2 in /usr/local/lib/python3.11/dist-packages (from huggingface-hub<1.0.0,>=0.14.0->datasets) (1.1.5)\n",
            "Requirement already satisfied: charset-normalizer<4,>=2 in /usr/local/lib/python3.11/dist-packages (from requests>=2.19.0->datasets) (3.4.2)\n",
            "Requirement already satisfied: idna<4,>=2.5 in /usr/local/lib/python3.11/dist-packages (from requests>=2.19.0->datasets) (3.10)\n",
            "Requirement already satisfied: urllib3<3,>=1.21.1 in /usr/local/lib/python3.11/dist-packages (from requests>=2.19.0->datasets) (2.4.0)\n",
            "Requirement already satisfied: certifi>=2017.4.17 in /usr/local/lib/python3.11/dist-packages (from requests>=2.19.0->datasets) (2025.6.15)\n",
            "Requirement already satisfied: python-dateutil>=2.8.2 in /usr/local/lib/python3.11/dist-packages (from pandas->datasets) (2.9.0.post0)\n",
            "Requirement already satisfied: pytz>=2020.1 in /usr/local/lib/python3.11/dist-packages (from pandas->datasets) (2025.2)\n",
            "Requirement already satisfied: tzdata>=2022.7 in /usr/local/lib/python3.11/dist-packages (from pandas->datasets) (2025.2)\n",
            "Requirement already satisfied: six>=1.5 in /usr/local/lib/python3.11/dist-packages (from python-dateutil>=2.8.2->pandas->datasets) (1.17.0)\n",
            "Requirement already satisfied: evaluate in /usr/local/lib/python3.11/dist-packages (0.4.4)\n",
            "Requirement already satisfied: datasets>=2.0.0 in /usr/local/lib/python3.11/dist-packages (from evaluate) (2.14.4)\n",
            "Requirement already satisfied: numpy>=1.17 in /usr/local/lib/python3.11/dist-packages (from evaluate) (2.0.2)\n",
            "Requirement already satisfied: dill in /usr/local/lib/python3.11/dist-packages (from evaluate) (0.3.7)\n",
            "Requirement already satisfied: pandas in /usr/local/lib/python3.11/dist-packages (from evaluate) (2.2.2)\n",
            "Requirement already satisfied: requests>=2.19.0 in /usr/local/lib/python3.11/dist-packages (from evaluate) (2.32.3)\n",
            "Requirement already satisfied: tqdm>=4.62.1 in /usr/local/lib/python3.11/dist-packages (from evaluate) (4.67.1)\n",
            "Requirement already satisfied: xxhash in /usr/local/lib/python3.11/dist-packages (from evaluate) (3.5.0)\n",
            "Requirement already satisfied: multiprocess in /usr/local/lib/python3.11/dist-packages (from evaluate) (0.70.15)\n",
            "Requirement already satisfied: fsspec>=2021.05.0 in /usr/local/lib/python3.11/dist-packages (from fsspec[http]>=2021.05.0->evaluate) (2023.9.2)\n",
            "Requirement already satisfied: huggingface-hub>=0.7.0 in /usr/local/lib/python3.11/dist-packages (from evaluate) (0.33.0)\n",
            "Requirement already satisfied: packaging in /usr/local/lib/python3.11/dist-packages (from evaluate) (24.2)\n",
            "Requirement already satisfied: pyarrow>=8.0.0 in /usr/local/lib/python3.11/dist-packages (from datasets>=2.0.0->evaluate) (18.1.0)\n",
            "Requirement already satisfied: aiohttp in /usr/local/lib/python3.11/dist-packages (from datasets>=2.0.0->evaluate) (3.11.15)\n",
            "Requirement already satisfied: pyyaml>=5.1 in /usr/local/lib/python3.11/dist-packages (from datasets>=2.0.0->evaluate) (6.0.2)\n",
            "Requirement already satisfied: filelock in /usr/local/lib/python3.11/dist-packages (from huggingface-hub>=0.7.0->evaluate) (3.18.0)\n",
            "Requirement already satisfied: typing-extensions>=3.7.4.3 in /usr/local/lib/python3.11/dist-packages (from huggingface-hub>=0.7.0->evaluate) (4.14.0)\n",
            "Requirement already satisfied: hf-xet<2.0.0,>=1.1.2 in /usr/local/lib/python3.11/dist-packages (from huggingface-hub>=0.7.0->evaluate) (1.1.5)\n",
            "Requirement already satisfied: charset-normalizer<4,>=2 in /usr/local/lib/python3.11/dist-packages (from requests>=2.19.0->evaluate) (3.4.2)\n",
            "Requirement already satisfied: idna<4,>=2.5 in /usr/local/lib/python3.11/dist-packages (from requests>=2.19.0->evaluate) (3.10)\n",
            "Requirement already satisfied: urllib3<3,>=1.21.1 in /usr/local/lib/python3.11/dist-packages (from requests>=2.19.0->evaluate) (2.4.0)\n",
            "Requirement already satisfied: certifi>=2017.4.17 in /usr/local/lib/python3.11/dist-packages (from requests>=2.19.0->evaluate) (2025.6.15)\n",
            "Requirement already satisfied: python-dateutil>=2.8.2 in /usr/local/lib/python3.11/dist-packages (from pandas->evaluate) (2.9.0.post0)\n",
            "Requirement already satisfied: pytz>=2020.1 in /usr/local/lib/python3.11/dist-packages (from pandas->evaluate) (2025.2)\n",
            "Requirement already satisfied: tzdata>=2022.7 in /usr/local/lib/python3.11/dist-packages (from pandas->evaluate) (2025.2)\n",
            "Requirement already satisfied: aiohappyeyeballs>=2.3.0 in /usr/local/lib/python3.11/dist-packages (from aiohttp->datasets>=2.0.0->evaluate) (2.6.1)\n",
            "Requirement already satisfied: aiosignal>=1.1.2 in /usr/local/lib/python3.11/dist-packages (from aiohttp->datasets>=2.0.0->evaluate) (1.3.2)\n",
            "Requirement already satisfied: attrs>=17.3.0 in /usr/local/lib/python3.11/dist-packages (from aiohttp->datasets>=2.0.0->evaluate) (25.3.0)\n",
            "Requirement already satisfied: frozenlist>=1.1.1 in /usr/local/lib/python3.11/dist-packages (from aiohttp->datasets>=2.0.0->evaluate) (1.7.0)\n",
            "Requirement already satisfied: multidict<7.0,>=4.5 in /usr/local/lib/python3.11/dist-packages (from aiohttp->datasets>=2.0.0->evaluate) (6.5.0)\n",
            "Requirement already satisfied: propcache>=0.2.0 in /usr/local/lib/python3.11/dist-packages (from aiohttp->datasets>=2.0.0->evaluate) (0.3.2)\n",
            "Requirement already satisfied: yarl<2.0,>=1.17.0 in /usr/local/lib/python3.11/dist-packages (from aiohttp->datasets>=2.0.0->evaluate) (1.20.1)\n",
            "Requirement already satisfied: six>=1.5 in /usr/local/lib/python3.11/dist-packages (from python-dateutil>=2.8.2->pandas->evaluate) (1.17.0)\n",
            "Requirement already satisfied: fsspec==2023.9.2 in /usr/local/lib/python3.11/dist-packages (2023.9.2)\n"
          ]
        }
      ],
      "source": [
        "!pip install datasets\n",
        "!pip install evaluate\n",
        "!pip install fsspec==2023.9.2"
      ]
    },
    {
      "cell_type": "markdown",
      "metadata": {
        "id": "a5dffd1b"
      },
      "source": [
        "\n",
        "⚙️ **Requerimientos importantes sobre el ejercicio**\n",
        "\n",
        "- El notebook debe ejecutarse **de principio a fin sin intervención manual**.\n",
        "- Si utilizas librerías que no están incluidas por defecto en Google Colab, **asegúrate de instalarlas dentro del notebook** (por ejemplo: `!pip install ...`).\n",
        "\n",
        "- Algunas celdas incluyen identificadores especiales que indican ciertas normas que **debes** respetar:\n",
        " - `#NO-MODIFY: DATA LOAD`  \n",
        "    🔒 **No modifiques** el contenido de esta celda.\n",
        "\n",
        "  - `#NO-MODIFY: VARIABLE NAME`  \n",
        "    ✏️ Puedes modificar o añadir información **dentro de la celda**, pero **sin cambiar el nombre de la variable asignada**. No incluyas más variables de las existentes en la celda.\n",
        "\n",
        "  - `#MODIFY: ADD INFO TO SOLVE FUNCTION`  \n",
        "    🔧 Puedes modificar el **interior de la función** para resolver la tarea, pero **no cambies su nombre, la cabecera ni el `return`**.\n",
        "\n"
      ]
    },
    {
      "cell_type": "markdown",
      "metadata": {
        "id": "2w1C3ZBXHL0b"
      },
      "source": [
        "## Imports"
      ]
    },
    {
      "cell_type": "code",
      "execution_count": 58,
      "metadata": {
        "colab": {
          "base_uri": "https://localhost:8080/"
        },
        "id": "7WTXfHYTHQmo",
        "outputId": "2e1eeb2b-74b5-4e79-e8b1-ce2434e123de"
      },
      "outputs": [
        {
          "output_type": "stream",
          "name": "stderr",
          "text": [
            "[nltk_data] Downloading package stopwords to /root/nltk_data...\n",
            "[nltk_data]   Package stopwords is already up-to-date!\n"
          ]
        },
        {
          "output_type": "execute_result",
          "data": {
            "text/plain": [
              "True"
            ]
          },
          "metadata": {},
          "execution_count": 58
        }
      ],
      "source": [
        "import numpy as np\n",
        "import nltk\n",
        "nltk.download('stopwords')"
      ]
    },
    {
      "cell_type": "code",
      "execution_count": 59,
      "metadata": {
        "id": "V5xkvK9cHSse"
      },
      "outputs": [],
      "source": [
        "# Add your imports here\n",
        "from wordcloud import WordCloud\n",
        "from nltk.corpus import stopwords\n",
        "import pandas as pd\n",
        "from tqdm import tqdm\n",
        "from nltk.tokenize import TweetTokenizer\n",
        "import spacy\n",
        "import matplotlib.pyplot as plt\n",
        "import seaborn as sns"
      ]
    },
    {
      "cell_type": "markdown",
      "metadata": {
        "id": "e1KKTZUcH_xk"
      },
      "source": [
        "# 🔍 Ejercicio1: Detección de profesiones en tweets"
      ]
    },
    {
      "cell_type": "markdown",
      "source": [
        "## Enunciado"
      ],
      "metadata": {
        "id": "gLDLR2bEHk2F"
      }
    },
    {
      "cell_type": "markdown",
      "source": [
        "En este ejercicio vamos a trabajar con un conjunto de datos procedente de medios sociales online.\n",
        "\n",
        "Utilizaremos un subconjunto de los datos de la tarea 1 del shared task [**ProfNER**](https://temu.bsc.es/smm4h-spanish), centrada en la detección de menciones a profesiones en tweets publicados durante la pandemia del COVID-19. El objetivo original de la tarea era analizar que profesiones podrían haber sido especialmente vulnerables en el contexto de la crisis sanitaria.\n",
        "\n",
        "Para simplificar el ejercicio, he preparado una versión reducida del dataset original. Tu tarea será entrenar un clasificador binario basado en la arquitectura Transformers, que, dado un tweet, determine si contiene una mención explícita a una profesión (etiqueta `1`) o no (etiqueta `0`).\n",
        "\n",
        "\n"
      ],
      "metadata": {
        "id": "6kx1_gwPQGcp"
      }
    },
    {
      "cell_type": "markdown",
      "source": [
        "✅ **Objetivos del ejercicio**\n",
        "\n",
        "A lo largo de este notebook, completarás las siguientes etapas para construir un clasificador de menciones a profesiones en tweets:\n",
        "\n",
        "1. **Análisis Exploratorio de Datos (EDA)**: Calcular estadísticas básicas del conjunto de datos (como el número de ejemplos del training set, la distribución de clases del dataset, la longitud media de los textos) o crear visualizaciones para cmprender mejor el contenido de los documentos usando wordclouds o histogramas.\n",
        "\n",
        "2. **Selección y justificación del modelo**: Elegir un modelo del Hub de Huggingface adecuado para los datos con los que se va a trabajar y el tipo de tarea a desarrollar.\n",
        "\n",
        "3. **Entrenamiento del clasificador**: Entrenar el modelo de forma reproducible y evaluar su rendimiento sobreel conjunto de datos de validación, incluyendo un classification score y matriz de confusion\n",
        "\n",
        "4. **Generación de predicciones sobre el conjunte de test**: Aplicar el modelo entrenado al conjunto de test, y guardar las predicciones en un archivo `.tsv` de 2 columnas `id` y `label` separadas por tabulador"
      ],
      "metadata": {
        "id": "3VHMEt0x-7UO"
      }
    },
    {
      "cell_type": "markdown",
      "source": [
        "📝 **Criterios de Evaluación**\n",
        "\n",
        "Tu trabajo será evaluado según los siguientes criterios:\n",
        "\n",
        "| Criterio                                            | Peso  |\n",
        "|-----------------------------------------------------|--------|\n",
        "| 🔍 Análisis exploratorio y preprocesamiento         | 20%   |\n",
        "| 🤖 Selección y justificación del modelo             | 25%   |\n",
        "| 📁 Formato y validez del archivo de predicciones    | 5%    |\n",
        "| ⚙️ Ejecución correcta del notebook (sin intervención) | 10%   |\n",
        "| 📈 Rendimiento del modelo sobre el conjunto de test | 30%   |\n",
        "| ✍️ Claridad y calidad de las explicaciones          | 10%   |\n",
        "\n",
        "\n",
        "\n",
        "🔔 **Nota importante:**\n",
        "\n",
        "> El rendimiento del modelo se evaluará utilizando métricas estándar como el **F1-score** sobre el conjunto de test.\n",
        "\n",
        "> El archivo de predicciones debe respetar **estrictamente** el formato solicitado (`id` y `label`, separados por tabulador y con extensión `.tsv`).  \n",
        "  ❗ Si el archivo no cumple con este formato, **el ejercicio no podrá ser evaluado en esa sección**.\n",
        "\n",
        "> El/la estudiante con el **mayor F1-score** obtendrá la puntuación máxima en el apartado de rendimiento. El resto de calificaciones se ajustarán de forma proporcional al mejor resultado\n"
      ],
      "metadata": {
        "id": "VPaXLRNeAElo"
      }
    },
    {
      "cell_type": "markdown",
      "source": [
        "\n",
        "⚙️ **Requerimientos y reglas**\n",
        "\n",
        "- El notebook debe ejecutarse **de principio a fin sin intervención manual**.\n",
        "- Si utilizas librerías que no están incluidas por defecto en Google Colab, **asegúrate de instalarlas dentro del notebook** (por ejemplo: `!pip install ...`).\n",
        "\n",
        "- Algunas celdas incluyen identificadores especiales que indican ciertas normas que **debes** respetar:\n",
        " - `#NO-MODIFY: DATA LOAD`  \n",
        "    🔒 **No modifiques** el contenido de esta celda.\n",
        "\n",
        "  - `#NO-MODIFY: VARIABLE NAME`  \n",
        "    ✏️ Puedes modificar o añadir información **dentro de la celda**, pero **sin cambiar el nombre de la variable asignada**. No incluyas más variables de las existentes en la celda.\n",
        "\n",
        "  - `#MODIFY: ADD INFO TO SOLVE FUNCTION`  \n",
        "    🔧 Puedes modificar el **interior de la función** para resolver la tarea, pero **no cambies su nombre, la cabecera ni el `return`**.\n"
      ],
      "metadata": {
        "id": "3M19bykxA0ZP"
      }
    },
    {
      "cell_type": "markdown",
      "metadata": {
        "id": "lj9IcJEwIB91"
      },
      "source": [
        "# Tu resolución (rellena las celdas marcadas)"
      ]
    },
    {
      "cell_type": "markdown",
      "metadata": {
        "id": "IOXm4JVwIElL"
      },
      "source": [
        "## Obtención de datos"
      ]
    },
    {
      "cell_type": "markdown",
      "source": [
        "Descargamos los datos del [repositorio de Huggingface](https://huggingface.co/datasets/luisgasco/profner_classification_master)."
      ],
      "metadata": {
        "id": "gtOwX5HKCSfg"
      }
    },
    {
      "cell_type": "code",
      "execution_count": 60,
      "metadata": {
        "collapsed": true,
        "id": "aiOIGd78IG3y"
      },
      "outputs": [],
      "source": [
        "#NO-MODIFY: DATA LOAD\n",
        "from datasets import load_dataset, Dataset, DatasetDict, ClassLabel\n",
        "dataset = load_dataset(\"luisgasco/profner_classification_master\")"
      ]
    },
    {
      "cell_type": "markdown",
      "source": [
        "El dataset contiene tres subsets:\n",
        "- **train** y **validation**: Contienen el identificador del tweet, el texto, y su etiqueta, que podrá tener valor 1, si contiene una mención de una profesión; o valor 0, si no contiene una mención de una profesión.\n",
        "- **test**: El test set tambiíen contiene la información de label por un requerimiento de Huggingface, pero el contenido de esta variable es siempre \"-1\". Es decir que deberéis predecir nuevas etiquetas una vez hayáis entrenado el modelo utilizando el train y el validation set."
      ],
      "metadata": {
        "id": "nY-vjg88CfpW"
      }
    },
    {
      "cell_type": "markdown",
      "metadata": {
        "id": "163nmdUnIG-P"
      },
      "source": [
        "## Análisis exploratorio de datos"
      ]
    },
    {
      "cell_type": "markdown",
      "source": [
        "Para hacer el análisis exploratorio de datos, transformamos cada subset a un pandas dataframe para mayor comodidad."
      ],
      "metadata": {
        "id": "umz-kP7yDDkL"
      }
    },
    {
      "cell_type": "code",
      "execution_count": 61,
      "metadata": {
        "id": "KkphOXpCIhqj"
      },
      "outputs": [],
      "source": [
        "#NO-MODIFY: DATA LOAD\n",
        "dataset_train_df = dataset[\"train\"].to_pandas()\n",
        "dataset_val_df = dataset[\"validation\"].to_pandas()\n",
        "dataset_test_df = dataset[\"test\"].to_pandas()"
      ]
    },
    {
      "cell_type": "code",
      "source": [
        "dataset_train_df.head()"
      ],
      "metadata": {
        "id": "epAHtyj4YXaC",
        "outputId": "9a948596-d456-4cf4-efc0-584d35081224",
        "colab": {
          "base_uri": "https://localhost:8080/",
          "height": 206
        }
      },
      "execution_count": 62,
      "outputs": [
        {
          "output_type": "execute_result",
          "data": {
            "text/plain": [
              "              tweet_id                                               text  \\\n",
              "0  1275401361073586177  Las / os sanitarias / os no necesitan capas de...   \n",
              "1  1251580665948246023  Las residencias de mayores de Burgos suman 42 ...   \n",
              "2  1244272146265903106  @IreneMontero Utilice el tiempo de confinamien...   \n",
              "3  1263384060132495360  .@FreseniusKabi dona más de 110.000 mascarilla...   \n",
              "4  1250207505252265989  Judy y el confinamiento . Dia 31 . Mona de Pas...   \n",
              "\n",
              "   label  \n",
              "0      1  \n",
              "1      0  \n",
              "2      0  \n",
              "3      1  \n",
              "4      0  "
            ],
            "text/html": [
              "\n",
              "  <div id=\"df-105f4424-9eff-4ebb-aff5-21998755e0e7\" class=\"colab-df-container\">\n",
              "    <div>\n",
              "<style scoped>\n",
              "    .dataframe tbody tr th:only-of-type {\n",
              "        vertical-align: middle;\n",
              "    }\n",
              "\n",
              "    .dataframe tbody tr th {\n",
              "        vertical-align: top;\n",
              "    }\n",
              "\n",
              "    .dataframe thead th {\n",
              "        text-align: right;\n",
              "    }\n",
              "</style>\n",
              "<table border=\"1\" class=\"dataframe\">\n",
              "  <thead>\n",
              "    <tr style=\"text-align: right;\">\n",
              "      <th></th>\n",
              "      <th>tweet_id</th>\n",
              "      <th>text</th>\n",
              "      <th>label</th>\n",
              "    </tr>\n",
              "  </thead>\n",
              "  <tbody>\n",
              "    <tr>\n",
              "      <th>0</th>\n",
              "      <td>1275401361073586177</td>\n",
              "      <td>Las / os sanitarias / os no necesitan capas de...</td>\n",
              "      <td>1</td>\n",
              "    </tr>\n",
              "    <tr>\n",
              "      <th>1</th>\n",
              "      <td>1251580665948246023</td>\n",
              "      <td>Las residencias de mayores de Burgos suman 42 ...</td>\n",
              "      <td>0</td>\n",
              "    </tr>\n",
              "    <tr>\n",
              "      <th>2</th>\n",
              "      <td>1244272146265903106</td>\n",
              "      <td>@IreneMontero Utilice el tiempo de confinamien...</td>\n",
              "      <td>0</td>\n",
              "    </tr>\n",
              "    <tr>\n",
              "      <th>3</th>\n",
              "      <td>1263384060132495360</td>\n",
              "      <td>.@FreseniusKabi dona más de 110.000 mascarilla...</td>\n",
              "      <td>1</td>\n",
              "    </tr>\n",
              "    <tr>\n",
              "      <th>4</th>\n",
              "      <td>1250207505252265989</td>\n",
              "      <td>Judy y el confinamiento . Dia 31 . Mona de Pas...</td>\n",
              "      <td>0</td>\n",
              "    </tr>\n",
              "  </tbody>\n",
              "</table>\n",
              "</div>\n",
              "    <div class=\"colab-df-buttons\">\n",
              "\n",
              "  <div class=\"colab-df-container\">\n",
              "    <button class=\"colab-df-convert\" onclick=\"convertToInteractive('df-105f4424-9eff-4ebb-aff5-21998755e0e7')\"\n",
              "            title=\"Convert this dataframe to an interactive table.\"\n",
              "            style=\"display:none;\">\n",
              "\n",
              "  <svg xmlns=\"http://www.w3.org/2000/svg\" height=\"24px\" viewBox=\"0 -960 960 960\">\n",
              "    <path d=\"M120-120v-720h720v720H120Zm60-500h600v-160H180v160Zm220 220h160v-160H400v160Zm0 220h160v-160H400v160ZM180-400h160v-160H180v160Zm440 0h160v-160H620v160ZM180-180h160v-160H180v160Zm440 0h160v-160H620v160Z\"/>\n",
              "  </svg>\n",
              "    </button>\n",
              "\n",
              "  <style>\n",
              "    .colab-df-container {\n",
              "      display:flex;\n",
              "      gap: 12px;\n",
              "    }\n",
              "\n",
              "    .colab-df-convert {\n",
              "      background-color: #E8F0FE;\n",
              "      border: none;\n",
              "      border-radius: 50%;\n",
              "      cursor: pointer;\n",
              "      display: none;\n",
              "      fill: #1967D2;\n",
              "      height: 32px;\n",
              "      padding: 0 0 0 0;\n",
              "      width: 32px;\n",
              "    }\n",
              "\n",
              "    .colab-df-convert:hover {\n",
              "      background-color: #E2EBFA;\n",
              "      box-shadow: 0px 1px 2px rgba(60, 64, 67, 0.3), 0px 1px 3px 1px rgba(60, 64, 67, 0.15);\n",
              "      fill: #174EA6;\n",
              "    }\n",
              "\n",
              "    .colab-df-buttons div {\n",
              "      margin-bottom: 4px;\n",
              "    }\n",
              "\n",
              "    [theme=dark] .colab-df-convert {\n",
              "      background-color: #3B4455;\n",
              "      fill: #D2E3FC;\n",
              "    }\n",
              "\n",
              "    [theme=dark] .colab-df-convert:hover {\n",
              "      background-color: #434B5C;\n",
              "      box-shadow: 0px 1px 3px 1px rgba(0, 0, 0, 0.15);\n",
              "      filter: drop-shadow(0px 1px 2px rgba(0, 0, 0, 0.3));\n",
              "      fill: #FFFFFF;\n",
              "    }\n",
              "  </style>\n",
              "\n",
              "    <script>\n",
              "      const buttonEl =\n",
              "        document.querySelector('#df-105f4424-9eff-4ebb-aff5-21998755e0e7 button.colab-df-convert');\n",
              "      buttonEl.style.display =\n",
              "        google.colab.kernel.accessAllowed ? 'block' : 'none';\n",
              "\n",
              "      async function convertToInteractive(key) {\n",
              "        const element = document.querySelector('#df-105f4424-9eff-4ebb-aff5-21998755e0e7');\n",
              "        const dataTable =\n",
              "          await google.colab.kernel.invokeFunction('convertToInteractive',\n",
              "                                                    [key], {});\n",
              "        if (!dataTable) return;\n",
              "\n",
              "        const docLinkHtml = 'Like what you see? Visit the ' +\n",
              "          '<a target=\"_blank\" href=https://colab.research.google.com/notebooks/data_table.ipynb>data table notebook</a>'\n",
              "          + ' to learn more about interactive tables.';\n",
              "        element.innerHTML = '';\n",
              "        dataTable['output_type'] = 'display_data';\n",
              "        await google.colab.output.renderOutput(dataTable, element);\n",
              "        const docLink = document.createElement('div');\n",
              "        docLink.innerHTML = docLinkHtml;\n",
              "        element.appendChild(docLink);\n",
              "      }\n",
              "    </script>\n",
              "  </div>\n",
              "\n",
              "\n",
              "    <div id=\"df-2a2e8514-6ffb-43f4-96b6-fac60d82418f\">\n",
              "      <button class=\"colab-df-quickchart\" onclick=\"quickchart('df-2a2e8514-6ffb-43f4-96b6-fac60d82418f')\"\n",
              "                title=\"Suggest charts\"\n",
              "                style=\"display:none;\">\n",
              "\n",
              "<svg xmlns=\"http://www.w3.org/2000/svg\" height=\"24px\"viewBox=\"0 0 24 24\"\n",
              "     width=\"24px\">\n",
              "    <g>\n",
              "        <path d=\"M19 3H5c-1.1 0-2 .9-2 2v14c0 1.1.9 2 2 2h14c1.1 0 2-.9 2-2V5c0-1.1-.9-2-2-2zM9 17H7v-7h2v7zm4 0h-2V7h2v10zm4 0h-2v-4h2v4z\"/>\n",
              "    </g>\n",
              "</svg>\n",
              "      </button>\n",
              "\n",
              "<style>\n",
              "  .colab-df-quickchart {\n",
              "      --bg-color: #E8F0FE;\n",
              "      --fill-color: #1967D2;\n",
              "      --hover-bg-color: #E2EBFA;\n",
              "      --hover-fill-color: #174EA6;\n",
              "      --disabled-fill-color: #AAA;\n",
              "      --disabled-bg-color: #DDD;\n",
              "  }\n",
              "\n",
              "  [theme=dark] .colab-df-quickchart {\n",
              "      --bg-color: #3B4455;\n",
              "      --fill-color: #D2E3FC;\n",
              "      --hover-bg-color: #434B5C;\n",
              "      --hover-fill-color: #FFFFFF;\n",
              "      --disabled-bg-color: #3B4455;\n",
              "      --disabled-fill-color: #666;\n",
              "  }\n",
              "\n",
              "  .colab-df-quickchart {\n",
              "    background-color: var(--bg-color);\n",
              "    border: none;\n",
              "    border-radius: 50%;\n",
              "    cursor: pointer;\n",
              "    display: none;\n",
              "    fill: var(--fill-color);\n",
              "    height: 32px;\n",
              "    padding: 0;\n",
              "    width: 32px;\n",
              "  }\n",
              "\n",
              "  .colab-df-quickchart:hover {\n",
              "    background-color: var(--hover-bg-color);\n",
              "    box-shadow: 0 1px 2px rgba(60, 64, 67, 0.3), 0 1px 3px 1px rgba(60, 64, 67, 0.15);\n",
              "    fill: var(--button-hover-fill-color);\n",
              "  }\n",
              "\n",
              "  .colab-df-quickchart-complete:disabled,\n",
              "  .colab-df-quickchart-complete:disabled:hover {\n",
              "    background-color: var(--disabled-bg-color);\n",
              "    fill: var(--disabled-fill-color);\n",
              "    box-shadow: none;\n",
              "  }\n",
              "\n",
              "  .colab-df-spinner {\n",
              "    border: 2px solid var(--fill-color);\n",
              "    border-color: transparent;\n",
              "    border-bottom-color: var(--fill-color);\n",
              "    animation:\n",
              "      spin 1s steps(1) infinite;\n",
              "  }\n",
              "\n",
              "  @keyframes spin {\n",
              "    0% {\n",
              "      border-color: transparent;\n",
              "      border-bottom-color: var(--fill-color);\n",
              "      border-left-color: var(--fill-color);\n",
              "    }\n",
              "    20% {\n",
              "      border-color: transparent;\n",
              "      border-left-color: var(--fill-color);\n",
              "      border-top-color: var(--fill-color);\n",
              "    }\n",
              "    30% {\n",
              "      border-color: transparent;\n",
              "      border-left-color: var(--fill-color);\n",
              "      border-top-color: var(--fill-color);\n",
              "      border-right-color: var(--fill-color);\n",
              "    }\n",
              "    40% {\n",
              "      border-color: transparent;\n",
              "      border-right-color: var(--fill-color);\n",
              "      border-top-color: var(--fill-color);\n",
              "    }\n",
              "    60% {\n",
              "      border-color: transparent;\n",
              "      border-right-color: var(--fill-color);\n",
              "    }\n",
              "    80% {\n",
              "      border-color: transparent;\n",
              "      border-right-color: var(--fill-color);\n",
              "      border-bottom-color: var(--fill-color);\n",
              "    }\n",
              "    90% {\n",
              "      border-color: transparent;\n",
              "      border-bottom-color: var(--fill-color);\n",
              "    }\n",
              "  }\n",
              "</style>\n",
              "\n",
              "      <script>\n",
              "        async function quickchart(key) {\n",
              "          const quickchartButtonEl =\n",
              "            document.querySelector('#' + key + ' button');\n",
              "          quickchartButtonEl.disabled = true;  // To prevent multiple clicks.\n",
              "          quickchartButtonEl.classList.add('colab-df-spinner');\n",
              "          try {\n",
              "            const charts = await google.colab.kernel.invokeFunction(\n",
              "                'suggestCharts', [key], {});\n",
              "          } catch (error) {\n",
              "            console.error('Error during call to suggestCharts:', error);\n",
              "          }\n",
              "          quickchartButtonEl.classList.remove('colab-df-spinner');\n",
              "          quickchartButtonEl.classList.add('colab-df-quickchart-complete');\n",
              "        }\n",
              "        (() => {\n",
              "          let quickchartButtonEl =\n",
              "            document.querySelector('#df-2a2e8514-6ffb-43f4-96b6-fac60d82418f button');\n",
              "          quickchartButtonEl.style.display =\n",
              "            google.colab.kernel.accessAllowed ? 'block' : 'none';\n",
              "        })();\n",
              "      </script>\n",
              "    </div>\n",
              "\n",
              "    </div>\n",
              "  </div>\n"
            ],
            "application/vnd.google.colaboratory.intrinsic+json": {
              "type": "dataframe",
              "variable_name": "dataset_train_df",
              "summary": "{\n  \"name\": \"dataset_train_df\",\n  \"rows\": 2786,\n  \"fields\": [\n    {\n      \"column\": \"tweet_id\",\n      \"properties\": {\n        \"dtype\": \"string\",\n        \"num_unique_values\": 2786,\n        \"samples\": [\n          \"1251101441797881858\",\n          \"1253592409403002881\",\n          \"1257482039571501059\"\n        ],\n        \"semantic_type\": \"\",\n        \"description\": \"\"\n      }\n    },\n    {\n      \"column\": \"text\",\n      \"properties\": {\n        \"dtype\": \"string\",\n        \"num_unique_values\": 2786,\n        \"samples\": [\n          \"\\ud83d\\ude4c \\ud83d\\ude0d \\u00a1 Gracias por unirte al reto # BailaSinMiedo !\",\n          \"El gobierno de Murcia , con los votos de PP y C's y la abstenci\\u00f3n de Vox , aprueba los presupuestos con un recorte en sanidad de 57 millones . En plena pandemia y con la certeza de que habr\\u00e1 rebrotes . Y luego , sin despeinarse , a aplaudir a los sanitarios . https://t.co/VyVrKvyfQf\",\n          \"Las empleadas de hogar afectadas profesionalmente por el COVID-19 podr\\u00e1n pedir un subsidio extraordinario https://t.co/SmmThxfzG4\"\n        ],\n        \"semantic_type\": \"\",\n        \"description\": \"\"\n      }\n    },\n    {\n      \"column\": \"label\",\n      \"properties\": {\n        \"dtype\": \"number\",\n        \"std\": 0,\n        \"min\": 0,\n        \"max\": 1,\n        \"num_unique_values\": 2,\n        \"samples\": [\n          0,\n          1\n        ],\n        \"semantic_type\": \"\",\n        \"description\": \"\"\n      }\n    }\n  ]\n}"
            }
          },
          "metadata": {},
          "execution_count": 62
        }
      ]
    },
    {
      "cell_type": "markdown",
      "source": [
        "**Número de documentos**\n",
        "\n",
        "Obten con la función `get_num_docs_evaluation()` el número de documentos del dataset de training y validation.\n",
        "\n",
        "> Recuerda incorporar la información para el cálculo dentro del a siguiente celda, sin modificar los atributos de entrada ni de salida de la función, ni su nombre."
      ],
      "metadata": {
        "id": "kJ4lLzjODJTc"
      }
    },
    {
      "cell_type": "code",
      "source": [
        "#MODIFY: ADD INFO TO SOLVE FUNCTION\n",
        "def get_num_docs_evaluation(dataset_df):\n",
        "  # Modifica la función.\n",
        "  for num_docs in dataset_df:\n",
        "    num_docs = len(dataset_df)\n",
        "  # No modifiques el return\n",
        "  return num_docs\n"
      ],
      "metadata": {
        "id": "8v9AXqgMEh0m"
      },
      "execution_count": 63,
      "outputs": []
    },
    {
      "cell_type": "markdown",
      "source": [
        "Una vez generada la función, puedes utilizarla posteriormente para calcular resultados y comentarlos"
      ],
      "metadata": {
        "id": "PVxQg5u_FPlC"
      }
    },
    {
      "cell_type": "code",
      "source": [
        "# Aplica la función\n",
        "print(f'El dataset train tiene {get_num_docs_evaluation(dataset_train_df)} documentos')\n",
        "print(f'El dataset validation tiene {get_num_docs_evaluation(dataset_val_df)} documentos')\n"
      ],
      "metadata": {
        "id": "5l82IvmOFUBr",
        "outputId": "c0abb67c-ea5c-42f0-8140-02ea1f69dfba",
        "colab": {
          "base_uri": "https://localhost:8080/"
        }
      },
      "execution_count": 64,
      "outputs": [
        {
          "output_type": "stream",
          "name": "stdout",
          "text": [
            "El dataset train tiene 2786 documentos\n",
            "El dataset validation tiene 999 documentos\n"
          ]
        }
      ]
    },
    {
      "cell_type": "markdown",
      "source": [
        "**Número de documentos duplicados**\n",
        "\n",
        "Obten con la función `detect_duplicates_evaluation()` el número de documentos duplicados del dataset de training y validation.\n",
        "\n",
        "> Recuerda incorporar la información para el cálculo dentro del a siguiente celda, sin modificar los atributos de entrada ni de salida de la función, ni su nombre."
      ],
      "metadata": {
        "id": "TrxV3XkcFYhb"
      }
    },
    {
      "cell_type": "code",
      "execution_count": 65,
      "metadata": {
        "id": "E_cviBv-IxHJ"
      },
      "outputs": [],
      "source": [
        "#MODIFY: ADD INFO TO SOLVE FUNCTION\n",
        "def detect_duplicates_evaluation(dataset_df):\n",
        "  # Modifica la función.\n",
        "  for num_duplicates in dataset_df:\n",
        "    num_duplicates = np.sum(dataset_df.duplicated())\n",
        "  # No modifiques el return\n",
        "  return num_duplicates"
      ]
    },
    {
      "cell_type": "markdown",
      "source": [
        "Una vez generada la función, puedes utilizarla posteriormente para calcular resultados y comentarlos"
      ],
      "metadata": {
        "id": "y_4zYMnOFjhR"
      }
    },
    {
      "cell_type": "code",
      "source": [
        "# Aplica la función\n",
        "print(f'El dataset train tiene {detect_duplicates_evaluation(dataset_train_df)} documentos duplicados')\n",
        "print(f'El dataset validation tiene {detect_duplicates_evaluation(dataset_val_df)} documentos duplicados')"
      ],
      "metadata": {
        "id": "4AgUKaVQFjhS",
        "outputId": "ae5f80d3-6c7e-47bd-f46c-da96ce37ee5c",
        "colab": {
          "base_uri": "https://localhost:8080/"
        }
      },
      "execution_count": 66,
      "outputs": [
        {
          "output_type": "stream",
          "name": "stdout",
          "text": [
            "El dataset train tiene 0 documentos duplicados\n",
            "El dataset validation tiene 0 documentos duplicados\n"
          ]
        }
      ]
    },
    {
      "cell_type": "markdown",
      "metadata": {
        "id": "qZq8ZXzkJk0t"
      },
      "source": [
        "**Número de documentos por cada clase:**\n",
        "\n",
        "\n",
        "Obten con la función `analyse_num_labels_evaluation()` para calcular el número de documentos de cada categoría en el dataset\n",
        "\n",
        "> Recuerda incorporar la información para el cálculo dentro del a siguiente celda, sin modificar los atributos de entrada ni de salida de la función, ni su nombre."
      ]
    },
    {
      "cell_type": "code",
      "execution_count": 67,
      "metadata": {
        "id": "Nvfd9yVVJo6-"
      },
      "outputs": [],
      "source": [
        "#MODIFY: ADD INFO TO SOLVE FUNCTION\n",
        "def analyse_num_labels_evaluation(dataset_df):\n",
        "  # Modifica la función.\n",
        "  num_positives = dataset_df[dataset_df['label'] == 1].shape[0]\n",
        "  num_negatives = dataset_df[dataset_df['label'] == 0].shape[0]\n",
        "  # No modifiques el return\n",
        "  return num_positives, num_negatives"
      ]
    },
    {
      "cell_type": "markdown",
      "source": [
        "Una vez generada la función, puedes utilizarla posteriormente para calcular resultados y comentarlos"
      ],
      "metadata": {
        "id": "zuRURsOqGVF_"
      }
    },
    {
      "cell_type": "code",
      "source": [
        "# Aplica la función\n",
        "num_pos_train, num_neg_train = analyse_num_labels_evaluation(dataset_train_df)\n",
        "num_pos_val, num_neg_val = analyse_num_labels_evaluation(dataset_val_df)\n",
        "\n",
        "print(f'El dataset train tiene {num_pos_train} documentos positivos y {num_neg_train} negativos')\n",
        "print(f'El dataset validation tiene {num_pos_val} documentos positivos y {num_neg_val} negativos')\n"
      ],
      "metadata": {
        "id": "IUx_-_wFGVGF",
        "outputId": "1dc6dd5c-4427-4397-cf78-28b97825601a",
        "colab": {
          "base_uri": "https://localhost:8080/"
        }
      },
      "execution_count": 68,
      "outputs": [
        {
          "output_type": "stream",
          "name": "stdout",
          "text": [
            "El dataset train tiene 1393 documentos positivos y 1393 negativos\n",
            "El dataset validation tiene 238 documentos positivos y 761 negativos\n"
          ]
        }
      ]
    },
    {
      "cell_type": "code",
      "source": [
        "ax, fig = plt.subplots()\n",
        "etiquetas = dataset_train_df.label.value_counts()\n",
        "etiquetas.plot(kind= 'bar', color= [\"blue\", \"green\"])\n",
        "plt.title('Bar chart')\n",
        "plt.show()"
      ],
      "metadata": {
        "id": "F-D3GzoYzs96",
        "outputId": "787e27ab-c975-4429-f0dc-2da4683f88a2",
        "colab": {
          "base_uri": "https://localhost:8080/",
          "height": 467
        }
      },
      "execution_count": 69,
      "outputs": [
        {
          "output_type": "display_data",
          "data": {
            "text/plain": [
              "<Figure size 640x480 with 1 Axes>"
            ],
            "image/png": "[encoded data removed]"
          },
          "metadata": {}
        }
      ]
    },
    {
      "cell_type": "markdown",
      "source": [
        "El dataset de train tiene un buen balanceo de datos como podemos ver en el grafico (1393 documentos en ambas partes)."
      ],
      "metadata": {
        "id": "x8Q73RYI2L3e"
      }
    },
    {
      "cell_type": "markdown",
      "metadata": {
        "id": "hxXknuNvKK8f"
      },
      "source": [
        "**Distribución de la longitud de los tweet en caracteres:**"
      ]
    },
    {
      "cell_type": "code",
      "execution_count": 70,
      "metadata": {
        "id": "e_rLDRgCKU8j"
      },
      "outputs": [],
      "source": [
        "dataset_train_df[\"char_len\"] = dataset_train_df[\"text\"].apply(lambda x: len(x))\n"
      ]
    },
    {
      "cell_type": "code",
      "source": [
        "dataset_train_df.head()"
      ],
      "metadata": {
        "id": "L4rUQzPJr6VZ",
        "outputId": "61fdd380-e726-4d00-cd74-ddab069f6ab0",
        "colab": {
          "base_uri": "https://localhost:8080/",
          "height": 206
        }
      },
      "execution_count": 71,
      "outputs": [
        {
          "output_type": "execute_result",
          "data": {
            "text/plain": [
              "              tweet_id                                               text  \\\n",
              "0  1275401361073586177  Las / os sanitarias / os no necesitan capas de...   \n",
              "1  1251580665948246023  Las residencias de mayores de Burgos suman 42 ...   \n",
              "2  1244272146265903106  @IreneMontero Utilice el tiempo de confinamien...   \n",
              "3  1263384060132495360  .@FreseniusKabi dona más de 110.000 mascarilla...   \n",
              "4  1250207505252265989  Judy y el confinamiento . Dia 31 . Mona de Pas...   \n",
              "\n",
              "   label  char_len  \n",
              "0      1       256  \n",
              "1      0       156  \n",
              "2      0       108  \n",
              "3      1       194  \n",
              "4      0       260  "
            ],
            "text/html": [
              "\n",
              "  <div id=\"df-3d9d5767-a6b7-4a38-90fd-0a9785a11923\" class=\"colab-df-container\">\n",
              "    <div>\n",
              "<style scoped>\n",
              "    .dataframe tbody tr th:only-of-type {\n",
              "        vertical-align: middle;\n",
              "    }\n",
              "\n",
              "    .dataframe tbody tr th {\n",
              "        vertical-align: top;\n",
              "    }\n",
              "\n",
              "    .dataframe thead th {\n",
              "        text-align: right;\n",
              "    }\n",
              "</style>\n",
              "<table border=\"1\" class=\"dataframe\">\n",
              "  <thead>\n",
              "    <tr style=\"text-align: right;\">\n",
              "      <th></th>\n",
              "      <th>tweet_id</th>\n",
              "      <th>text</th>\n",
              "      <th>label</th>\n",
              "      <th>char_len</th>\n",
              "    </tr>\n",
              "  </thead>\n",
              "  <tbody>\n",
              "    <tr>\n",
              "      <th>0</th>\n",
              "      <td>1275401361073586177</td>\n",
              "      <td>Las / os sanitarias / os no necesitan capas de...</td>\n",
              "      <td>1</td>\n",
              "      <td>256</td>\n",
              "    </tr>\n",
              "    <tr>\n",
              "      <th>1</th>\n",
              "      <td>1251580665948246023</td>\n",
              "      <td>Las residencias de mayores de Burgos suman 42 ...</td>\n",
              "      <td>0</td>\n",
              "      <td>156</td>\n",
              "    </tr>\n",
              "    <tr>\n",
              "      <th>2</th>\n",
              "      <td>1244272146265903106</td>\n",
              "      <td>@IreneMontero Utilice el tiempo de confinamien...</td>\n",
              "      <td>0</td>\n",
              "      <td>108</td>\n",
              "    </tr>\n",
              "    <tr>\n",
              "      <th>3</th>\n",
              "      <td>1263384060132495360</td>\n",
              "      <td>.@FreseniusKabi dona más de 110.000 mascarilla...</td>\n",
              "      <td>1</td>\n",
              "      <td>194</td>\n",
              "    </tr>\n",
              "    <tr>\n",
              "      <th>4</th>\n",
              "      <td>1250207505252265989</td>\n",
              "      <td>Judy y el confinamiento . Dia 31 . Mona de Pas...</td>\n",
              "      <td>0</td>\n",
              "      <td>260</td>\n",
              "    </tr>\n",
              "  </tbody>\n",
              "</table>\n",
              "</div>\n",
              "    <div class=\"colab-df-buttons\">\n",
              "\n",
              "  <div class=\"colab-df-container\">\n",
              "    <button class=\"colab-df-convert\" onclick=\"convertToInteractive('df-3d9d5767-a6b7-4a38-90fd-0a9785a11923')\"\n",
              "            title=\"Convert this dataframe to an interactive table.\"\n",
              "            style=\"display:none;\">\n",
              "\n",
              "  <svg xmlns=\"http://www.w3.org/2000/svg\" height=\"24px\" viewBox=\"0 -960 960 960\">\n",
              "    <path d=\"M120-120v-720h720v720H120Zm60-500h600v-160H180v160Zm220 220h160v-160H400v160Zm0 220h160v-160H400v160ZM180-400h160v-160H180v160Zm440 0h160v-160H620v160ZM180-180h160v-160H180v160Zm440 0h160v-160H620v160Z\"/>\n",
              "  </svg>\n",
              "    </button>\n",
              "\n",
              "  <style>\n",
              "    .colab-df-container {\n",
              "      display:flex;\n",
              "      gap: 12px;\n",
              "    }\n",
              "\n",
              "    .colab-df-convert {\n",
              "      background-color: #E8F0FE;\n",
              "      border: none;\n",
              "      border-radius: 50%;\n",
              "      cursor: pointer;\n",
              "      display: none;\n",
              "      fill: #1967D2;\n",
              "      height: 32px;\n",
              "      padding: 0 0 0 0;\n",
              "      width: 32px;\n",
              "    }\n",
              "\n",
              "    .colab-df-convert:hover {\n",
              "      background-color: #E2EBFA;\n",
              "      box-shadow: 0px 1px 2px rgba(60, 64, 67, 0.3), 0px 1px 3px 1px rgba(60, 64, 67, 0.15);\n",
              "      fill: #174EA6;\n",
              "    }\n",
              "\n",
              "    .colab-df-buttons div {\n",
              "      margin-bottom: 4px;\n",
              "    }\n",
              "\n",
              "    [theme=dark] .colab-df-convert {\n",
              "      background-color: #3B4455;\n",
              "      fill: #D2E3FC;\n",
              "    }\n",
              "\n",
              "    [theme=dark] .colab-df-convert:hover {\n",
              "      background-color: #434B5C;\n",
              "      box-shadow: 0px 1px 3px 1px rgba(0, 0, 0, 0.15);\n",
              "      filter: drop-shadow(0px 1px 2px rgba(0, 0, 0, 0.3));\n",
              "      fill: #FFFFFF;\n",
              "    }\n",
              "  </style>\n",
              "\n",
              "    <script>\n",
              "      const buttonEl =\n",
              "        document.querySelector('#df-3d9d5767-a6b7-4a38-90fd-0a9785a11923 button.colab-df-convert');\n",
              "      buttonEl.style.display =\n",
              "        google.colab.kernel.accessAllowed ? 'block' : 'none';\n",
              "\n",
              "      async function convertToInteractive(key) {\n",
              "        const element = document.querySelector('#df-3d9d5767-a6b7-4a38-90fd-0a9785a11923');\n",
              "        const dataTable =\n",
              "          await google.colab.kernel.invokeFunction('convertToInteractive',\n",
              "                                                    [key], {});\n",
              "        if (!dataTable) return;\n",
              "\n",
              "        const docLinkHtml = 'Like what you see? Visit the ' +\n",
              "          '<a target=\"_blank\" href=https://colab.research.google.com/notebooks/data_table.ipynb>data table notebook</a>'\n",
              "          + ' to learn more about interactive tables.';\n",
              "        element.innerHTML = '';\n",
              "        dataTable['output_type'] = 'display_data';\n",
              "        await google.colab.output.renderOutput(dataTable, element);\n",
              "        const docLink = document.createElement('div');\n",
              "        docLink.innerHTML = docLinkHtml;\n",
              "        element.appendChild(docLink);\n",
              "      }\n",
              "    </script>\n",
              "  </div>\n",
              "\n",
              "\n",
              "    <div id=\"df-2eadd65c-9828-464a-9beb-2ab272653b54\">\n",
              "      <button class=\"colab-df-quickchart\" onclick=\"quickchart('df-2eadd65c-9828-464a-9beb-2ab272653b54')\"\n",
              "                title=\"Suggest charts\"\n",
              "                style=\"display:none;\">\n",
              "\n",
              "<svg xmlns=\"http://www.w3.org/2000/svg\" height=\"24px\"viewBox=\"0 0 24 24\"\n",
              "     width=\"24px\">\n",
              "    <g>\n",
              "        <path d=\"M19 3H5c-1.1 0-2 .9-2 2v14c0 1.1.9 2 2 2h14c1.1 0 2-.9 2-2V5c0-1.1-.9-2-2-2zM9 17H7v-7h2v7zm4 0h-2V7h2v10zm4 0h-2v-4h2v4z\"/>\n",
              "    </g>\n",
              "</svg>\n",
              "      </button>\n",
              "\n",
              "<style>\n",
              "  .colab-df-quickchart {\n",
              "      --bg-color: #E8F0FE;\n",
              "      --fill-color: #1967D2;\n",
              "      --hover-bg-color: #E2EBFA;\n",
              "      --hover-fill-color: #174EA6;\n",
              "      --disabled-fill-color: #AAA;\n",
              "      --disabled-bg-color: #DDD;\n",
              "  }\n",
              "\n",
              "  [theme=dark] .colab-df-quickchart {\n",
              "      --bg-color: #3B4455;\n",
              "      --fill-color: #D2E3FC;\n",
              "      --hover-bg-color: #434B5C;\n",
              "      --hover-fill-color: #FFFFFF;\n",
              "      --disabled-bg-color: #3B4455;\n",
              "      --disabled-fill-color: #666;\n",
              "  }\n",
              "\n",
              "  .colab-df-quickchart {\n",
              "    background-color: var(--bg-color);\n",
              "    border: none;\n",
              "    border-radius: 50%;\n",
              "    cursor: pointer;\n",
              "    display: none;\n",
              "    fill: var(--fill-color);\n",
              "    height: 32px;\n",
              "    padding: 0;\n",
              "    width: 32px;\n",
              "  }\n",
              "\n",
              "  .colab-df-quickchart:hover {\n",
              "    background-color: var(--hover-bg-color);\n",
              "    box-shadow: 0 1px 2px rgba(60, 64, 67, 0.3), 0 1px 3px 1px rgba(60, 64, 67, 0.15);\n",
              "    fill: var(--button-hover-fill-color);\n",
              "  }\n",
              "\n",
              "  .colab-df-quickchart-complete:disabled,\n",
              "  .colab-df-quickchart-complete:disabled:hover {\n",
              "    background-color: var(--disabled-bg-color);\n",
              "    fill: var(--disabled-fill-color);\n",
              "    box-shadow: none;\n",
              "  }\n",
              "\n",
              "  .colab-df-spinner {\n",
              "    border: 2px solid var(--fill-color);\n",
              "    border-color: transparent;\n",
              "    border-bottom-color: var(--fill-color);\n",
              "    animation:\n",
              "      spin 1s steps(1) infinite;\n",
              "  }\n",
              "\n",
              "  @keyframes spin {\n",
              "    0% {\n",
              "      border-color: transparent;\n",
              "      border-bottom-color: var(--fill-color);\n",
              "      border-left-color: var(--fill-color);\n",
              "    }\n",
              "    20% {\n",
              "      border-color: transparent;\n",
              "      border-left-color: var(--fill-color);\n",
              "      border-top-color: var(--fill-color);\n",
              "    }\n",
              "    30% {\n",
              "      border-color: transparent;\n",
              "      border-left-color: var(--fill-color);\n",
              "      border-top-color: var(--fill-color);\n",
              "      border-right-color: var(--fill-color);\n",
              "    }\n",
              "    40% {\n",
              "      border-color: transparent;\n",
              "      border-right-color: var(--fill-color);\n",
              "      border-top-color: var(--fill-color);\n",
              "    }\n",
              "    60% {\n",
              "      border-color: transparent;\n",
              "      border-right-color: var(--fill-color);\n",
              "    }\n",
              "    80% {\n",
              "      border-color: transparent;\n",
              "      border-right-color: var(--fill-color);\n",
              "      border-bottom-color: var(--fill-color);\n",
              "    }\n",
              "    90% {\n",
              "      border-color: transparent;\n",
              "      border-bottom-color: var(--fill-color);\n",
              "    }\n",
              "  }\n",
              "</style>\n",
              "\n",
              "      <script>\n",
              "        async function quickchart(key) {\n",
              "          const quickchartButtonEl =\n",
              "            document.querySelector('#' + key + ' button');\n",
              "          quickchartButtonEl.disabled = true;  // To prevent multiple clicks.\n",
              "          quickchartButtonEl.classList.add('colab-df-spinner');\n",
              "          try {\n",
              "            const charts = await google.colab.kernel.invokeFunction(\n",
              "                'suggestCharts', [key], {});\n",
              "          } catch (error) {\n",
              "            console.error('Error during call to suggestCharts:', error);\n",
              "          }\n",
              "          quickchartButtonEl.classList.remove('colab-df-spinner');\n",
              "          quickchartButtonEl.classList.add('colab-df-quickchart-complete');\n",
              "        }\n",
              "        (() => {\n",
              "          let quickchartButtonEl =\n",
              "            document.querySelector('#df-2eadd65c-9828-464a-9beb-2ab272653b54 button');\n",
              "          quickchartButtonEl.style.display =\n",
              "            google.colab.kernel.accessAllowed ? 'block' : 'none';\n",
              "        })();\n",
              "      </script>\n",
              "    </div>\n",
              "\n",
              "    </div>\n",
              "  </div>\n"
            ],
            "application/vnd.google.colaboratory.intrinsic+json": {
              "type": "dataframe",
              "variable_name": "dataset_train_df",
              "summary": "{\n  \"name\": \"dataset_train_df\",\n  \"rows\": 2786,\n  \"fields\": [\n    {\n      \"column\": \"tweet_id\",\n      \"properties\": {\n        \"dtype\": \"string\",\n        \"num_unique_values\": 2786,\n        \"samples\": [\n          \"1251101441797881858\",\n          \"1253592409403002881\",\n          \"1257482039571501059\"\n        ],\n        \"semantic_type\": \"\",\n        \"description\": \"\"\n      }\n    },\n    {\n      \"column\": \"text\",\n      \"properties\": {\n        \"dtype\": \"string\",\n        \"num_unique_values\": 2786,\n        \"samples\": [\n          \"\\ud83d\\ude4c \\ud83d\\ude0d \\u00a1 Gracias por unirte al reto # BailaSinMiedo !\",\n          \"El gobierno de Murcia , con los votos de PP y C's y la abstenci\\u00f3n de Vox , aprueba los presupuestos con un recorte en sanidad de 57 millones . En plena pandemia y con la certeza de que habr\\u00e1 rebrotes . Y luego , sin despeinarse , a aplaudir a los sanitarios . https://t.co/VyVrKvyfQf\",\n          \"Las empleadas de hogar afectadas profesionalmente por el COVID-19 podr\\u00e1n pedir un subsidio extraordinario https://t.co/SmmThxfzG4\"\n        ],\n        \"semantic_type\": \"\",\n        \"description\": \"\"\n      }\n    },\n    {\n      \"column\": \"label\",\n      \"properties\": {\n        \"dtype\": \"number\",\n        \"std\": 0,\n        \"min\": 0,\n        \"max\": 1,\n        \"num_unique_values\": 2,\n        \"samples\": [\n          0,\n          1\n        ],\n        \"semantic_type\": \"\",\n        \"description\": \"\"\n      }\n    },\n    {\n      \"column\": \"char_len\",\n      \"properties\": {\n        \"dtype\": \"number\",\n        \"std\": 77,\n        \"min\": 10,\n        \"max\": 454,\n        \"num_unique_values\": 314,\n        \"samples\": [\n          250,\n          248\n        ],\n        \"semantic_type\": \"\",\n        \"description\": \"\"\n      }\n    }\n  ]\n}"
            }
          },
          "metadata": {},
          "execution_count": 71
        }
      ]
    },
    {
      "cell_type": "code",
      "source": [
        "fig = plt.figure(figsize=(14,12))\n",
        "sns.set_style(\"whitegrid\")\n",
        "\n",
        "sns.displot(data=dataset_train_df, x=\"char_len\", hue=\"label\", kde=True, legend=True)\n",
        "plt.legend([\"Profesion\", \"No Profesion\"])\n",
        "\n",
        "plt.title('Distribucion longitud caracteres', fontsize=16)\n",
        "plt.xlabel('Caracteres', fontsize=16)\n",
        "plt.ylabel('Densidad', fontsize=16)\n",
        "\n",
        "plt.show()\n"
      ],
      "metadata": {
        "id": "mqg5YYtNxYj3",
        "outputId": "8ba2349a-8c84-4680-8550-2993b3160827",
        "colab": {
          "base_uri": "https://localhost:8080/",
          "height": 554
        }
      },
      "execution_count": 72,
      "outputs": [
        {
          "output_type": "display_data",
          "data": {
            "text/plain": [
              "<Figure size 1400x1200 with 0 Axes>"
            ]
          },
          "metadata": {}
        },
        {
          "output_type": "display_data",
          "data": {
            "text/plain": [
              "<Figure size 558.875x500 with 1 Axes>"
            ],
            "image/png": "[encoded data removed]"
          },
          "metadata": {}
        }
      ]
    },
    {
      "cell_type": "markdown",
      "source": [
        "Los tweets con Profesion son los mas largos, probablemente estan contando como les ha afectado a su trabajo la pandemia."
      ],
      "metadata": {
        "id": "I5HOhdAI5Dsv"
      }
    },
    {
      "cell_type": "markdown",
      "metadata": {
        "id": "KrtI16QKKNZq"
      },
      "source": [
        "**Análisis de contenido de los tweets**\n",
        "\n",
        "Para ello utiliza wordclouds"
      ]
    },
    {
      "cell_type": "code",
      "execution_count": 73,
      "metadata": {
        "id": "VZCi84lYK4jW"
      },
      "outputs": [],
      "source": [
        "txt_cat0 = \",\".join(dataset_train_df[dataset_train_df.label==0].text.to_list())\n",
        "txt_cat1 = \",\".join(dataset_train_df[dataset_train_df.label==1].text.to_list())"
      ]
    },
    {
      "cell_type": "code",
      "source": [
        "es_stopwords = stopwords.words('spanish')\n",
        "\n",
        "wordcloud = WordCloud(background_color=\"white\", max_words=5000, contour_width=0,\n",
        "                      contour_color='steelblue', stopwords=es_stopwords,\n",
        "                      normalize_plurals = True)"
      ],
      "metadata": {
        "id": "Eot6NNkQt5jM"
      },
      "execution_count": 74,
      "outputs": []
    },
    {
      "cell_type": "code",
      "source": [
        "# Label 0\n",
        "wordcloud.generate(txt_cat0)\n",
        "wordcloud.to_image()"
      ],
      "metadata": {
        "id": "8DGgGeveua5j",
        "outputId": "542ed14a-1b1d-407e-ea8b-4e3cda7edd5e",
        "colab": {
          "base_uri": "https://localhost:8080/",
          "height": 217
        }
      },
      "execution_count": 75,
      "outputs": [
        {
          "output_type": "execute_result",
          "data": {
            "text/plain": [
              "<PIL.Image.Image image mode=RGB size=400x200>"
            ],
            "image/png": "[encoded data removed]",
            "image/jpeg": "[encoded data removed]"
          },
          "metadata": {},
          "execution_count": 75
        }
      ]
    },
    {
      "cell_type": "code",
      "source": [
        "# Label 1\n",
        "wordcloud.generate(txt_cat1)\n",
        "wordcloud.to_image()"
      ],
      "metadata": {
        "id": "UkKRR6_UukVr",
        "outputId": "b1bff865-cc19-4f30-86cf-4039ba0de643",
        "colab": {
          "base_uri": "https://localhost:8080/",
          "height": 217
        }
      },
      "execution_count": 76,
      "outputs": [
        {
          "output_type": "execute_result",
          "data": {
            "text/plain": [
              "<PIL.Image.Image image mode=RGB size=400x200>"
            ],
            "image/png": "[encoded data removed]",
            "image/jpeg": "[encoded data removed]"
          },
          "metadata": {},
          "execution_count": 76
        }
      ]
    },
    {
      "cell_type": "markdown",
      "source": [
        "En ambas categorias hay muchas menciones a sitios web, al coronavirus y a muchas cosas relacionadas con ello, como pandemia, confinamiento, etc.\n",
        "Si que en la categoria 1 podemos visualizar varias palabras como erte, trabajo y trabajadores, que aunque no hay menciones a trabajos especificos, nos puede indicar que en los tweets se este hablando de profesiones."
      ],
      "metadata": {
        "id": "Iy8DxJ9F8gxx"
      }
    },
    {
      "cell_type": "code",
      "source": [
        "# Eliminar espacios\n",
        "def eliminar_espacios(text):\n",
        "    return  \" \".join(text.split())\n",
        "\n",
        "# Minusculas\n",
        "def texto_to_lower(text):\n",
        "  return text.lower()"
      ],
      "metadata": {
        "id": "uQvPiKcrgLmV"
      },
      "execution_count": 77,
      "outputs": []
    },
    {
      "cell_type": "code",
      "source": [
        "# Espacios y minusculas\n",
        "tqdm.pandas()\n",
        "\n",
        "dataset_train_df[\"normalized\"] = dataset_train_df[\"text\"].progress_apply(lambda x: eliminar_espacios(x))\n",
        "dataset_train_df[\"normalized\"] = dataset_train_df[\"normalized\"].progress_apply(lambda x: texto_to_lower(x))\n",
        "\n",
        "dataset_train_df.head()"
      ],
      "metadata": {
        "colab": {
          "base_uri": "https://localhost:8080/",
          "height": 241
        },
        "id": "RCSUgbSrgSTy",
        "outputId": "d170b0a5-a532-4f61-ed43-f5285b2bd83c"
      },
      "execution_count": 78,
      "outputs": [
        {
          "output_type": "stream",
          "name": "stderr",
          "text": [
            "100%|██████████| 2786/2786 [00:00<00:00, 35476.32it/s]\n",
            "100%|██████████| 2786/2786 [00:00<00:00, 43343.05it/s]\n"
          ]
        },
        {
          "output_type": "execute_result",
          "data": {
            "text/plain": [
              "              tweet_id                                               text  \\\n",
              "0  1275401361073586177  Las / os sanitarias / os no necesitan capas de...   \n",
              "1  1251580665948246023  Las residencias de mayores de Burgos suman 42 ...   \n",
              "2  1244272146265903106  @IreneMontero Utilice el tiempo de confinamien...   \n",
              "3  1263384060132495360  .@FreseniusKabi dona más de 110.000 mascarilla...   \n",
              "4  1250207505252265989  Judy y el confinamiento . Dia 31 . Mona de Pas...   \n",
              "\n",
              "   label  char_len                                         normalized  \n",
              "0      1       256  las / os sanitarias / os no necesitan capas de...  \n",
              "1      0       156  las residencias de mayores de burgos suman 42 ...  \n",
              "2      0       108  @irenemontero utilice el tiempo de confinamien...  \n",
              "3      1       194  .@freseniuskabi dona más de 110.000 mascarilla...  \n",
              "4      0       260  judy y el confinamiento . dia 31 . mona de pas...  "
            ],
            "text/html": [
              "\n",
              "  <div id=\"df-de6c3a41-6075-4bbd-8d1e-aef5479a53c1\" class=\"colab-df-container\">\n",
              "    <div>\n",
              "<style scoped>\n",
              "    .dataframe tbody tr th:only-of-type {\n",
              "        vertical-align: middle;\n",
              "    }\n",
              "\n",
              "    .dataframe tbody tr th {\n",
              "        vertical-align: top;\n",
              "    }\n",
              "\n",
              "    .dataframe thead th {\n",
              "        text-align: right;\n",
              "    }\n",
              "</style>\n",
              "<table border=\"1\" class=\"dataframe\">\n",
              "  <thead>\n",
              "    <tr style=\"text-align: right;\">\n",
              "      <th></th>\n",
              "      <th>tweet_id</th>\n",
              "      <th>text</th>\n",
              "      <th>label</th>\n",
              "      <th>char_len</th>\n",
              "      <th>normalized</th>\n",
              "    </tr>\n",
              "  </thead>\n",
              "  <tbody>\n",
              "    <tr>\n",
              "      <th>0</th>\n",
              "      <td>1275401361073586177</td>\n",
              "      <td>Las / os sanitarias / os no necesitan capas de...</td>\n",
              "      <td>1</td>\n",
              "      <td>256</td>\n",
              "      <td>las / os sanitarias / os no necesitan capas de...</td>\n",
              "    </tr>\n",
              "    <tr>\n",
              "      <th>1</th>\n",
              "      <td>1251580665948246023</td>\n",
              "      <td>Las residencias de mayores de Burgos suman 42 ...</td>\n",
              "      <td>0</td>\n",
              "      <td>156</td>\n",
              "      <td>las residencias de mayores de burgos suman 42 ...</td>\n",
              "    </tr>\n",
              "    <tr>\n",
              "      <th>2</th>\n",
              "      <td>1244272146265903106</td>\n",
              "      <td>@IreneMontero Utilice el tiempo de confinamien...</td>\n",
              "      <td>0</td>\n",
              "      <td>108</td>\n",
              "      <td>@irenemontero utilice el tiempo de confinamien...</td>\n",
              "    </tr>\n",
              "    <tr>\n",
              "      <th>3</th>\n",
              "      <td>1263384060132495360</td>\n",
              "      <td>.@FreseniusKabi dona más de 110.000 mascarilla...</td>\n",
              "      <td>1</td>\n",
              "      <td>194</td>\n",
              "      <td>.@freseniuskabi dona más de 110.000 mascarilla...</td>\n",
              "    </tr>\n",
              "    <tr>\n",
              "      <th>4</th>\n",
              "      <td>1250207505252265989</td>\n",
              "      <td>Judy y el confinamiento . Dia 31 . Mona de Pas...</td>\n",
              "      <td>0</td>\n",
              "      <td>260</td>\n",
              "      <td>judy y el confinamiento . dia 31 . mona de pas...</td>\n",
              "    </tr>\n",
              "  </tbody>\n",
              "</table>\n",
              "</div>\n",
              "    <div class=\"colab-df-buttons\">\n",
              "\n",
              "  <div class=\"colab-df-container\">\n",
              "    <button class=\"colab-df-convert\" onclick=\"convertToInteractive('df-de6c3a41-6075-4bbd-8d1e-aef5479a53c1')\"\n",
              "            title=\"Convert this dataframe to an interactive table.\"\n",
              "            style=\"display:none;\">\n",
              "\n",
              "  <svg xmlns=\"http://www.w3.org/2000/svg\" height=\"24px\" viewBox=\"0 -960 960 960\">\n",
              "    <path d=\"M120-120v-720h720v720H120Zm60-500h600v-160H180v160Zm220 220h160v-160H400v160Zm0 220h160v-160H400v160ZM180-400h160v-160H180v160Zm440 0h160v-160H620v160ZM180-180h160v-160H180v160Zm440 0h160v-160H620v160Z\"/>\n",
              "  </svg>\n",
              "    </button>\n",
              "\n",
              "  <style>\n",
              "    .colab-df-container {\n",
              "      display:flex;\n",
              "      gap: 12px;\n",
              "    }\n",
              "\n",
              "    .colab-df-convert {\n",
              "      background-color: #E8F0FE;\n",
              "      border: none;\n",
              "      border-radius: 50%;\n",
              "      cursor: pointer;\n",
              "      display: none;\n",
              "      fill: #1967D2;\n",
              "      height: 32px;\n",
              "      padding: 0 0 0 0;\n",
              "      width: 32px;\n",
              "    }\n",
              "\n",
              "    .colab-df-convert:hover {\n",
              "      background-color: #E2EBFA;\n",
              "      box-shadow: 0px 1px 2px rgba(60, 64, 67, 0.3), 0px 1px 3px 1px rgba(60, 64, 67, 0.15);\n",
              "      fill: #174EA6;\n",
              "    }\n",
              "\n",
              "    .colab-df-buttons div {\n",
              "      margin-bottom: 4px;\n",
              "    }\n",
              "\n",
              "    [theme=dark] .colab-df-convert {\n",
              "      background-color: #3B4455;\n",
              "      fill: #D2E3FC;\n",
              "    }\n",
              "\n",
              "    [theme=dark] .colab-df-convert:hover {\n",
              "      background-color: #434B5C;\n",
              "      box-shadow: 0px 1px 3px 1px rgba(0, 0, 0, 0.15);\n",
              "      filter: drop-shadow(0px 1px 2px rgba(0, 0, 0, 0.3));\n",
              "      fill: #FFFFFF;\n",
              "    }\n",
              "  </style>\n",
              "\n",
              "    <script>\n",
              "      const buttonEl =\n",
              "        document.querySelector('#df-de6c3a41-6075-4bbd-8d1e-aef5479a53c1 button.colab-df-convert');\n",
              "      buttonEl.style.display =\n",
              "        google.colab.kernel.accessAllowed ? 'block' : 'none';\n",
              "\n",
              "      async function convertToInteractive(key) {\n",
              "        const element = document.querySelector('#df-de6c3a41-6075-4bbd-8d1e-aef5479a53c1');\n",
              "        const dataTable =\n",
              "          await google.colab.kernel.invokeFunction('convertToInteractive',\n",
              "                                                    [key], {});\n",
              "        if (!dataTable) return;\n",
              "\n",
              "        const docLinkHtml = 'Like what you see? Visit the ' +\n",
              "          '<a target=\"_blank\" href=https://colab.research.google.com/notebooks/data_table.ipynb>data table notebook</a>'\n",
              "          + ' to learn more about interactive tables.';\n",
              "        element.innerHTML = '';\n",
              "        dataTable['output_type'] = 'display_data';\n",
              "        await google.colab.output.renderOutput(dataTable, element);\n",
              "        const docLink = document.createElement('div');\n",
              "        docLink.innerHTML = docLinkHtml;\n",
              "        element.appendChild(docLink);\n",
              "      }\n",
              "    </script>\n",
              "  </div>\n",
              "\n",
              "\n",
              "    <div id=\"df-8e1aa45a-1d83-4cab-b0d1-84298de1a548\">\n",
              "      <button class=\"colab-df-quickchart\" onclick=\"quickchart('df-8e1aa45a-1d83-4cab-b0d1-84298de1a548')\"\n",
              "                title=\"Suggest charts\"\n",
              "                style=\"display:none;\">\n",
              "\n",
              "<svg xmlns=\"http://www.w3.org/2000/svg\" height=\"24px\"viewBox=\"0 0 24 24\"\n",
              "     width=\"24px\">\n",
              "    <g>\n",
              "        <path d=\"M19 3H5c-1.1 0-2 .9-2 2v14c0 1.1.9 2 2 2h14c1.1 0 2-.9 2-2V5c0-1.1-.9-2-2-2zM9 17H7v-7h2v7zm4 0h-2V7h2v10zm4 0h-2v-4h2v4z\"/>\n",
              "    </g>\n",
              "</svg>\n",
              "      </button>\n",
              "\n",
              "<style>\n",
              "  .colab-df-quickchart {\n",
              "      --bg-color: #E8F0FE;\n",
              "      --fill-color: #1967D2;\n",
              "      --hover-bg-color: #E2EBFA;\n",
              "      --hover-fill-color: #174EA6;\n",
              "      --disabled-fill-color: #AAA;\n",
              "      --disabled-bg-color: #DDD;\n",
              "  }\n",
              "\n",
              "  [theme=dark] .colab-df-quickchart {\n",
              "      --bg-color: #3B4455;\n",
              "      --fill-color: #D2E3FC;\n",
              "      --hover-bg-color: #434B5C;\n",
              "      --hover-fill-color: #FFFFFF;\n",
              "      --disabled-bg-color: #3B4455;\n",
              "      --disabled-fill-color: #666;\n",
              "  }\n",
              "\n",
              "  .colab-df-quickchart {\n",
              "    background-color: var(--bg-color);\n",
              "    border: none;\n",
              "    border-radius: 50%;\n",
              "    cursor: pointer;\n",
              "    display: none;\n",
              "    fill: var(--fill-color);\n",
              "    height: 32px;\n",
              "    padding: 0;\n",
              "    width: 32px;\n",
              "  }\n",
              "\n",
              "  .colab-df-quickchart:hover {\n",
              "    background-color: var(--hover-bg-color);\n",
              "    box-shadow: 0 1px 2px rgba(60, 64, 67, 0.3), 0 1px 3px 1px rgba(60, 64, 67, 0.15);\n",
              "    fill: var(--button-hover-fill-color);\n",
              "  }\n",
              "\n",
              "  .colab-df-quickchart-complete:disabled,\n",
              "  .colab-df-quickchart-complete:disabled:hover {\n",
              "    background-color: var(--disabled-bg-color);\n",
              "    fill: var(--disabled-fill-color);\n",
              "    box-shadow: none;\n",
              "  }\n",
              "\n",
              "  .colab-df-spinner {\n",
              "    border: 2px solid var(--fill-color);\n",
              "    border-color: transparent;\n",
              "    border-bottom-color: var(--fill-color);\n",
              "    animation:\n",
              "      spin 1s steps(1) infinite;\n",
              "  }\n",
              "\n",
              "  @keyframes spin {\n",
              "    0% {\n",
              "      border-color: transparent;\n",
              "      border-bottom-color: var(--fill-color);\n",
              "      border-left-color: var(--fill-color);\n",
              "    }\n",
              "    20% {\n",
              "      border-color: transparent;\n",
              "      border-left-color: var(--fill-color);\n",
              "      border-top-color: var(--fill-color);\n",
              "    }\n",
              "    30% {\n",
              "      border-color: transparent;\n",
              "      border-left-color: var(--fill-color);\n",
              "      border-top-color: var(--fill-color);\n",
              "      border-right-color: var(--fill-color);\n",
              "    }\n",
              "    40% {\n",
              "      border-color: transparent;\n",
              "      border-right-color: var(--fill-color);\n",
              "      border-top-color: var(--fill-color);\n",
              "    }\n",
              "    60% {\n",
              "      border-color: transparent;\n",
              "      border-right-color: var(--fill-color);\n",
              "    }\n",
              "    80% {\n",
              "      border-color: transparent;\n",
              "      border-right-color: var(--fill-color);\n",
              "      border-bottom-color: var(--fill-color);\n",
              "    }\n",
              "    90% {\n",
              "      border-color: transparent;\n",
              "      border-bottom-color: var(--fill-color);\n",
              "    }\n",
              "  }\n",
              "</style>\n",
              "\n",
              "      <script>\n",
              "        async function quickchart(key) {\n",
              "          const quickchartButtonEl =\n",
              "            document.querySelector('#' + key + ' button');\n",
              "          quickchartButtonEl.disabled = true;  // To prevent multiple clicks.\n",
              "          quickchartButtonEl.classList.add('colab-df-spinner');\n",
              "          try {\n",
              "            const charts = await google.colab.kernel.invokeFunction(\n",
              "                'suggestCharts', [key], {});\n",
              "          } catch (error) {\n",
              "            console.error('Error during call to suggestCharts:', error);\n",
              "          }\n",
              "          quickchartButtonEl.classList.remove('colab-df-spinner');\n",
              "          quickchartButtonEl.classList.add('colab-df-quickchart-complete');\n",
              "        }\n",
              "        (() => {\n",
              "          let quickchartButtonEl =\n",
              "            document.querySelector('#df-8e1aa45a-1d83-4cab-b0d1-84298de1a548 button');\n",
              "          quickchartButtonEl.style.display =\n",
              "            google.colab.kernel.accessAllowed ? 'block' : 'none';\n",
              "        })();\n",
              "      </script>\n",
              "    </div>\n",
              "\n",
              "    </div>\n",
              "  </div>\n"
            ],
            "application/vnd.google.colaboratory.intrinsic+json": {
              "type": "dataframe",
              "variable_name": "dataset_train_df",
              "summary": "{\n  \"name\": \"dataset_train_df\",\n  \"rows\": 2786,\n  \"fields\": [\n    {\n      \"column\": \"tweet_id\",\n      \"properties\": {\n        \"dtype\": \"string\",\n        \"num_unique_values\": 2786,\n        \"samples\": [\n          \"1251101441797881858\",\n          \"1253592409403002881\",\n          \"1257482039571501059\"\n        ],\n        \"semantic_type\": \"\",\n        \"description\": \"\"\n      }\n    },\n    {\n      \"column\": \"text\",\n      \"properties\": {\n        \"dtype\": \"string\",\n        \"num_unique_values\": 2786,\n        \"samples\": [\n          \"\\ud83d\\ude4c \\ud83d\\ude0d \\u00a1 Gracias por unirte al reto # BailaSinMiedo !\",\n          \"El gobierno de Murcia , con los votos de PP y C's y la abstenci\\u00f3n de Vox , aprueba los presupuestos con un recorte en sanidad de 57 millones . En plena pandemia y con la certeza de que habr\\u00e1 rebrotes . Y luego , sin despeinarse , a aplaudir a los sanitarios . https://t.co/VyVrKvyfQf\",\n          \"Las empleadas de hogar afectadas profesionalmente por el COVID-19 podr\\u00e1n pedir un subsidio extraordinario https://t.co/SmmThxfzG4\"\n        ],\n        \"semantic_type\": \"\",\n        \"description\": \"\"\n      }\n    },\n    {\n      \"column\": \"label\",\n      \"properties\": {\n        \"dtype\": \"number\",\n        \"std\": 0,\n        \"min\": 0,\n        \"max\": 1,\n        \"num_unique_values\": 2,\n        \"samples\": [\n          0,\n          1\n        ],\n        \"semantic_type\": \"\",\n        \"description\": \"\"\n      }\n    },\n    {\n      \"column\": \"char_len\",\n      \"properties\": {\n        \"dtype\": \"number\",\n        \"std\": 77,\n        \"min\": 10,\n        \"max\": 454,\n        \"num_unique_values\": 314,\n        \"samples\": [\n          250,\n          248\n        ],\n        \"semantic_type\": \"\",\n        \"description\": \"\"\n      }\n    },\n    {\n      \"column\": \"normalized\",\n      \"properties\": {\n        \"dtype\": \"string\",\n        \"num_unique_values\": 2786,\n        \"samples\": [\n          \"\\ud83d\\ude4c \\ud83d\\ude0d \\u00a1 gracias por unirte al reto # bailasinmiedo !\",\n          \"el gobierno de murcia , con los votos de pp y c's y la abstenci\\u00f3n de vox , aprueba los presupuestos con un recorte en sanidad de 57 millones . en plena pandemia y con la certeza de que habr\\u00e1 rebrotes . y luego , sin despeinarse , a aplaudir a los sanitarios . https://t.co/vyvrkvyfqf\"\n        ],\n        \"semantic_type\": \"\",\n        \"description\": \"\"\n      }\n    }\n  ]\n}"
            }
          },
          "metadata": {},
          "execution_count": 78
        }
      ]
    },
    {
      "cell_type": "code",
      "source": [
        "# Tokenizador de tweets\n",
        "tweet_tokenizer = TweetTokenizer()\n",
        "\n",
        "def normalizar_tokens(doc):\n",
        "    # Dividir el documento en palabras\n",
        "    palabras =  tweet_tokenizer.tokenize(doc)\n",
        "\n",
        "    # Reemplazar URLs, menciones de Twitter y números por los tokens correspondientes\n",
        "    for i in range(len(palabras)):\n",
        "        if palabras[i].startswith(\"http://\") or palabras[i].startswith(\"https://\") or palabras[i].startswith(\"www.\"):\n",
        "            palabras[i] = \"URL\"\n",
        "        elif palabras[i].startswith(\"@\"):\n",
        "            palabras[i] = \"MENTION\"\n",
        "        elif palabras[i].isdigit():\n",
        "            palabras[i] = \"NUM\"\n",
        "\n",
        "    # Unir las palabras de nuevo en un documento modificado\n",
        "    doc_1 = ' '.join(palabras)\n",
        "\n",
        "    return doc_1"
      ],
      "metadata": {
        "id": "RQVwQ0MHjeii"
      },
      "execution_count": 79,
      "outputs": []
    },
    {
      "cell_type": "code",
      "source": [
        "dataset_train_df[\"normalized\"] = dataset_train_df[\"normalized\"].progress_apply(lambda x: normalizar_tokens(x))"
      ],
      "metadata": {
        "colab": {
          "base_uri": "https://localhost:8080/"
        },
        "id": "jAN1wWEAk-28",
        "outputId": "18117541-8d86-4bb8-b204-6a85b48d7784"
      },
      "execution_count": 80,
      "outputs": [
        {
          "output_type": "stream",
          "name": "stderr",
          "text": [
            "100%|██████████| 2786/2786 [00:06<00:00, 421.20it/s]\n"
          ]
        }
      ]
    },
    {
      "cell_type": "code",
      "source": [
        "dataset_train_df.normalized.to_list()"
      ],
      "metadata": {
        "collapsed": true,
        "id": "PKtInX4Dlhlk",
        "outputId": "736d5af9-a758-466b-d5fe-1229ad707992",
        "colab": {
          "base_uri": "https://localhost:8080/"
        }
      },
      "execution_count": 81,
      "outputs": [
        {
          "output_type": "execute_result",
          "data": {
            "text/plain": [
              "['las / os sanitarias / os no necesitan capas de superhéroes y superheroínas , necesitan fondos suficientes para los epi que deben usar , para respiradores ... exijámoslo 🧑  🏻\\u200d  ⚕ ️ 👩  🏻\\u200d  ⚕ ️ 👨  🏻\\u200d  ⚕ ️ # mfyc # covid NUM # despuésdeaplaudir URL',\n",
              " 'las residencias de mayores de burgos suman NUM fallecidos en una semana y acumulan NUM positivos por covid - NUM URL URL',\n",
              " 'MENTION utilice el tiempo de confinamiento para hacerse un curso básico de lo que significa trabajar .',\n",
              " '. MENTION dona más de 110.000 mascarillas y guantes durante la crisis del # coronavirus para ayudar a los profesionales sanitarios en españa URL URL',\n",
              " 'judy y el confinamiento . dia NUM . mona de pascua . hoy es lunes de pascua . acaba la semana santa . es el dia de la mona . judy no cuenta con sus padrinos , así que ha comprado la mona para sus padres y ella . estaba todo muy bueno ... URL',\n",
              " '“ más organizada y radicalizada , la extrema derecha usa el coronavirus para impulsar bulos y propaganda en las redes ” # covid _19 URL',\n",
              " 'webinar gratuito sobre manejo de pacientes cardiológicos en tiempos del covid - NUM programación : NUM . organización gral NUM . insuficiencia cardiaca NUM . fibrilación auricular NUM . procedimientos invasivos NUM . cardiopatía isquémica inscripciones ➡ ️ ... URL / wbmmt 5vljw',\n",
              " 'señor alcalde , hubiera estado muy bien que esa ceremonia religiosa no hubiera sido realizada con invitación . eso de que algunos familiares de fallecidos de quedaran fuera de la basílica refleja bastante bien lo que ustedes representan . atentamente , roberto sotomayor .',\n",
              " 'la empresa farmacoop , un laboratorio recuperado por sus trabajadores , se sumó a la producción de test rápidos para la detección de covid - NUM . URL',\n",
              " 'la profesionalidad , un concepto que va más allá de la gestión del talento o la organización empresarial . david cerdá , responsable de gestión de personas en # strategyco reflexiona sobre el papel de los profesionales en la pandemia vía MENTION URL',\n",
              " 'primer caso covid NUM en mi consulta desde hace un mes . sospecha clínica y pcr + . trabajadora de hostelería , ella cumplía las medidas , los clientes , no .',\n",
              " 'esto es lo que dice margarita del val , viróloga e inmunóloga , investigadora del MENTION y en el MENTION . pero qué sabrá ella de virus y epidemias , ¿ no ? URL URL',\n",
              " '- 30.000 fallecidos por coronavirus - NUM millones de personas menos trabajando - top NUM mundial de muertos por millón de habitantes - el país con más sanitarios contagiados por % - vamos a perder más de un NUM % del pib - al borde del rescate pero dicen que # salimosmásfuertes 🤦  \\u200d  ♂ ️',\n",
              " 'un paciente con coronavirus recibe el alta tras participar en un nuevo ensayo clínico ➡ el enfermo fue tratado con éxito con un medicamento usado para la artritis . URL',\n",
              " 'en el NUM ° aniversario de la proclamación del rey quiero reconocer su labor esencial en defensa de la unidad nacional , la constitución , el estado de derecho y la dimensión internacional e histórica de españa . y su compromiso con los más vulnerables , como demuestra en esta pandemia . URL',\n",
              " 'MENTION eso es un nido de virus ! 😝 😝 😝 URL',\n",
              " 'realmente comprendo a aquellos que lo admiran pero también a los que no , y sobre todo a aquellos que lo hacen desde el punto de vista económico , los más pobres y la clase media son los que más están perdiendo . causa : la acción del gobierno ( fiscal ) respondiendo la pandemia .',\n",
              " 'fallece en el mancha centro de alcázar la doctora sara bravo , de NUM años de edad por # codvid NUM URL tercera víctima entre el colectivo de médicos y sanitarios # fallecimiento # coronavirus URL',\n",
              " 'NUM ) estaríamos hablando , entonces , de que el número mínimo de muertes reales a causa del coronavirus sería superior a 24.000 , frente a los 18.056 reconocidos oficialmente .',\n",
              " 'en nuestro próximo # woncaféconexpertos hablaremos con MENTION , directora del MENTION sobre la posibilidad de un rebrote de covid . ¡ no te lo pierdas , tienes una cita en MENTION el jueves a las 17h ! # woncaféconexpertos URL URL',\n",
              " '¿ pero en estos NUM meses no preparó el sistema de salud , sr . presidente ?',\n",
              " 'lo más grande que nos va a dejar la pandemia es el hashtag # merlosplace y el \" si tienes una mala racha , no te folles a un facha \" .',\n",
              " 'MENTION ayer escribia el diario d NUM vecina q ha hecho del confinamiento NUM auténtica pesadilla , sobre todo a los q somos esenciales . pues bien hoy se suma a lo d ayer , hacer y recibir visitas sin precaución ni medidas . gracias por acudir a quien les llama y se persona en comisaría ( ironía )',\n",
              " 'en unos minutos intervendré en los MENTION para hablar de la pandemia que golpea al mundo y repasar la actividad del gobierno para hacerle frente . podréis verlo aquí : URL URL',\n",
              " 'lo normal cuando solo te vinculan con el narcotráfico y no con un referéndum democrático . \" un tribunal excarcela a los acusados en un caso de corrupción policial en el puerto de barcelona después de que el coronavirus haya obligado a aplazar el juicio \" URL',\n",
              " 'cambios temporales de la # npb para este año ( debido al coronavirus ) : 👇 👇 👇 - roster activo : de NUM a NUM - jugadores en la banca : de NUM a NUM - máximo NUM innings x juego ( en vez de NUM ) - importados en roster activo : de NUM a NUM - fecha límite para cambios / firmas : de 31/07 a 30/09 URL',\n",
              " '🔴 españa envía a bruselas el programa de estabilidad NUM actualizado al nuevo escenario covid NUM . el propio documento dice que es \" un ejercicio realista y prudente , con un impacto muy elevado en el corto plazo y una vuelta a la normalidad progresiva \" . dentro # hilo',\n",
              " 'MENTION MENTION MENTION MENTION MENTION MENTION MENTION MENTION MENTION MENTION MENTION MENTION no me vengas con mitins cuando el presidente , de tu partido , permite al banco de españa peticiones bananeras como ésta , en vez de pedir a los bancos la devolución urgente de lo que les prestamos , y así sacar esto adelante desde abajo . por favor manolo , no . URL',\n",
              " 'MENTION MENTION entonces , en esos , no influye el virus 😉',\n",
              " 'que dice sánchez que la pandemia tiene como “ objetivo ” acelerar cambios ... en teletrabajo , consumo ... de verdad , este tío es una desgracia para españa , un riesgo para la seguridad nacional . # sánchezveteya URL',\n",
              " 'hoy cumplo un año de haber llegado en barcelona y lo celebro en confinamiento dando mi última clase de la universidad en el balcón de casa . ¡ como es dios ! definitivamente nos ofrece retos ... URL',\n",
              " 'oye pablo , que se te olvida añadir que los casi NUM millones de parados en eeuu por culpa del coronavirus , también son culpa del psoe . # denada',\n",
              " 'el coronavirus marca un aberri eguna sin actos y con recuerdo a los fallecidos URL URL',\n",
              " 'neurólogos del hospital clínico san carlos dedicados a los pacientes # covid NUM positivos : como MENTION , en primera línea y siempre rodeado de esperanza . y uno de los mayores expertos en cefaleas , por cierto . porque # somostodos # somossermas # somosclinico . URL',\n",
              " 'un deportista patriota y por ende facha para los rogelios como rafa nadal , está promoviendo una recaudación a la q se han adherido muchos deportistas más , con el objetivo de donar y llegar a NUM millones de € para ayudar contra el covid - NUM . ¿ los actores zurderas harán lo mismo ? 🤔',\n",
              " 'una caza de brujas por parte del gobierno de MENTION tras las quejas en redes sociales de los sanitarios por la nefasta gestión de la pandemia del # covidー NUM URL a través de MENTION',\n",
              " 'ayuda al fotógrafo sebastião salgado y a lélia wanick salgado a proteger a los indígenas del amazonas del covid - NUM 👉  🏽 firma petición y difunde para que el gobierno de brasil tome medidas urgentes 🖊 : URL URL',\n",
              " 'el patrullero zúñiga , que se negó a participar de un desalojo en plena pandemia , ese si es un héroe de la patria . que la protección colectiva lo ayude a preservar su trabajo y su gran dignidad . necesitamos , miles , cientos de miles de zúñigas .',\n",
              " '¿ cómo puedo devolver el dinero que me han pagado en exceso del erte ? URL MENTION MENTION MENTION MENTION MENTION MENTION MENTION MENTION MENTION MENTION MENTION MENTION # covid NUM # erte',\n",
              " 'lo reitero para los lectores matinales . exijan a sus políticas y políticos , que aclaren que prefieren . salud o negocio . como punto de partida en una pandemia sanitaria , no será poco .',\n",
              " 'no se incide lo suficiente en los curados : 70.852 personas fuera de peligro , gracias a unos profesionales sanitarios y de servicios que se han enfrentado al virus con la mano atada a la espalda de los recortes , la precariedad y el contagio por la falta de equipos de protección .',\n",
              " '🔵 nuestra presidenta y portavoz MENTION ya tiene su mascarilla gratuita de la MENTION 👉 recuerda : tienes aún NUM días para recogerla 👏 gracias a isabel díaz ayuso por la iniciativa # adelantemadrid ☑ ️1 por vecino ☑ ️en la farmacia ☑ ️con tarjeta sanitaria o dni URL',\n",
              " 'sigamos luchando junto a MENTION por frenar la pandemia del maltrato infantil en el # diadelaninez necesitamos acciones urgentes para aplanar la curva de la # alienaciónparental una de las peores formas de maltrato , que solo ha conseguido destruir # lafamilia MENTION URL',\n",
              " 'o sea , la presidenta de la cam pilla el covid NUM , se muda a un aparthotel para pasar la cuarentena sin causar trastornos , lo paga ella ... y la izda política y mediática monta un pollo tremendo . ni que se hubiera comprado un chalé en galapagar con un préstamo del banco del partido .',\n",
              " 'bad gyal está haciendo un directo con el sindicato popular de vendedores ambulantes de barcelona . para dar voz al testimonio sobre cómo están viviendo la crisis del coronavirus las personas sin papeles . URL',\n",
              " 'luego tiene que leer una , que si no hay temporer MENTION es por la \" paguita \" ... que hostia tienen ...',\n",
              " 'esto sería un bombazo informativo en cualquier otro país . pero aquí , la jefa del servicio federal de sanidad que ha dado la cifra no ha explicado cómo es que han aumentado en casi NUM los sanitarios fallecidos . las autoridades rusas no suelen dar explicaciones a la ciudadanía URL',\n",
              " 'mi hija médico , trabajando durante unos meses en urgencias y mi sobrina enfermera , a día de hoy , todavía trabajando duro contra el # covid NUM y sin apenas protección , pero para esto 👇 sí hay dinero o partidas o lo que sea ? ? # correos ? URL',\n",
              " '👨  🏻\\u200d  💻 | mañueco recuerda que el principal problema de los ertes es que el gobierno aún no ha decidido su ampliación en los sectores más afectados por la pandemia . MENTION URL',\n",
              " 'después de NUM horas de guardia . sales con la sensación de impotencia total . dejas a tus compañeros al frente del # covid NUM sin medios , no queremos aplausos . queremos material sanitario para paliar el # covid NUM no , nos creemos cuando nos dicen que llegará . llega lo privado ! URL',\n",
              " 'coordinadora tpa denuncia que empresas portuarias ocultan positivos por coronavirus de sus trabajadores URL',\n",
              " 'a ver si lo entiendo , después de haber acusado al gobierno de manipular y ocultar el número real de fallecidos por la pandemia , ahora resulta que que era el pp quien ocultaba estos datos y mandaba datos falsos al gobierno para luego acusarle , ¿ es eso ? 🤔 # felizjueves URL',\n",
              " 'muere una niña de NUM años por coronavirus en bélgica URL',\n",
              " 'no te pierdas la sesión de actualización mañana NUM . NUM a las 18.00 hs en URL actualización en alertas farmacológicas en tiempos de covid NUM . con el dr . MENTION . dr . MENTION y MENTION # semergengalwebinar # cátedrauscsemergen # isglt NUM # iecas URL',\n",
              " 'qué bofetada a bogotá que en emergencia social por # coronavirus cuando necesitamos más recursos para ayudar a los ciudadanos , el concejo gaste dos mil seiscientos millones de pesos en contratar NUM camionetas blindadas , cuando mayoría de concejales no tiene problemas de seguridad . URL',\n",
              " 'y sale illa a decir que “ gracias al gobierno ” todo va bien . no solo son incompetentes : son mala gente . ¿ pretenden que les aplaudamos por no haber prevenido , haber provocado este confinamiento , por millones de parados , por el hundimiento de la economía ? no tienen vergüenza .',\n",
              " 'nuevo documento seus sobre recomendaciones para la exploración de pacientes no sospechosos de infección en el contexto de pandemia # covid _19 URL URL',\n",
              " 'MENTION MENTION MENTION ¿ si digo que voy a misa me puedo saltar la cuarentena ? . o es a discrección del que me pille . el virus no se cura paseando muñecos , ni rezando ... se cura con la pasta que esta gentuza deja de pagar .',\n",
              " 'apercibe gobernación a tv azteca por llamar a desacatar indicaciones de salud sobre la pandemia covid - NUM URL URL',\n",
              " '🤣 🤣 🤣 🤣 🤣 🤣 🤣 🤣 🤣 🤣 🤣 🤣 🤣 ¡ no me lo puedo “ decreer ” ! 😂 😂 😂 😂 😂 😂 😂 😂 😂 😂 😂 😂 😂',\n",
              " 'el psoe pide en andalucía que los sanitarios cobren una compensación del NUM % de su sueldo por su esfuerzo durante la epidemia . una propuesta que hizo vox en marzo y que rechazan aplicarlo en toda españa cuando podrían hacerlo con un real decreto mañana mismo . URL',\n",
              " 'pues mi pareja , médico trabajando en ifema , ha dado positivo en coronavirus . afortunadamente está bien , pero ahora se va a tener que pasar bastantes días en casa hasta que pueda volver a atender a gente que lo necesita . todo por falta de material . esto es una vergüenza .',\n",
              " '# miño activa una serie de medidas para el comercio y la hostelería para salir de la crisis del # covid NUM # miñoéfuturo URL vía MENTION',\n",
              " 'en la noche de hoy se continúa con las medidas de prevención del covid 19.en nuestro departamento famatina seretaria de agricultura . comite de emergencia famatina . gobierno de la rioja . gob . ricardo quintela URL',\n",
              " 'la subida salarial a policía y guardia civil ( NUM millones ) entra de pronto y con calzador en una disposición adicional del \" real decreto sobre medidas en materia agraria , científica , económica , de empleo y seguridad social \" por el virus . no es serio . URL URL',\n",
              " 'a medida que se va investigando sobre el # covid - NUM , los expertos siguen identificando más # síntomas relacionados con el virus . estos son algunos de los más recientes . URL',\n",
              " 'el mayor foco de contagio de covid - NUM detectado hasta ahora en marruecos se ha registrado en dos plantas de tratamiento de fruta de empresas españolas . en total hay NUM infectados , en su mayoría mujeres temporeras URL',\n",
              " 'NUM de mayo de NUM . datos covid NUM - españa . NUM . - españoles muertos = más de 25.000 . NUM . - dimisiones de políticos = NUM . NUM . - ceses a políticos = NUM # nolovaisablanquear URL',\n",
              " 'alerta : en medio del confinamiento por la pandemia de # covid NUM , la ue concluye la negociación del tratado neoliberal con méxico que busca : 🏭 más megaproyectos 🛢 ️extraer más petróleo 🚑 aumentar las privatizaciones 🚜 destruir la soberanía alimentaria ⚖ ️más abusos corporativos URL',\n",
              " 'MENTION MENTION MENTION el día NUM de mayo los adultos podremos salir a la calle . propongo vestir con camiseta o jersey negro en señal de respeto a las 23.000 víctimas del coronavirus',\n",
              " 'como iban a desaprovechar algunos la ocasion de hacer caja y de opacar la tragedia y nuestros muertos : rtve estrena el martes NUM comedia , repito comedia en prime time sobre # coronavirus . # diariosdelacuarentena ¿ es una buena idea ? \\u2066 MENTION \\u2069 encabeza el reparto # covid NUM',\n",
              " 'boris johnson , ingresado en un hospital por coronavirus tras NUM días en los que no le remitían los síntomas . me imagino a los médicos diciéndole : \" ánimo , lo importante es la economía \"',\n",
              " 'la vitamina del sol a cucharadas gracias a las semillas # linwoods con lino , bacterias y vitamina d para ayudar a las carencias de la toma directo de la luz solar debido al # confinamiento URL linwoods healthfoods MENTION URL',\n",
              " 'MENTION MENTION la covid no existe ? retrasados mentales ? jamás un maestro reiki hablaría asi . eres un farsante .',\n",
              " 'no hubo expertos . todo lo decidieron un presidente del gobierno que falsificó su tesis , un licenciado en filosofía al que explicaron con dibujos en marzo qué era un virus , y un médico que no hizo la especialidad .',\n",
              " 'según este estudio de imperial college ( via MENTION ) las medidas de confinamiento en españa han salvado ya 16.000 vidas . URL es duro . pero lo que hacemos está salvando gente .',\n",
              " 'madrid y cataluña , las comunidades que albergan las dos ciudades más grandes de españa , no están contratando rastreadores , la única manera de controlar la pandemia , y nos ponen en peligro a todos . es muy sencillo : están jugando con nuestra salud . URL',\n",
              " 'a ver cómo os lo digo . no-se-pueden-suspender-los-derechos-civiles-de-forma-indefinida . si el gobierno no tiene ningún plan a estas alturas , más que el confinamiento , debe dimitir en pleno . ni pactos , ni pactas , ni leches .',\n",
              " 'celebramos como nunca cada hora que conseguimos dejar \" en espera \" un respirador artificial , porque eso quiere decir que estamos una hora más cerca del final de todo esto . # covid NUM URL',\n",
              " '🔴 porque alemania con casi 100.000 contagiados miente al resto del mundo en su conteo de fallecimientos ? de verdad creen que con ese n ° de casos nos vamos a tragar que no lleguen a NUM muertos ? # alemania : campeones en manipulación # covid NUM',\n",
              " 'eeuu busca prohibir la exportación de suministros médicos cruciales , roba mascarillas en aeropuertos y puertos extranjeros , mantiene bloqueos económicos , amenaza por todos las flancos a venezuela . el # covid _19 además de muchas novedades confirmó lo que se sabía sobre eeuu # 5abr',\n",
              " 'MENTION MENTION el alcalde de nerva solicita intervención ume para desinfectar geriátrico tras positivo por # coronavirus y pide a autoridades sanitarias que realice test a todos los empleados . MENTION MENTION MENTION MENTION MENTION URL',\n",
              " 'ante la maniobra de lavado de cara del # borboninútil los santarios tenemos un arma : la democracia . los colegios profesionales deben llamar a los colegiados a votar si se acepta este \" premio \" o no . basta de tomarnos el pelo . que devuelvan lo robado . # noquieropremiosdeladrones',\n",
              " 'doy fe que en esa calle larios ha habido manis por la sanidad , precariedad , pensiones , hepatitis c , recortes ... y había mas policías que manifestantes . la mitad de estos parados y obreros solo salen cuando tenemos pandemia y pueden subir la curva . quien está detrás de esto ? URL',\n",
              " 'lista de fuentes fiables sobre el nuevo # coronavirus de la MENTION URL',\n",
              " '# espectáculos : \" ilse y mimi \" ofrecerán un concierto virtual este sábado NUM de mayo a las 20:00 horas para recaudar fondos para ayudar al personal sanitario que está trabajando atendiendo los casos de covid - NUM en méxico . URL',\n",
              " 'la oms , impresionada por la actuación de españa en el combate contra el coronavirus , la vanguardia / efe URL t',\n",
              " 'buenas noticias relativo a la # covid NUM en # asturias la uci de MENTION ha dado el alta hoy al segundo paciente positivo de # covid NUM , un varón de NUM años que seguirá su recuperación en planta . ¡ enhorabuena ! 💙 URL',\n",
              " 'una diputada de vox y doctora en medicina se ofrece voluntaria para ayudar en el ifema . se llama gádor joya y , por cierto , alertó sobre esta epidemia en la asamblea de madrid el NUM de febrero . y algunos aún dicen que nadie podía prever esto antes del NUM m ... URL',\n",
              " 'en # ffpaciente compartimos historias de personas que conviven con enfermedades crónicas durante el confinamiento por el # coronavirus esta semana ⤵ ️ MENTION , con síndrome de intestino irritable y asma MENTION , con enfermedad mitocondrial 👉 URL URL',\n",
              " 'cerramos nuestra querida radio 😢 nuestros colaboradores y conductores ¡ se quedan en casa ! desde mañana todos los programas de radio hoy se harán vía remoto x skype . seguimos al aire con el compromiso de siempre , nosotros apoyamos el # quedateencasa # covıd NUM # coronavirus # radiohoy URL',\n",
              " 'URL pero que cojones me estais contando si vivo en un pueblo de aller y salimos lo justo a la calle porque hay mas gente sin mascarillas que con ellas y nadie se corta de saludarse o besarse , aquí no aprendieron nada , no hay ni policia que ponga multas',\n",
              " 'a quienes padecéis , sufrís o ayudáis a superar el covid - NUM MENTION MENTION MENTION MENTION MENTION MENTION MENTION MENTION MENTION MENTION MENTION MENTION MENTION MENTION MENTION URL',\n",
              " '“ agentes sociales denuncian urbanismo a la carta y cultura del ladrillazo en andalucía con la nueva ley del suelo de pp y cs , que también necesita los votos de vox ” # covid NUM URL',\n",
              " '🇨 🇳 | urgente - coronavirus : la ciudad china de shenzhen ha aprobado una ley que prohíbe por completo toda la carne de perros y gatos , además de otras formas de vida silvestre más exótica , cuya venta ha sido prohibida en una nueva regulación nacional en china .',\n",
              " '( seth ) recomendaciones de tromboprofilaxis y tratamiento antitrombótico en pacientes con covid - NUM URL MENTION URL',\n",
              " 'NUM trabajadores de metro están contagiados de coronavirus y más de NUM están aislados o de baja # madrid # metro # coronavirusmadrid # covid NUM # gm URL',\n",
              " 'MENTION MENTION a lo mejor llevan unas cuantas horas pastoreando anormales y te toca a ti cuando pierden la paciencia . una vez antes pandemia me paro un control guardia civil . si abro la boca y discuto que puedan hacerlo pierdo más tiempo que me revisen el coche . la edad te hace practico',\n",
              " 'la guardia civil implica a fernando simón en la investigación penal del NUM - m : tenía datos que confirmaban la gravedad de la crisis . entre todos ❌ # covidー NUM ❌ 😷 😡 URL',\n",
              " 'webinar : municipios frente al covid - NUM vía MENTION NUM de abril a las 17h con MENTION ( ayto . alzira ) , josé fernández ( ayto . madrid ) y nacho santillana ( ayto . barcelona ) . modera MENTION # municipioscovid NUM # covid NUM URL',\n",
              " 'MENTION MENTION MENTION _ MENTION gracias al personal sanitario que se está dejándose la piel , como para que el \" personal irresponsable \" salga a manifestarse en esta fase . por cierto , queda claro que sólo rezando uno no se cura , que ha ido a un hospital y no a la iglesia . URL',\n",
              " 'hasta dónde llegará el cinismo de éstos mayorales del siglo xxi , es que la vergüenza se ha diluido con la lejía y desinfectantes contra el virus ?',\n",
              " 'cuando algunos miran el dedo , otros señalan la enorme luna que tenemos delante y que hemos tenido delante durante décadas . aquí una reflexión de lo que vendrá .',\n",
              " 'escucho a pedro sánchez decir que \" tiende la mano a las comunidades autónomas donde no gobierna \" para llegar a acuerdos , mientras la portavoz del psoe , adriana lastra , ataca con datos de \" tasa de letalidad \" # covid NUM a la comunidad donde no gobiernan . ¿ en qué quedamos ? 🤷  \\u200d  ♂ ️ 🤦  \\u200d  ♂ ️ URL',\n",
              " 'no hay que usar crespones negros porque el mejor homenaje es trabajar contra el virus , pero luchar contra el machismo sí era poner un lazo morado durante una semana en tve antes del 8m . URL',\n",
              " 'cicae propone que se celebre en los colegios para minimizar el riesgo de contagio y que los alumnos estén en grupos más reducidos . además , cada año , al finalizar los exámenes , se organizan macrofiestas , donde se concentran miles de jóvenes URL MENTION',\n",
              " 'los virus no tenemos sentimientos , como algunos medios de comunicación .',\n",
              " 'la vacuna del covid - NUM necesitará la capacidad de los cuatro grandes fabricantes URL vía MENTION MENTION MENTION MENTION MENTION',\n",
              " 'MENTION , consejera de MENTION ; mar garcía baquero , de MENTION ; y rafael merinero de MENTION nos cuentan en # apdlive cómo va a hacer frente el gobierno a las consecuencias de la pandemia',\n",
              " '# covid NUM últimos datos sábado NUM de marzo , 11:52 hs . URL',\n",
              " 'samuel l . jackson ( MENTION ) pilla a un vecino saltándose el confinamiento ... ⚠ ️ 🔞 # yomequedoencasa # joemquedoacasa URL',\n",
              " 'los que le echan la culpa al NUM m del coronavirus URL',\n",
              " '📽 vídeo | la emocionante despedida de la primera paciente que recibe el alta en el hospital de montilla tras superar el # coronavirus URL',\n",
              " 'MENTION MENTION no existe el perdón para los políticos criminales y ladrones . todo cae ... URL # gobiernocriminal # nocomunistas # nofeminazis # nomusulmanes # coronavirus',\n",
              " 'MENTION pues recemos para que el operario de protección civil no tenga coronavirus , porque sin guantes lo que hará es contagiar a todo el mundo',\n",
              " 'seguimos tomando nota ! ! el enemigo es solo el virus ? ? sánchez prohíbe misas en granada pero autoriza desplazamientos para el ramadán # gobiernodimision # covid 19esp URL',\n",
              " 'lo bueno también se difunde , felicito al MENTION como coordina el distanciamiento y todas las medidas de bioseguridad , mucho orden , cautela , seguridad , personal por todos lados coordinando y haciendo respetar el distanciamiento , limpian y desinfectan todo a cada segundo . URL',\n",
              " 'que no hos engañen con la frase de \" el coronavirus no va a perjudicar al alumno \" . las asignaturas continuas implican que si apruebas el último trimestre apruebas en la global , pues en este caso han quitado esa oportunidad . pero tranquilos que no va ha perjudicar al alumno .',\n",
              " 'esto ha ocurrido . no es broma . donald trump ha propuesto inyectar desinfectante para limpiar los pulmones o luz del sol como tratamientos para el coronavirus ¿ no hay impeachment para dementes ? URL',\n",
              " 'interesante artículo sobre el impacto de esta pandemia en los mercados del reciclaje y empresas del sector URL',\n",
              " 'habéis oído a MENTION abrir la boca por los millones de personas que su partido ha enviado a trabajar en plena pandemia ? es que busco el tuit y solo veo un ataque al MENTION URL',\n",
              " 'es que poca rabia tenía ya que encima va la gente subnormal y salen todos de golpe , me voy a cagar en todo como alarguen mucho más el confinamiento . me piro de twitter que no hace más que recordarme toda la mierda 😂',\n",
              " 'médicos en cataluña : residentes y especialistas trabajan NUM horas diarias en primera línea de # covid NUM y les pagan mil € ! ! ! no se le cae la cara de vergüenza al \\u2066 MENTION \\u2069 ? URL',\n",
              " 'los de # stopconfinamientoespana # stopconfinamiento son los mismos que curan el covid - NUM con el mms , que tienen la vacuna lista para sacar y a los que se la suda el número de muertos .',\n",
              " 'en esta situación excepcional por la pandemia de # covid NUM los servicios funerarios de MENTION se vuelcan en la atención a las familias para mitigar su dolor . sobre los féretros se coloca una 🌹 en señal de acompañamiento . i URL MENTION MENTION URL',\n",
              " 'el coronavirus agiliza la transformación digital de la administración pública URL vía MENTION',\n",
              " 'un anciano sale a por el pan , pero con las prisas confunde la mascarilla quirúrgica con el pañuelo de atracador con el que sembró el caos cuatro décadas antes . lo tirotea el guardia de seguridad del dia , cuyo padre , excomisario de policía , murió loco por no poder atraparlo .',\n",
              " 'MENTION MENTION MENTION entre el hospital y confinamiento , no estoy teniendo mucho tiempo para generar material nuevo . aun así , no creo que sea conveniente subir una foto del menú de telepizza . la gente , al ver que lleva poco azúcar puede pensar que estoy diciendo que es saludable . no lo es .',\n",
              " 'mucho ánimo y un fuerte abrazo , MENTION , y todo nuestro apoyo y cercanía a l MENTION afectad MENTION por el # covid NUM . # estevirusloparamosunidos # quédateencasa',\n",
              " 'alfonso merlos en ana rosa hablando de medidas de confinamiento , yo es que me meo de verdad URL',\n",
              " \"la oms pide revisar los casos de fallecidos y contagios por coronavirus tras en conocer las ' cifras reales ' de china MENTION MENTION MENTION MENTION MENTION MENTION MENTION MENTION # coronavirus # covidー NUM URL\",\n",
              " 'fase NUM de los ensayos clínicos con remdesivir , autorizados por el gobierno el NUM de marzo de NUM ; inmediatamente después del NUM m comenzaron los ensayos « discretos » en españa ) esos de los que nadie habla .',\n",
              " 'el señor MENTION no desvela los nombres del comité de expertos que le asesoran en la crisis del # coronavirus . la verdad es que nos toman por # tontos , debería ser obligatorio conocer quienes componen dicho equipo y estar constantemente informados ¿ no creen ? # chicasvox ® URL',\n",
              " 'el sindicato cgt denuncia a inditex por irregularidades de prevención tras el primer positivo en coronavirus confirmado . los trabajadores de los centros logísticos de tordera y palafolls siguen sin protección . esto no aparece en medios que aplauden donaciones de amancio ortega .',\n",
              " 'la gente es tonta quillo vamos a ver , os dan a los niños la oportunidad de salir un rato a la calle supervisados y a mínimo dos metros de distancia de otros niños y os ponéis todos a jugar con vuestros amigos como si el coronavirus no existiese ? ? ? pa eso estoy yo en mi casa ? ? ?',\n",
              " 'susana es enfermera en el hospital del mar y se ha hecho viral xq el compañero de habitación de josé la ha grabado , pero podría ser cualquiera de nosotras . el coronavirus es algo muy grande , pero las personas lo somos todavía más y por eso vamos a salir de esta # orgullodeenfermera URL',\n",
              " 'mi cuñada me acaba de enviar un vídeo de mi sobrino ( de NUM años y medio ) diciendo « es el coronavirus , no venimos al cole , nos quedamos en casa con mamá y con papá , quédate en casa por tu bien » si él lo entiende no se porqué aún hay gente que no .',\n",
              " 'una funcionaria de prisiones tras superar el covid : “ me tenido que pagar el test para volver al trabajo ” URL vía MENTION',\n",
              " '¡ mañana tenemos una cita en # trendingintech ! apúntate y descubre cómo view factor utiliza la ia para combatir el covid - NUM , con nuestra directora de # datascience , MENTION y , además , contaremos con la colaboración de MENTION . ¡ te esperamos ! : URL URL',\n",
              " \"benjamin black , en la mesilla de javier cercas . el autor de ' terra alta ' es seguidor del escritor irlandés y confiesa sus lecturas durante el confinamiento ; en MENTION # libros # twittercultural # díadellibro # díadellibroencasa URL\",\n",
              " 'gracias al jardín botánico de córdoba por hacer que esta primavera disfrutemos del color y el olor de estas flores que nos trajeron a nuestra residencia para alegrar el confinamiento y dar un nuevo aire al jardín . URL',\n",
              " '“ las vidas que el virus no podrá borrar ” # covid _19 URL',\n",
              " 'la controvertida respuesta de la ue a la covid - NUM \" la reticencia a crear un seguro de desempleo europeo , reivindicado desde hace años , es un buen reflejo de la desazón que produce a algunos países compartir instrumentos comunes . \" URL',\n",
              " '# lomásdestacado | china ha amenazado a australia con boicotear el consumo de productos australianos si insiste en investigar la pandemia URL',\n",
              " '❌ no , no te van a grabar las llamadas durante el estado de alarma # coronavirusfacts # covid NUM 👇 URL',\n",
              " '# covid NUM segunda ola en singapur ... por eso es importante hacer muchos tests y no correr al reabrir . URL',\n",
              " 'estudio de oxford : sánchez , casi tan mal como johnson y trump # covid NUM URL URL g',\n",
              " 'la bulo-manía . atención a este vídeo explicativo en redes sobre el facebook de ministerio MENTION . a propósito de bots , trolls y toda la campaña para perseguir las críticas al gob x la gestión del coronavirus . hay q verlo 👇 URL',\n",
              " 'una pregunta se puede romper el confinamiento saliendo de madrid y te vas a meneses de campos en palencia ? lo ha hecho este tipejo ayer , sacándose fotos y ha ido al pueblo de su abuelo . ¿ el confinamiento es x todos los españoles y mucho españoles ? aznar , rajoy , fra-casado . bribones . URL',\n",
              " 'NUM el virus no afectará a la economía NUM afectará poco NUM afectará bastante , pero saldremos de la crisis en v NUM saldremos en diciembre NUM saldremos en NUM NUM en NUM NUM en NUM NUM todo es culpa del rey juan carlos y las pizzas de ayuso',\n",
              " 'un reconocido médico catalán acusa a madrid de no decir la verdad sobre los datos de coronavirus via MENTION URL',\n",
              " 'comenta si quieres esta lámina ... _ _ _ _ _ _ _ _ _ _ _ _ _ _ _ _ _ _ _ _ _ _ _ _ _ _ _ _ _ _ _ _ _ _ _ _ # tattoos # tattooed # tattooart # tatuaje # madrid # tattoist # blackandgrey # yomequedoencasa # cuarentena # confinamiento # madrid # virus # encasa ... URL',\n",
              " 'después de NUM semanas de confinamiento , empezar hoy , a unificar criterios sobre datos de mortalidad , dice muy poco de los epidemiólogos del comité de expertos . a día de hoy , y no por ánimo de mentir , sino por metodología errónea , los datos que tenemos sobre mortalidad , son falsos .',\n",
              " 'mañana , el número de muertos por # covid en españa será bastante inferior al de hoy . no creo que sobrepase los NUM y seguirá la tendencia a la baja del número de contagios y muertes . al menos eso creo por los datos que hay hasta este momento',\n",
              " 'un sanitario se cabrea tras ver las vergonzosas imágenes de las calles hoy : “ luego a las 20:00 salís a aplaudir . no queremos aplausos , queremos responsabilidad por parte de la ciudadanía ” . # ninosenlacalle # coronavirus URL',\n",
              " 'este es el dr . fernando sanclemente , que gustosamente ha puesto al servicio médico colombiano sus modernos laboratorios para la detección temprana del covid - NUM ante el daño de la máquina del ministerio de salud . gente que le pone el alma . URL',\n",
              " 'aquí pablo casado del pp reivindicando la sanidad pública . es tan creíble como si jack el destripador fuera invitado de honor a un congreso de medicina para disertar sobre asepsia . no tienen ni una pizquita de vergüenza . URL URL',\n",
              " 'la “ tasa covid ” solo es la punta del iceberg . unidas podemos pretende subir el irpf , sucesiones , sociedades e incluso gravar los depósitos . por MENTION URL',\n",
              " 'la mascarilla que el “ gobierno de progreso ” está imponiendo en las redes sociales . # stopcensura URL',\n",
              " 'ahí estrena mi señor esposo obra nueva con lenguaje y formato apto para confinados .. . ya ni quedan entradas virtuales 👏 👏',\n",
              " 'hay imágenes terribles de los muertos y hacinamiento de fenetros por coronavirus en eeuu , italia , china ... en españa el gobierno y sus medios de comunicación a sueldo las ocultan , como si no existieran . piensan que lo vamos a olvidar ? piensan que lo vamos a perdonar ? jamás 🇪 🇸 🇪 🇸',\n",
              " 'el ministro marlaska agiliza trámites para deportar más de NUM personas a túnez en medio de una pandemia . apoyo a la resistencia migrante y la huelga de hambre de los internos del ceti de melilla . # trasladourgente # stopdeportaciones # regularizacionya URL',\n",
              " 'siempre pensé q los técnicos del ministerio de sanidad tuvieran la capacidad de asesorar correctamente al gobierno en casos como esta epidemia pero no calculé la magnitud de subordinación a intereses políticos e ideológicos de los burócratas de la sanidad pública al psoe .',\n",
              " 'pues casi NUM fallecidos en un día .',\n",
              " '📊 los resultados de # opinaperiodismocovid servirán para conocer cómo los futuros periodistas se han informado durante la pandemia y qué necesitan mejorar los medios para desarrollar un periodismo veraz y honesto . ⚠ ️participa y difunde 🙏  🏻 👇  🏻 👇  🏻 👇  🏻 👇  🏻 👇  🏻 👇  🏻 👇  🏻 URL 👈 URL',\n",
              " 'los últimos datos oficiales señalan que en el área sanitaria de ferrol hay NUM personas afectadas por coronavirus , de los que NUM están confinados en sus domicilios y NUM hospitalizados . de estos últimos , NUM están en la uci y NUM en planta . URL',\n",
              " '“ coronavirus : the hammer and the dance ” , como serán nuestros próximos NUM meses si nuestros líderes ganan tiempo . articulo sobre # covidー NUM con más de NUM m de visitas de MENTION traducido con la revisión del autor , por tito hubert y patrícia de llano 👉  🏻 URL',\n",
              " 'sacha michaus , fundador de glovo : \" en esta pandemia las empresas debemos aprovechar las oportunidades para reforzar nuestra actividad en el mercado y adaptarnos a las nuevos hábitos \" . tiene a sus trabajadores como falsos autónomos ganando 1,2 € por reparto y sin protección . URL',\n",
              " 'esta situación es nueva para todas las personas . nunca hemos vivido una pandemia y mucho menos estar encerrados en casa . ahora todo es confuso y lo nuevo a veces asusta . pero llegará un momento en que nos adaptaremos a esta \" nueva normalidad y forma de vida \" . # adaptarseesvida URL',\n",
              " 'no hay nadie mejor que MENTION como cronista de la españa rancia que ha despertado la pandemia . esto es así . hoy domingo , la séptima entrega de los # ranciofacts del coronavirus ... URL',\n",
              " 'al final el problema de MENTION es muy sencillo . ¿ si fuerais presidenta de la cam dónde prefeririais pasar el confinamiento ? ¿ en su piso de NUM m2 en malasaña o en dos apartamentos de lujo con terrazas ? se fue por eso . lo paga porque la han pillado .',\n",
              " 'MENTION no esperaba menos de un MENTION que nunca ha mostrado ni el mínimo apoyo a MENTION y MENTION pero ya caerán # jucilsuma # covid NUM # quedateencasa MENTION MENTION URL',\n",
              " 'el # magistrado director de MENTION , jorge jiménez , participa en la reunión de la directiva de MENTION para compartir la experiencia de esta situación # coronavirus # covid NUM y avanzar en las mejores estrategias de # formación e intercambio de # metodologías . MENTION URL',\n",
              " 'MENTION MENTION MENTION una pandemia es más que un presidente .. y más que un país .. y más que una ideología .. si necesitas culpar para entender , te falta información . chiquillo que infantil',\n",
              " '📣 todo lo que los niños deben saber sobre el nuevo coronavirus URL',\n",
              " '“ calma , dijo el médico . en una epidemia no hay culpables . todos son víctimas ” , josé saramago . las NUM palabras del diputado de teruel existe en el congreso que le han valido el aplauso general URL',\n",
              " 'MENTION MENTION no se donde vives .. pero aquí en asturias el confinamiento se lleva a raja tabla y los números son muy positivos . es lógico que el confinamiento se abra un poco , en otras zonas será distinto ..',\n",
              " 'optimismo ( mesurado ) en el equipo covid g026 de MENTION hoy , luego de muchos días a tope , hay camas libres en nuestra planta y pocos pacientes en urgencias . # quedateencasa MENTION MENTION URL',\n",
              " 'pa un puto año que compro entrada de un festival y tiene que haber una pandemia en fin',\n",
              " 'maría , la niña salmantina con cáncer , ahora también se enfrenta al coronavirus : \" hay que luchar un poquito más \" mucho ánimo # m4ria , eres nuestra princesa futbolera más guerrera , y eres fuerte , de esta salimos todos juntos . 😘 # equiparacionya URL',\n",
              " 'MENTION MENTION pues qué suerte . todo el curso estuve preguntando a consejería y consejero y ninguno se dignó a responder . será que han mejorado mucho durante la pandemia . no sé rick , parece falso .',\n",
              " 'hola MENTION MENTION : ¿ lo del # quedateencasa y la cuarentena es para todos o hay carta blanca para los cuatro imbéciles que quieren celebrar semana santa en porcuna ( jaén ) en medio de una emergencia sanitaria por pandemia ? URL',\n",
              " 'el jefe del servicio de cardiología del hospital de manacor , una experiencia de resiliencia y humanidad . desde el NUM de marzo ha permanecido ingresado por # covidー NUM le quedan por delante meses de rehabilitacion . pide prudencia para evitar contagios . MENTION MENTION',\n",
              " 'MENTION MENTION MENTION una cosa es que levanten el confinamiento y otra es que después de esto haya vida normal y por tanto lo que yo considero un verano , pero que es mi opinión fieras',\n",
              " 'un nuevo amanecer ¡ buenos días ! un tulipan ... ~ haiku ~ # lyf NUM # vaflordepiel # yomequedoencasa URL',\n",
              " 'MENTION MENTION MENTION bueno , solo apunto que además de los datos hace falta otras cuestiones ligadas al confinamiento ( policía , licencias , etc ) e ignoro si las comarcas pueden hacer todo eso ( por ejemplo , limitado movilidad entre comarcas ) . y obviamente , cuando más a lo micro se vaya mejor .',\n",
              " 'hilo | en nueva york , epicentro mundial del coronavirus , la cirujana colleen fitzpatrick ha acudido en apoyo a una uci en un hospital comunitario de la ciudad . 📲 sigue en este hilo su experiencia , contada día a día en primera persona , en el especial de efe # cuadernodebitácorany URL',\n",
              " 'una noticia muy dolorosa . más de NUM NUM sanitarios contagiados . han fallecido NUM médicos , NUM enfermeros , NUM auxiliar , NUM tes y NUM farmacéuticos . ( datos que sepamos porque no hay una fuente oficial que informe ) vergüenza , indignación y dolor . # quedateencasa # covidー NUM',\n",
              " 'algún día se terminará el confinamiento y tendrán que mirar a la cara a alguno de los afectados por su nefasta gestión . si pueden . # sanchezveteya',\n",
              " 'en 24h han muerto NUM españoles por coronavirus . es terrible . ya hay NUM sanitarios contagiados , el NUM % del total y un NUM % más que anteayer cuando pedí a sánchez que les protegiera . lleva NUM semanas con plenos poderes y debe actuar con eficacia y urgencia.https :/ / t.co/zaqu25syvp',\n",
              " '# nonoscallaran únete a la comunidad URL punto de encuentro para afectados ( enfermos , familiares , sanitarios , confinados ... ) . todos tenemos muchas cosas que compartir . unámonos a esta iniciativa . retuitea con tu red ! # covidespaña # covid NUM # yomequedoencasa',\n",
              " '¿ se quejan del confinamiento y no hacen nada para solucionar esto ? URL',\n",
              " 'hoy en la campaña # juntosdesdecasaafa , MENTION , de la fundación MENTION nos cuenta los proyectos que han puesto en marcha para apoyar a los emprendedores y las oportunidades en esta situación de crisis sanitaria . # covid NUM . ¡ muchas gracias ! URL',\n",
              " 'la contaminación agrava la incidencia y los daños del # coronavirus en # granada información de interés que explica cómo la contaminación es uno de los factores que explican las altas tasas con las que la # pandemia golpea a granada . URL URL',\n",
              " 'desde sus mansiones mientras critican que el 8m . esto es bochornoso .',\n",
              " 'si eres # emprendedora no te puedes perder este congreso el próximo NUM de mayo NUM . ponentes : MENTION MENTION MENTION MENTION _ MENTION y otras muchas # emprendedoras 👇  🏻 entra y regístrate gratis URL # shinewoman # yomequedoencasa URL',\n",
              " 'ya hemos visto el engaño que es el “ éxito ” de la medicina pública española . con más muertos por millón de habitantes a nivel mundial . han matado más gente que ningún otro país con su mentira de la sanidad pública . # sanchezveteya # iglesiasveteya',\n",
              " 'la pandemia ha confirmado mi vieja sospecha : hay dos cavernas . la primera es constitucionalista , abanderada , cainita , conservadora y representa interés mediáticos . la segunda , también , pero maquillada con look hipster universitario , moderniqui , suarista y acento italiano .',\n",
              " '💃  🏻 es acojonante ... los aciertos son del gobierno de españa . los fallos , de todos los españoles , del sentimiento social y de “ unos expertos ”',\n",
              " 'el cdc ya recomienda mascarillas caseras para la población general , como una medida más para frenar la epidemia de covid - NUM . ha elaborado un tutorial sobre cómo usarlas , fabricarlas y desinfectarlas ( en inglés ) : URL URL',\n",
              " 'el # confinamiento se pasa mejor con un # libro para # viajar sin salir de casa # lee 📚 el espejo egipcio de MENTION 👉 URL 👉 URL # kindleunlimited # recomiendoleer # amazon # suspense # intriga # cuidarteescuidarnos URL',\n",
              " '🗣 ️ MENTION a la ministra de trabajo : \" la derogación de la reforma laboral que han firmado con bildu es una vergüenza y un error y un desprecio a las víctimas de eta y del coronavirus . # sesióndecontrol en el MENTION URL',\n",
              " 'no voy a comentar nada de esto . no . no lo voy a hacer . URL',\n",
              " 'esta es la cara de la doctora deborah birx , coordinadora de la respuesta a la # covid NUM de la casa blanca , cuando oye la sugerencia de trump de inyectar desinfectante en los pulmones de los enfermos o bombardearlos con haces de luz . URL',\n",
              " 'si un portavoz parlamentario dice que el covid - NUM es “ una gripe menos agresiva que la de todos los años ” , ¿ eso es un bulo que merece ser censurado y sancionado ?',\n",
              " 'hoy con MENTION en la 3a webinar ’ NUM “ cultura digital y adopción trabajo en red ” . dentro del ciclo # digitalbootcamp “ acelerando la # transformacióndigital desde el # teletrabajo ” . MENTION MENTION # yomequedoencasa ayer NUM y hoy más de NUM personas ! ! ! wow ! ! gracias a todos . URL',\n",
              " 'el programa de investigación chino sobre virus fue parte de un esfuerzo por demostrar que su capacidad para identificar y combatir virus es igual o mayor que las capacidades de estados unidos , según informaron varias fuentes al washington post . 👇  🏻',\n",
              " 'MENTION expuestos al # covid NUM , muchos médicos de la sanidad pública andaluza sufren una injusta reducción del NUM % de su sueldo , por el mismo trabajo que sus compañeros . promesa incumplida por MENTION MENTION MENTION MENTION , durante NUM días ! ! # stopexclusividad',\n",
              " 'MENTION MENTION MENTION MENTION el momento es grave . ahora mismo , sumando al amado líder indecente y a su vicekomisario coletas , el gobierno de españa tiene menos cerebro que corea del norte . la peste roja es incluso peor que el virus de wuhan .',\n",
              " '\" a los que vais al chiringuito sin mascarilla , os espero aquí \" , el mensaje viral de una enfermera para concienciar a los que no cumplen las normas URL',\n",
              " 'modelo corea del sur test masivo , confinamiento selectivo , mascarillas y sin cerrar completamente la economía fallecidos NUM no es más sencillo hacer este plan aquí que cerrar todo sine die ? URL',\n",
              " 'alberto , el hombre agredido en una cacerolada , es \" uno de los taxistas más comprometidos con el traslado sanitario gratuito en esta pandemia \" MENTION URL',\n",
              " 'sánchez ultima la decisión de relajar el confinamiento en la nueva prórroga del estado de alarma que pedirá al congreso URL',\n",
              " 'ministros austriacos donan su salario para luchar contra la pandemia URL URL',\n",
              " 'díaz ayuso ha echado a la calle a 10.000 sanitarios que lucharon contra el coronavirus : \" nos tratan como a ganado . el sistema sanitario ha colapsado fruto de los recortes que hemos sufrido en sanidad . parece que les interesa que todo siga igual \" . URL',\n",
              " 'el parlamento catalán aprueba un decreto para paliar los efectos de la pandemia que incluye una subida del 0,9 % de las pensiones de los expresidentes y exconsejeros de la generalitat URL',\n",
              " 'video para la jauria humana de los balcones . # covid NUM 1/3 URL',\n",
              " 'hoy han venido al congreso diputados de vox de toda españa , para proponer que la solución a una pandemia mundial son aznar , felipe gonzález y rosa diez . pues yo propongo que se vayan a recoger la fresa los tres , los diputados de vox y quienes les han votado y luego ya hablamos .',\n",
              " 'hoy hace dos semanas que murió mi madre . coronavirus . tenía NUM años y era auxiliar de enfermería en un residencia . me ha costado mucho escribir esto públicamente , pero creo que hay algunas cosas que a ella le hubiera gustado que se expusieran :',\n",
              " 'otro síntoma del coronavirus es que las personas que parecían gilipollas de repente despejan todas las dudas .',\n",
              " 'matadero de binéfar , ayer : NUM trabajadores , brote de coronavirus ( NUM % de positivos ) , una mascarilla al día , despidos a los que cogen la baja . putos críos la que están liando . URL',\n",
              " 'toda la prensa de izquierdas , habla a diario de los muertos por covid en eeuu , mas de 50.000 . pero no indican que tiene NUM millones de habitantes . en union europea hay NUM millones de habitantes contando uk y van mas de NUM mil muertos . citar esto ignorantes',\n",
              " '🔴 en directo rueda de prensa del ministro de MENTION , salvador illa , y el director del centro de coordinación de alertas y emergencias sanitarias , fernando simón , en relación a la emergencia sanitaria del # covid NUM . # estevirusloparamosunidos URL',\n",
              " 'NUM - la ministra de igualdad y pareja del vicepresidente 2o , MENTION , se ha saltado el protocolo sanitario desde que diera positivo por coronavirus el pasado NUM de marzo . estuvo anoche en MENTION , en torno a las 21:00 de la noche , en una reunión totalmente imprevista .',\n",
              " 'van a remodelar la campaña de a realm reborn , bien , el parche se retrasa por el coronavirus , bien por los trabajadores . me quedan NUM misiones infumables para pasar a heavensward , bien por mi , supongo .',\n",
              " 'conferencia de presidentes . urkullu finalmente acude a la llamada de sánchez . algunos medios dicen que previo acuerdo económico # coronavirus URL',\n",
              " 'las ayudas directas para la recuperación dividen a europa URL # sarscov NUM # covid NUM # coronavirusarv',\n",
              " 'y otra parte del tratamiento de nuestros pacientes afectados por # covid NUM : # fundamental ! la fisioterapia en el proceso de destete de la ventilación mecánica . muchas gracias a todo el equipo de # rehabilitaciónyfisioterapia del MENTION por su inestimable ayuda y colaboración . URL',\n",
              " 'la huida de li-meng yan , la viróloga que destapó las mentiras de china : interrogatorios , amenazas y secretos . huyó hace tres meses por miedo a que la sucediera algo tras denunciar que china y la oms conocían la letalidad del virus y lo ocultaron . URL',\n",
              " '¿ te han diagnosticado # covid NUM recientemente o has estado en contacto con alguien que sí ? entra en URL y mira si cumples los criterios para participar en el estudio clínico liderado por MENTION . # yomecorono URL',\n",
              " 'el campeón del mundo de salto de confinamiento , MENTION , dando pautas para un correcto y cabal desconfinamiento . 😂 😂 😂 😂 URL',\n",
              " 'héroes . tenemos la inmensa suerte de tener unos hospitales públicos con personas como vosotros . grandísimos profesionales con muchísimo talento , compromiso y enorme humanidad . MENTION MENTION gracias',\n",
              " '☀ ️ #felizsábado , comenzamos con el interesante artículo que escribe MENTION , secretaria general de MENTION en MENTION y titula : ✒ ️ \" la valentía de reivindicar la utilidad ante la pandemia \" 👉 URL # actualidadcs URL',\n",
              " 'orla de la promoción ébola-covid NUM de la facultad de medicina de oviedo ( obra de jmvldesign ) URL',\n",
              " 'ha pasado más de un mes de esta predicción de este economista neoliberal y no ha habido desabastecimiento de mascarillas . en lugar de eso , se ha acabado con la especulación de este bien necesario',\n",
              " '🏠 durante el # confinamiento por coronavirus pueden surgir # conflictos familiares 👨  \\u200d  👩  \\u200d  👧  \\u200d  👦 como no queremos que eso ocurra , la dra . MENTION ofrece pautas para prevenir y atajar los problemas en el hogar en este vídeo producido con la MENTION URL',\n",
              " 'que el alvise hace unos días amenazase con publicar datos de una supuesta sociedad patrimonial del ferreras y justo desde entonces newtral haya torcido la línea editorial unos NUM ° ( sin desmentir ni amenazar lo más minimamente a alvise por calumniar ) da ciertamente que pensar',\n",
              " 'nos adherimos a MENTION en su denuncia a presi d extrema derecha MENTION q desestimó # covid NUM como \" solo fantasía y ligera gripe \" y ahora dice \" y qué ? \" cuando los casos alcanzan nuevos récords . solidaridad con sindicatos y pueblo de 🇧 🇷 en su lucha contra él MENTION',\n",
              " 'repartidores teniendo que trabajar en medio de una pandemia que nos tiene a todos encerrados y le meten 1.500 € de multa por aparcar en raya amarilla , hace falta ser cerdo de mierda , sin más .',\n",
              " 'desde # madrid capital de # españa le demuestran al mundo entero como están de concienciados con el confinamiento del # coronavirus . \" no pueden ser más brutos \" URL',\n",
              " 'ugt exige test de detección del covid - NUM para el personal de comercio que realiza actividades esenciales URL',\n",
              " 'cuándo alguien es responsable de la peor gestión de la pandemia llevada a cabo en toda europa , se supone que , como mínimo , debería dimitir . ¿ a qué espera , señor simón ? ¿ a que el ministro illa lo destituya y se vaya también él ?',\n",
              " 'aíslan a NUM niños tras la muerte de su monitor valenciano con coronavirus URL URL',\n",
              " 'esto no es verdad sr . MENTION los científicos estamos en casa . deseando volver a los laboratorios para retomar nuestras investigaciones . sentimos q se menosprecia nuestro trabajo . apóyenos de verdad ( no de cara a las galería ) y solicite q nos dejen seguir investigando .',\n",
              " 'aplaudimos que los grupos parlamentarios se hayan sumado a nuestra propuesta para crear una comisión de seguimiento del # covid NUM . confinar a un país entero no significa confinar la democracia .',\n",
              " 'apóstol silvia de muratore # endirecto desde # malaga . # yomequedoencasa URL',\n",
              " 'taiwán reveló correo enviado a la oms el NUM de diciembre , alertando sobre la epidemia . la advertencia era que un virus desconocido de transmisión humano a humano provocaba neumonía atípica . la organización había asegurado que la carta nunca existió , pero taipei la hizo pública . URL',\n",
              " '⏰ | ¡ buenos días , unionistas ! no nos cansaremos de repetir que un día más es un día menos . mucha fuerza y ánimo a todos . # yomequedoencasa # juntosloconseguiremos URL',\n",
              " 'MENTION ¡ hola ! le agradecería que no promueva las noticias falsas o fake . no te contagias de # covid _19 comiendo animales exóticos , sino por sus fluidos ; heces , orina , saliva ... he resumido mucho . le recomiendo esta cuenta i️ MENTION # nofake # yomequedoencasa # coronavirus',\n",
              " 'mascarilla obligatoria mi kiwi moreno ya m duele el pecho otra vez y m dan pinchazos como hace meses d llevar la puta mascarilla d mrda xd need ir al medico a x la exención ya d ya',\n",
              " 'jon kortajarena , modelo mejor pagado de españa con un caché de 300.000 € , no es capaz de ir a comprar huevos y patatas y hacerse una tortilla . se indigna por no recibirla rápido en plena pandemia . los riders en glovo ganan 1,2 € por reparto . la pandemia desnuda las almas . URL',\n",
              " 'mañana en # bdaragon analizamos el plan para la automoción con el cluster del sector en aragón . también hablamos de las consecuencia psicológicas de la lucha contra el coronavirus para enfermos y sanitarios , y conocemos las aulas digitales de MENTION . comenzamos a las NUM . URL',\n",
              " 'NUM . el estado de jalisco y su gobernador enrique alfaro se volvieron incómodos y muy molestos para el gobierno de lópez . en primera , porque han tenido un éxito notablemente mayor que el del gobierno federal y el del gobierno de la cdmx en la atención a la pandemia de covid - NUM .',\n",
              " 'hoy se ha celebrado el acto recuerdo y reconocimiento al trabajo desarrollado por el personal dependiente del ministerio del interior durante el estado de alarma # covid NUM ha sido en el ministerio del interior los # funcionariosdeprisiones no existen 👇 URL',\n",
              " 'desalojar la catedral de granada es un ejercicio de salud pública , no como los platós de telecinco y la sexta , esos servicios esenciales agraciados con inmunidad al coronavirus # gobiernodimision URL',\n",
              " 'ha sido el ama de llaves , en la biblioteca y con el candelabro .',\n",
              " 'la guardia civil se cansa : \" están muriendo compañeros mientras marlaska nos desprecia \" | coronavirus españa URL',\n",
              " 'pues claro que hay que enseñar cómo usar la mascarilla porque todavía no he visto a una sola persona no sanitaria utilizarla bien . tendría que salir esto a cada minuto en la tele , igual que sale cómo lavarse las manos . y os molesta . no doy crédito .',\n",
              " '# covid NUM mañueco \" sintoniza \" con sindicatos : pactos para después de la pandemia URL URL',\n",
              " '“ para lo que no hay ventiladores es para el virus de la mentira ” : pedro miguel responde a sergio aguayo URL',\n",
              " 'juan josé millas : \" esta pandemia ha demostrado que la clase trabajadora es esencial . la gente que más ha soportado las consecuencias de la crisis económica son los que nos están sacando de esta crisis sanitaria . espero que nunca lo olvidemos \" .',\n",
              " 'claro , hombre , quien no querría tener 22.000 muertos , como españa , en vez de NUM , como polonia , o NUM , como portugal , o NUM , como japón . les corroe la envidia por lo bien que lo está haciendo el psoe , está claro .',\n",
              " 'yo ♥ ️cumaná aunado a la lucha contra el covid NUM , MENTION alcalde de cumaná vela por la seguridad alimentaria de su pueblo . en esta oportunidad , llevando alimentos a la parroquia ayacucho . # venezuelaconcienciaproductiva URL',\n",
              " 'las víctimas del # covid NUM merecen nuestro recuerdo . el próximo NUM de julio celebraremos la ceremonia de estado en homenaje a los ciudadanos y ciudadanas que han perdido la vida durante la pandemia . también a los servidores públicos que han luchado contra el virus durante meses . URL',\n",
              " '🗣 ️situación : ➡ ️62 días de confinamiento . ➡ ️9 millones de parados . ( despidos , ertes , autónomos ) ➡ ️20 % de caída del pib . ➡ ️sánchez pide prestado para dar un paguita . ➡ ️no hay test ni conocemos a \" expertos \" . ¿ qué hace falta para mandarlo al carajo ya ? # estegobiernoapesta 💪  🏽 🇪 🇸',\n",
              " 'si eres de los que dijo que hacían falta más periodistas como lorenzo milá cuando salió a quitarle hierro al coronavirus , cállate , escóndete debajo de una piedra y no vuelvas a votar en los próximos NUM años . se lo debes a más de 13.000 compatriotas muertos . # ilegalizacióndevox',\n",
              " 'MENTION arratsalde on , los / as conductores / as disponen de mampara y por eso no es necesario el uso de mascarilla . un saludo .',\n",
              " 'protesta de sanitarios a las puertas del hospital NUM de octubre por la falta de material que han tenido por culpa de éste # gobiernodelbulo estás imagenes no la veras en las tv MENTION MENTION MENTION # sanchezveteya # iglesiasveteya # covid NUM # gobiernocriminal # gobiernodimision URL',\n",
              " 'del \" lo tenemos todo controlado \" al \" declaramos la emergencia nacional \" , el discurso del presidente de ee.uu . , donald trump , cambió radicalmente respecto a la pandemia mundial de covid - NUM URL',\n",
              " '🇨 🇳 🇦 🇺 | urgente - # coronavirus : china amenaza a australia con tomar represalias económicas si insiste en investigar el origen del coronavirus .',\n",
              " 'MENTION alguien sabe si algún familiar de manolo ha fallecido ? y manolo , ha sobrevivido al covid ? alguien sabe si manolo ha perdido su trabajo ? ha cobrado el erte ?',\n",
              " 'desde esta cuenta queremos agradecer a todos los profesionales del sector sanitario su papel fundamental en la lucha contra la covid - NUM . muchas gracias URL',\n",
              " 'me encanta como se está dramatizando lo de los estudiantes de NUM ° de bachillerato y nadie dice nada de los de NUM ° de carrera o la gente de grados que se ha quedado sin prácticas xd',\n",
              " 'aniversario creación de la guardia civil . NUM años siempre luchando jamas nos rendiremos , viva la guardia civil , viva españa , viva el rey ! ! MENTION MENTION _ # yomequedoencasa # juntossaldremosadelante URL',\n",
              " 'yo creo , jaume , que el hecho de que el \" dream team \" de la derecha hable de \" autoritarismo \" no quita que , efectivamente , el gobierno esté protagonizando una deriva autoritaria . es decir : que la ( ultra ) derecha sea lo que es no tapa que el gobierno sea lo que es .',\n",
              " 'MENTION NUM caras también es un gran villano de dc . quizá es el q te pega . españa muriendo y tú cuanto ganas ? cuando habrá un sueldo fijo para todos los políticos ? y sobre todo y más importante , cuando os iréis de españa ? tenemos bastante con una pandemia , para tener una epidemia aquí cn ustedes',\n",
              " '👏 gracias a MENTION por atendernos tan tarde . finalizamos la 4a reunión del día con MENTION 📢 le exponemos que : ! ! ️somos colectivo # altoriesgo ! ! ️no hay medios suficientes ! ! ️necesitamos test masivos # covid NUM para seguir con el servicio # tuseguridadnuestraprioridad URL',\n",
              " 'fallece de coronavirus la concejal socialista áfrica lorente . otra que participó en las marchas del 8m . 25.000 fallecidos , muchos de ellos con origen de infección en esos días de marzo . el psoe sigue sin pedir perdón . URL',\n",
              " 'esto nos retrata , y muy mal , como sociedad : los bomberos de madrid hallan a NUM ancianos fallecidos en sus casas durante el confinamiento URL',\n",
              " 'esta tragedia humanitaria es el resultado de la irresponsabilidad del presidente bolsonaro , que está impidiendo enfrentar a la pandemia , llama a la violencia política y ni siquiera tiene un ministerio de salud , por las renuncias de sus ministros . # todospelareformaagrária URL',\n",
              " '📌 hilo de nuestro secretario general y presidente del MENTION , MENTION , con un mensaje claro : \" asturias lo está haciendo bien , es el momento de no bajar la guardia \" . 👇',\n",
              " 'ante la apertura del # comercio en tiempo de desescalada MENTION insiste que es imprescindible garantizar las medidas de protección para las personas trabajadoras y la clientela - URL # covid NUM URL',\n",
              " '📽 ☣ # covid NUM # europa 🇪 🇺 🛑 un gráfico animado muestra el impacto dramático que ha tenido el # coronavirus en los viajes aéreos en europa 👀 👇 URL',\n",
              " 'la mamá de la polola de mi hijo es enfermera del hospital padre hurtado , en neonatología . hay NUM bebé nacido con covid NUM ya q su madre estaba contagiada , trabaja turnos de NUM horas y le dan NUM mascarillas para todo el día , eso es violencia . # piñeraverguenzamundial',\n",
              " 'MENTION y MENTION permiten a las empresas que necesiten mejorar su comunicación interna durante la crisis de # covid NUM acceder a una intranet preconfigurada que será gratuita hasta el NUM de junio URL URL',\n",
              " 'así se mueve el coronavirus por el aire en un espacio cerrado como un supermercado URL URL',\n",
              " 'en clase , si es que llegamos a ir , pedirán un asiento vacío entre dos alumnos y la mascarilla . en los conciertos en sillas a dos metros de distancia , mascarilla y aforo más reducido . pero para ver morir un toro , que es hiper necesario , todos juntitos . claroqsi',\n",
              " '# china 🇨 🇳 informa de otros NUM casos de # coronavirus y NUM muertos más , elevando el total a 81.394 contagios y 3.295 fallecidos . aún hay NUM pacientes en estado grave / crítico URL',\n",
              " '# balance # fase NUM # estadodealarma policía local ha inspeccionado NUM establecimientos con NUM expedientes sancionadores y NUM precintos de actividades . se controla especialmente el número de veladores y distanciamiento entre otras medidas de # seguridad . # gobernación # aytosevilla URL',\n",
              " 'NUM ) ¿ cómo calculo el número real de fallecidos por coronavirus ? como hay gente que me pregunta o que pone en cuestión los datos de fallecidos que saco a diario , vamos a ver cómo se calculan . hoy , por ejemplo , he sacado esta tabla con el cierre a última hora de ayer : URL',\n",
              " 'impresionante labor de la asociación gallega de solidaridad con el pueblo # saharaui 🇪 🇭 MENTION para apoyar al personal sanitario en la lucha contra el # coronavirus 😍 MENTION MENTION URL',\n",
              " 'a más contaminación , más muertos por coronavirus : \" la pandemia nos tiene que hacer más ecologistas \" . \" teniendo en cuenta la letalidad que hay en zonas contaminadas , habrá que luchar para reducir esa letalidad . y en nuestra mano está contaminar menos \" . URL',\n",
              " 'MENTION MENTION MENTION MENTION MENTION hola esta información te puede ayudar a conocer tus derechos y reclamarlos URL',\n",
              " 'NUM . \" la crítica durante el confinamiento ( NUM ) : álvaro peña \" . en este episodio el crítico expone cómo la crisis ha confirmado que “ el mejor festival de cine , el que más estímulos y sorpresas creaba , era la cartelera \" : URL',\n",
              " 'después de que el ayuntamiento de benidorm haya hecho test de covid - NUM a policías , guardias civiles , bomberos y voluntarios , ahora deben hacerse a los técnicos socio-sanitarios a que prestan el servicio municipal de ayuda a domicilio - URL',\n",
              " 'MENTION MENTION la filtración de estas mascarillas es de partículas no de gases , las que llevan filtro al exhalar expulsan partículas por lo que si estás infectado expulsas los virus con el aire , pero si se lían los sanitarios como no se va a liar la gente ? URL',\n",
              " 'si la carcundia eleva el tono de su rabia y de su odio es porque empieza a temer que la crisis provocada por el coronavirus no va a lograr su objetivo de tumbar al gobierno .',\n",
              " 'son unos mentirosos y asesinos , iu partido politico comunista que se ha colado en el gobierno , nadie les voto , pero ellos nos estan matando con su gestion , acusan al capitalismo de ser el responsable de matar a la gente , cuando el virus salio de china , un pais tambien comunista .',\n",
              " '* * * # memoriasdeundecretado día NUM . sábado . harto del covid - NUM ! superando el día de ayer . nuevas actividades . escuchando \" kind of blue \" de miles davis . \" midnight cowboy \" ( john schlesinger , NUM ) hoffman / rizo y voight / joe fantásticos . mañana será otro día . familia . URL',\n",
              " '43.325 trabajadores sanitarios contagiados por coronavirus # covid NUM en españa y subiendo . además denuncian que no se les están realizando pruebas de detección suficientes , a pesar de lo que diga el gobierno de españa . esta es la realidad . URL URL',\n",
              " '😷 🏥 | médicos de teruel y calatayud apuntan que la covid - NUM llegó a aragón antes de la pandemia : URL # coronavirus # aragón # pandemia',\n",
              " 'la descontaminación del coronavirus / coronavirus decontamination | URL vía MENTION # coronavirus # virus # pandemia # pandemic # covid NUM # cannabis # mahihuana # marijuana # hashish # hachis URL',\n",
              " '🎦 ¡ ¡ gracias a todos por quedaros en casa 👏 ! ! uno de nuestros vehículos hace un recorrido por el barrio de la estrella de madrid para mostrar sus calles vacías # estevirusloparamosunidos ⤵ 📹 URL',\n",
              " 'URL campaña por el puto coronavirus # quedateencasa super promo ! ! . próximos NUM fans ! ! estoy subiendo videos brutales y viciosos , * * * * * * campaign for the fucking coronavirus and stay at home super promo ! ! . next NUM fans ! ! i am uploading brutal and vicious videos URL',\n",
              " 'si que hace falta una limpia en la policía , si ... vergonzosas las palabras de este sindicato . no representa a la ciudadanía , no representa a la policia y no representa a españa .',\n",
              " 'MENTION esa mierda se abrió por la mitad y desató el principio del fin ... las siete plagas , la primera , el coronavirus',\n",
              " 'la evolución de hospitalizaciones en # andalucía es esperanzadora . no debemos confiarnos ni relajarnos . si nos seguimos anticipando y mantenemos la prudencia , ganaremos la batalla al # coronavirus . URL',\n",
              " 'cómo se defiende esto ?',\n",
              " 'pues anda que , el ilustre zapatero , se descuelga diciendo que lo del fiasco de la compra de los test , “ cualquiera puede tener un héroe ” .',\n",
              " 'roban un cuadro de van gogh en un museo cerrado por el coronavirus en países bajos the parsonage garden at nuenen oil on paper on panel 25.0 x 57.0 cm . nuenen : may , NUM groningen museum voor stad en lande URL URL',\n",
              " 'si te pones a contar todos los tuits q incluyen # yoapoyoalgobierno como respuesta al tt mundial # sanchezveteya , la izquierda consigue no sólo batir el récord mundial de muertos por coronavirus por millón de habitantes , sino también el récord mundial de glplls x millón hab .',\n",
              " 'los # agentesforestalescm están teniendo un papel esencial en esta crisis del covid NUM . junto a protección civil , reparten equipos de protección en residencias y acompañan a mayores solos en zonas rurales . ¡ gracias a todos !',\n",
              " 'en el confinamiento por el # covid _19 se ha denunciado la escasez de recursos sanitarios en la # españavaciada ahora crecen los contagios y hay fondos ¿ ha mejorado algo ? seguimos con cifras ridículas de camas uci , atendidas por NUM enfermera por cada NUM camas URL t',\n",
              " '# perú | la elaboración de # mascarillas ha supuesto la # salvación para el gremio de los # artesanos , ya que su actividad se paralizó de manera drástica , tras la llegada del # covid NUM al país . 👉 URL 👈',\n",
              " 'aquí quedo la charla que hicimos hoy con MENTION donde estuvieron en vivo cerca de NUM URL . gracias a todos por estar . esperemos que haya sido útil !',\n",
              " '# coronavirus : el director médico del hospital de torrecárdenas ha reconocido su preocupación por la propagación de la pandemia en almería , que ha sumado NUM casos positivos más . « es una situación muy alarmante y muy complicada » URL',\n",
              " 'la crueldad de MENTION _ y MENTION no tienen fin , todo lo que les preocupa de esta pandemia son \" homenajes de estado a los fallecidos por # covid _19 \" y que los más poderosos \" no paguen impuesto de sucesión \" olvidan los brutales recortes en sanidad o los NUM fallecidos 👇 URL',\n",
              " 'rafael palacios , el instigador de las manifestaciones magufas negacionistas del covid - NUM , acosa e insulta a la periodista rocío vidal . vivimos en una distopía donde la racionalidad está arrinconada frente a los \" sentimientos \" de quienes creen en bulos y conspiranoias diversas .',\n",
              " 'alemania : 140.000 contagiados 84.000 curados 4.500 muertos jamás se prohibió salir a hacer deporte , fin del confinamiento ya . españa : 200.000 contagiados 80.000 curados 21.000 fallecidos ( oficiales ) puede q en julio empiece la # desescalada lo q va d una buena gestión a un caos',\n",
              " 'un cura de un municipio murciano acusa al gobierno de engañar con las cifras de fallecidos de la covid - NUM : \" aquí hay persecución y hay mentira \" URL URL',\n",
              " 'varón europeo heterosexual paseando por # bilbao con mi mascarilla obsequio de la MENTION mientras disfruto unos MENTION . veo puntos extra . URL',\n",
              " 'mi pregunta del lunes NUM de junio del NUM dc es : ¿ algún votante del psoe o up que se quedó sin trabajo , se ha muerto algún familiar querido por la gestión criminal de este gobierno en la pandemia , sigue sin cobrar el erte etc . seguirá votando a estos social-comunistas ? URL',\n",
              " 'felipe vi : reinar entre pedro y pablo ➡ el papel de la familia real . el monarca se ha volcado en la pandemia pese a que el gobierno le ha dado perfil bajo URL',\n",
              " 'la isla japonesa de hokkaido es un ejemplo de cómo el # coronavirus puede regresar si las pautas de distanciamiento social se relajan . hokkaido declaró el estado de emergencia el 28/2 y lo levantó el 19/3 . ahora están declarando una segunda emergencia . URL',\n",
              " '# salud | un médico desmonta los mitos y bulos del movimiento que rechaza el uso de las mascarillas contra el # coronavirus vía MENTION URL',\n",
              " 'conoce las caras de la vulnerabilidad evidenciadas por la crisis de la # covid NUM . en san juan de dios las cuidamos y acompañamos , ahora más que nunca , para mejorar sus vidas . # nosgustacuidar vía MENTION URL',\n",
              " '¿ cómo está la situación del mercado de colón de # leónesp ante la posibilidad de un cambio de ubicación a raíz de la crisis sanitaria de la # covid NUM ? nuestra portavoz MENTION lo explica en este audio 👇 URL',\n",
              " 'gran reportaje de la bbc sobre el impacto del coronavirus en españa y que cuenta con la participación de personal sanitario albaceteño . nunca nos cansaremos de mostrar nuestro infinito agradecimiento a su labor pese a la evidente carencia de medios y poniendo en riesgo su salud .',\n",
              " '🔴 # jucil solicita con carácter urgente , que se realicen los # testpcr a todos los guardias civiles ➡ ️por el riesgo de contagio al que se exponen a diario ➡ ️porque las # fcse llevan a cabo una labor fundamental en el control y la lucha contra el coronavirus # grupoderiesgoya URL',\n",
              " 'érase una vez , un país donde el coronavirus tenía mejor imagen que el presidente .',\n",
              " 'que dice una juez que el NUM m no sirvió para extender la propagación del coronavirus . pues nada , salgamos ya de nuestras casas y volvamos a llenar bares , restaurantes , teatros , estadios de fútbol , conciertos , etc . nada de eso consigue congregar a más de 100.000 personas pegadas .',\n",
              " 'la doctora italiana lorena quaranta fue estrangulada y asesinada por su novio después de que él la acusara de contagiarlo por covid - NUM ( se les hizo pruebas a ambos y salieron negativas ) . el machismo y la violencia contra la mujer no descansan , ni durante una pandemia . URL',\n",
              " 'NUM . \" todo occidente ha llegado tarde \" al coronavirus : \" y españa no es una excepción \" . dice que españa ha sido el primer país occidental en decretar el confinamiento . o no vio el whatsapp sobre el confinamiento en italia o piensa que italia no es occidente ...',\n",
              " 'buenos días 🦇 ! hoy nos sumamos , como muestra de respeto , pésame y reconocimiento por las personas que han perdido la vida por el # covid NUM , al luto oficial en toda la comunitat valenciana . dep y a las ⌚ NUM h 👉 3️⃣ minutos de silencio en su memoria # amuntdesdecasa 🏡 URL',\n",
              " 'lo que el coronavirus se llevó pedro sánchez está acabado . no sé si mañana , la semana que viene o dentro de tres semanas , pero va a tener que ceder el testigo . a medida que el no de muertos crezca , y va a crecer mucho , su situación va a irse volviendo cada vez más insostenible',\n",
              " 'vicente del bosque , con una claridad meridiana : \" se está generando un clima de división que es fatal para el país . creo que es mezquino intentar sacar rédito político a esta situación tan grave del coronavirus , con tantas muertes \" . URL en MENTION',\n",
              " 'este día , realizamos NUM pruebas de # covid NUM ( estamos incrementando nuestra capacidad de hacer pruebas ) . 1,239 negativas / NUM positivas todos locales : NUM de apopa , san salvador NUM de san martín , san salvador NUM de soyapango , san salvador NUM de san marcos , san salvador sigue ...',\n",
              " 'me entero del fallecimiento del dr anselmo rosales inmunólogo , dedicó toda su vida a los pacientes vih + , de gran estima para sus pacientes y colegas . qepd . otra víctima del covid NUM . paz a sus restos .',\n",
              " 'el consejo de salubridad general publicó ayer en el MENTION el acuerdo para declarar el covid - NUM como \" enfermedad grave de atención prioritaria \" , acto jurídico fundamental para futuras medidas de preparación , prevención y control de dicha epidemia . URL URL',\n",
              " 'españa siglo xxi año 2.020 a este la policia no lo detiene ni lo apalean por saltarse la # cuarentenatotal ? ni hay vecinos que le increpen o insulten por ponerles en peligro con el # coronavirus ? # felizjueves URL',\n",
              " 'no son 27.136 los muertos por # covid sino 52.500 : los matemáticos de # inverence lo demuestran URL # reportajes # sanidad',\n",
              " 'hoy a las NUM h , retransmitido por MENTION funeral por las víctimas del covid NUM desde la catedral de la almudena de madrid con presencia de ssmm los reyes , y la ausencia de pedro sánchez y pablo iglesias . sería bueno q tuviera mucha audiencia en señal de respeto y duelo , rt ! !',\n",
              " 'el forense a la juez : es \" cierto y seguro \" que sin el NUM - m \" se habría evitado una amplia difusión del virus \" URL',\n",
              " 'junto a MENTION pedimos ampliación temporal de # aceras 🚶  \\u200d  ♀ ️ 🚶 para distanciamiento y seguridad vial en fase de desconfinamiento : URL URL',\n",
              " 'la oms advierte sobre los \\' pasaportes de inmunidad \\' : \" no hay evidencia de que los recuperados de covid - NUM estén protegidos \" URL via MENTION',\n",
              " 'trump manipula laa declaraciones del dr . fauci . lo quiere convertir en cabeza de turco de la pandemia cuando ha sido trump y su ineptitud y soberbia las claves de la gestión de la pandemia . pero los “ liberales ” siguen considerándolo un héroe ejemplar . URL',\n",
              " '¿ cómo se vive la crisis del coronavirus en galicia ? nuestro paisano MENTION de MENTION nos responde desde la coruña . # diásporavenezolana',\n",
              " 'directorio de contactos da MENTION durante a alerta sanitaria # coronavirus URL URL',\n",
              " 'los sanitarios merecen descansar y un mejor sueldo , no ir a ver cómo asesinan animales , señora .',\n",
              " 'no estoy llorando , tu estas llorando ?',\n",
              " 'MENTION MENTION descanse en paz . mierda de virus que se lleva a los mejores . lo siento . 🖤 🖤 🖤 🇪 🇸 🇪 🇸 🇪 🇸 🖤 🖤 🖤',\n",
              " 'parte oficial del gobierno andaluz sobre # covidー NUM ⛑ son 3.010 los casos positivos de # coronavirus en # andalucía URL',\n",
              " 'su mujer da dos veces positivo , él se salta la cuarentena día sí y día también para poder hacer sus ruedas de prensa en moncloa y nos viene a contar que lo que hay que hacer es respetar el confinamiento . sin que se le caiga la cara de vergüenza ni nada . URL',\n",
              " 'si ingenieros el coronavirus es importante porque se ha podido extender a todo el mundo el puto ébola se quedaba en áfrica y punto y que se jodan los negros porque si , si se pueden joder solo los negros de áfrica no importa porque así funciona el mundo .',\n",
              " 'era justo lo contrario a tí javier ! sólo teníais en común la profesión . por tí josé mari ❤ ️',\n",
              " 'cuando la ministra responsable de las manifestaciones del NUM - m reconoce que sabían lo peligroso que era el # coronavirus y admite que no dijo nada y lo ocultó a sabiendas de sus posibles consecuencias , eso es un golpe de estado .',\n",
              " 'vicente vallés demuestra con documentos originales de la organización mundial de la salud que el ministro salvador illa ha mentido reiteradamente acerca del numero de los fallecidos por no haber seguido los criterios marcados referentes a incluir a los casos sospechosos de covid . URL',\n",
              " 'ante la pandemia pp y vox no han aportado nada . literalmente nada . - pp : fotos y posados . - vox : llamar comunistas hasta al papa . - ahora , incitan a romper el confinamiento y la distancia social , eso si , bandera al cuello . si hay un repunte , ahí tenéis a los culpables .',\n",
              " 'MENTION tanto confinamiento y resulta , que con banderas , anticuerpos españoles y corbatas negras ya está todo solucionado',\n",
              " 'el mensaje de hoy de casado en el parlamento es puro terrorismo dialéctico . lo explico : compara los muertos del NUM m , atentado terrorista yihadista , con los muertos por coronavirus culpando al # NUM m ( feminismo ) y subliminalmente al gobierno , al que coloca como autor intelectual ...',\n",
              " '“ espero que todos os lavéis las manos y no salgáis más de una hora . todos juntos podemos superar esto colaborando mucho ” mi hijo roque , de NUM años , escribe como si fuera un policía en tiempos de pandemia . son maravilla . MENTION URL',\n",
              " 'actitud de la oposición en europa . 🇬 🇧 acabar con el covid NUM 🇵 🇹 acabar con el covid NUM 🇩 🇪 acabar con el covid NUM 🇫 🇷 acabar con el covid NUM 🇪 🇸 acabar con el gobierno',\n",
              " 'pablo casado no responde sobre si hay que dotar de más recursos a la sanidad pública # covidー NUM URL URL',\n",
              " 'gracias a la policía gracias bomberos gracias médicos gracias enfermeros gracias auxiliares gracias a la protección civil gracias a los taxistas gracias a los militares personal de supermercados , farmacéuticos , administrativos ... # quedateencasa # covid NUM URL',\n",
              " '“ ni un puta mascarilla ” dice el cantante de taburete . llevo todo el verano actuando para un público responsable con distancia de seguridad y mascarillas . ni este señor ni este público nos representa . la cultura es segura , menos en este concierto . irresponsable .',\n",
              " 'despues de NUM muertos en madrid y cuando ha salido la noticia en la prensa , la señora ha considerado que lo mismo era buena idea abrir la uci que dicen no tener cerrada . cuando acabe esto , hay que llevar a esta señora al juzgado por negligencia .',\n",
              " '🔴 en directo el ministro de MENTION , salvador illa , comparece en rueda de prensa junto al director del ccaes , fernando simón , para informa sobre las fases de # desescalada . # estevirusloparamosunidos URL',\n",
              " 'el investigador de la MENTION MENTION participa en un proyecto para combztir el # covid - NUM mediante el análisis del genoma del # virus URL URL',\n",
              " '“ acabemos con el covid - NUM sin perder derechos y libertades por el camino ” URL MENTION # seguridadconderechos',\n",
              " 'buenos dias madrugadores de españa . comenzamos # gobiernodimisionya . # yomequedoencasa ¿ soltamos adrenalina ? imaginar que esos objetos y ... URL',\n",
              " '# pp y # vox votan en contra de las medidas # socialcomunistas de # sánchez - #iglesias # cs a favor , se retrata . no hay más que decir ! # unidossumamos 🇪 🇸 # covid NUM MENTION MENTION MENTION MENTION MENTION MENTION MENTION MENTION MENTION URL',\n",
              " '“ jonan basterra está ingresado desde el sábado en el hospital de campaña de madrid por los efectos del coronavirus , y destaca que recibe una atención \" maravillosa \" ” . de verdad , flipo con los bulos que dicen que ifema es un caos .',\n",
              " 'como es el confinamiento / / como lo contaré',\n",
              " 'propuestas de pedro sánchez para luchar contra el # covidー NUM tests falsos . mascarillas y epis defectuosos . controlar televisiones . monitorizar redes y censura . no acordarse de los que han muerto por su porquería de gestión . ¡ ¡ tremenda charo y miserable eres ! !',\n",
              " 'se empieza por quemar y menospreciar a los # mir NUM . se acaba con más de 60.000 sanitarios infectados por # covid NUM por falta de epis . si no cuidas a los \" pequeños \" cómo vas a cuidar a los \" mayores \" ... # fsenllamas # fsestalla # fsenlucha # mir 2020congarantias',\n",
              " 'en eeuu el personal sanitario tiene un doble problema porque luchan contra el virus y contra el alto porcentaje de imbéciles de su país',\n",
              " 'coronavirus en españa : seguimiento gráfico 👇 👇 URL # coronavirusesp # covid 19esp # covid NUM # quedateencasa datos a 28.03 . NUM 👇 URL k',\n",
              " 'no distingues fusión de fisión , pero opinas de nucleares . no sabes qué son los anticuerpos , pero lo sabes todo sobre las vacunas . no sabes distinguir virus de bacterias , pero eres experto en covid - NUM . ni idea de adn y arn , pero transgénicos caca . bien , campeón , bien .',\n",
              " 'refugiados sin agua ni espacio : la bomba de relojería del covid - NUM está en grecia URL',\n",
              " 'a las 2:00 son las 3:00 lo que significa una hora menos de confinamiento vamos chavales que se puede hostia vamos a ser positivos',\n",
              " '👨  🏼\\u200d  🍳 josé andrés : la respuesta del chef josé andrés al ministro de consumo alberto garzón + info : URL # hostelería # restaurantes # coronavirus # covid NUM # covid 19espana URL',\n",
              " '\\' abc \\' califica de \" ideología \" las medidas sociales contra el coronavirus ... y esto es lo que decían del rescate a la banca - URL',\n",
              " 'también lo leí y creo que has olvidado un detalle en tu twitter , la cuarentena de maduro no fue por el coronavirus , igual pienso que no es bruto y creo que se confunde inteligencia con capacidad',\n",
              " 'la ocde rectifica y sitúa a españa en el puesto NUM del mundo en realizar tests de covid NUM , tras observar datos falseados por el gobierno de pedro sánchez . si , el gobierno anti-bulo . ¿ rectificará julia otero , o dejará que el bulo siga su curso ? URL',\n",
              " '🔴 ➡ algunos vecinos y miembros de la prensa local han tenido que refugiarse en un portal tras las amenazas de los temporeros que escaparon del confinamiento en albacete . URL',\n",
              " 'el director del imss MENTION nunca tuvo coronavirus . abro hilo .',\n",
              " 'la plataforma sanitarios necesarios sale a las puertas de los hospitales para denunciar la precariedad , los despidos y pedir una sanidad pública y de calidad # covid NUM URL g',\n",
              " 'MENTION madre marta que paciencia , yo tb trabaje hace años de cara al publico de cajera en un supermercado y la verdad que la gente es lo peor . siempre me llevo la ropa a casa , me la prueba y la devuelvo , antes del virus y más ahora . ye lógico y de sentido común . un abrazo .',\n",
              " 'hablo por teléfono con pérez-reverte y dice : \" ayer reté a un duelo a muerte a NUM hostigadores . a las 12:00 en plaza de españa . no se presentó ninguno . el confinamiento , decían . cobardes . me resarcí azotándoles con el látigo del bloqueo \" . luego me pasa su agenda telefónica 👇',\n",
              " 'la comunidad de madrid comunica en reunión con sindicatos q no renovará los contratos q hizo a los profesionales q están reforzando la lucha contra el coronavirus en hospitales , summa NUM y atención primaria . y ahora aplaude fuerte , MENTION . ¡ so falsa ! URL',\n",
              " 'la comunidad de madrid no hará tests a los graves . al no haber test , no contabilizarán en la cuenta de muertos por coronavirus . intentar solucionar el problema manipulando estadísticas es contraproducente . URL',\n",
              " 'el gobierno presionó a la ocde para situar a españa entre los países que más test de coronavirus realizan en el mundo URL',\n",
              " 'periodista holandés pregunta al ministro sobre el confinamiento inteligente , como hicieron en holanda . el ministro responde sobre lo responsable que es el pueblo español . no responde a la pregunta , muy típico de los manipuladores . URL',\n",
              " 'MENTION es para que no pidan mejoras de condiciones . ya se las darán fuera con la experiencia que han cogido en esta pandemia .',\n",
              " 'españa es el segundo país del mundo en número de contagiados por el covid - NUM ( sólo por detrás de estados unidos ) y el segundo en número de fallecimientos ( sólo por detrás de italia ) . llegaremos al pico , claro , pero no es lo mismo llegar a la punta del everest que a navacerrada .',\n",
              " 'donald trump diciéndoles a los científicos que si han probado a agarrar al virus por las solapas y decirle \" mira , te comento . \"',\n",
              " 'hoy en la consulta un paciente q estuvo ingresado en el # hospitallapaz por covid NUM , reconocía agradecido el esfuerzo de todo el personal q alli trabajamos pero también me contó su experiencia desgarradora en la sala de sillones , los días peores días de la pandemia .',\n",
              " 'hola , soy progre . la manifestación del NUM m no incrementó los contagios , pero como salgas a hacer footing eres un cabrón por propagar el virus , jajaja # cómomolo',\n",
              " '\" la comunitat valenciana lanza su \\' app \\' para el coronavirus tras un mes de pandemia \" URL . MENTION y pablo plaza han contado con mi opinión sobre # geolocalización # privacidad # covid NUM # gracias # geofans # geoactivista # yosoygeógrafo # playgoxp URL',\n",
              " 'qué cojones hay que tener en la cabeza para manifestarte por madrid gritando “ policía asesina ” , sobre todo con el papel que han cumplido las fuerzas de seguridad en la pandemia ?',\n",
              " 'pues nada ... ya nos quieren volver a meter el homenaje por el culo ! ! ! ! el rey presidirá un gran acto de homenaje a las víctimas del coronavirus URL',\n",
              " 'te contamos cómo puedes desinfectar tu teclado de ordenador para prevenir el # covid NUM 👉 URL 👈 # quedateencasa # felizmiercoles # informatica # sevilla URL',\n",
              " '# 16abr # 17añosbarrioadentro medicina solidaria , humanista , casa a casa en despistaje covid NUM # miranda MENTION URL',\n",
              " 'tengo claro que el trío marta - alfonso merlos - alexia rivas han montado este montaje para tener más protagonismo durante este confinamiento . si fuese real todo , no das explicaciones a una revista al minuto de salir la noticia . es absurdo .',\n",
              " 'he pasado por una frutería y el dueño estaba sin mascarilla . ha salido a charlar con tres hombres , todos sin mascarilla . cuando vuelvan a decretar el cierre de su negocio , culpará al gobierno de su ruina .',\n",
              " 'ayer hablamos con una amiga con la que hacía unos meses que no lo hacíamos . resulta que ha pasado el coronavirus ella y sus dos hijos pequeños de NUM y NUM años y ha estado en cuarentena casi un mes . os cuento lo que ha pasado para que veais como se comporta la gente ante algo así . ⬇ ️',\n",
              " 'si te sientes mal piensa en el estadio de la cartuja , para una vez que iba a tener fútbol en su interior con la final de la copa del rey le pilla el confinamiento .',\n",
              " 'es imprescindible tener una o más vacunas lo antes posible para minimizar el impacto de una segunda ola y recuperar la normalidad . por eso , hoy he apoyado el acuerdo de compra anticipada de vacunas contra el # covid NUM en la reunión de ministros de la ue URL URL',\n",
              " 'seismileuristas de risas por webcam haciéndole el análisis de género al coronavirus . eso si , desde casa y a salvo después de haber sacado a cientos de miles de personas a las calles . algunas de estas personas nunca han trabajado en nada fuera de la política . yo voto contra esto . URL',\n",
              " 'dirigentes del pp intentan esconder su papel en el desastre actual de la pandemia . en su cobardía , apuntan a toda la sociedad , cuando eran ellos los que aplicaban los recortes . el pp hace como los nazis en nuremberg : negar su culpa y apuntar a los demás .',\n",
              " 'MENTION ya puestos , que prohíban contagiarse del covid y acabamos antes',\n",
              " 'la juventus se plantea vender a cristiano por la crisis del coronavirus ⚽ ️ 🐥 # quedateencasa URL',\n",
              " 'menuda diferencia en la gestión del coronavirus del gobierno socialista de portugal con los que está pasando en españa . además el comportamiento de la oposición lusa también está siendo ejemplar .',\n",
              " 'una familia monta un súper en casa para que la abuela con alzhéimer pueda hacer la compra . pudo cumplir con su único deseo durante el confinamiento por el coronavirus : ir con su carrito a la tienda URL',\n",
              " 'yo me imagino a los médicos dándolo todo , sin los insumos suficientes , contagiándose , muchos aislados en hoteles , con miedo a lo que se viene , viendo el número de contagios subir y pendejos pelotudos diciendo el virus es falso porque mayami me lo confirmó y me genera odio .',\n",
              " 'MENTION MENTION no , microbiólogos eran los que sabían con total certeza en enero , febrero y hasta el NUM de marzo que la covid NUM era sólo una gripe .',\n",
              " 'que el confinamiento por # covid NUM no sirva de excusa para un incremento del ciberacoso . los delitos de odio también lo son a través de las redes sociales . no estás solo / a , denúncialo 🏳 ️\\u200d  🌈 👉  🏾 consulta nuestra guía de delitos de odio por lgtbifobia 📲 URL URL',\n",
              " 'fue un placer volver a entrevistar a MENTION para MENTION , esta vez sobre la vida en tiempos de coronavirus . MENTION MENTION ricardo darín : \" he tenido mucha suerte en mi carrera , siempre encontré manos extendidas para defenderme \" URL',\n",
              " 'uno de los bares donde surgió un brote de covid - NUM en lorca sirvió catering pese a tener contagiados entre sus empleados URL MENTION para MENTION',\n",
              " 'leído el auto de la jueza de lleida en el que no ratifica el confinamiento declarado en el segrià por el presidente de la generalitat , voy a intentar , de forma breve , explicar las razones que se dan en dicha resolución para no avalar lo acordado por la administración . hilo va .',\n",
              " '* una pandemia mundial sucede * lo que le importa a MENTION : 🔴 en directo : URL URL',\n",
              " '¿ cómo las marcas de restauración sustentan esta cuarentena ? ¿ qué podemos hacer para ayudarlas a sobrellevar estos tiempos de confiamiento ? # yomequedoencasa # cuarentena # quedateencasa URL',\n",
              " '\" la # atenciónprimaria que ha estado , ha estado en esta pandemia digamos que un poco ... mmm ... fuera de acción \" ( MENTION , presidenta de MENTION ) no imagina la indignación que me produce su ignorancia , por que este comentario va màs allà de la desinformación .',\n",
              " 'me han ofrecido gratuitamente la posibilidad de descargarme uncharted NUM al registrarme en play station plus . me estoy comprando la trilogía de los NUM juegos anteriores a este . está pasando . recuerdos desbloqueados . se avecina confinamiento en el cuarto . adiós hasta nuevo aviso xd',\n",
              " 'que os preocupa más que pablo no lleve mascarilla al súper cuando no es obligatorio , que un vividor follador se salte la cuarentena para echar un polvo gilipollas no , lo siguiente , inútiles # irresponsables',\n",
              " 'NUM . progresión de los muertos coronavirus en españa en los últimos días 🇪 🇸 . la cifra ya se acerca a italia 🇮 🇹 : - 18/3 : + NUM - 19/3 : + NUM - 20/3 : + NUM - 21/3 : + NUM - 22/3 : + NUM - 23/3 : + NUM - 24/3 : + NUM',\n",
              " '¿ reutilizáis y usáis la misma mascarilla una y otra vez ? se os van a quitar las ganas . esta microbiologa cultiva los restos de telas de diferentes mascarillas y esto es lo que se encuentra . asco máximo . URL',\n",
              " 'detenciones y multas por saltarse el confinamiento con difícil encaje legal URL',\n",
              " '🔵 no queremos que ninguna familia de sanse sufra las consecuencias de la crisis del covid NUM . solicitamos la exención del pago de los servicios del cementerio a las familias cuyo ser querido ha fallecido , en caso de no tener seguro de decesos que lo cubra 👇 URL URL',\n",
              " 'que nadie se lucre de nosotras , solo los dependientes . # covid NUM # auxsadfuenlabrada # isabelcalvo # amadd # sadenlucha # sos # dependientes URL',\n",
              " 'MENTION ahora sí que siento como un subidón de energía , pero ésto provocará que al final del día esté hecho polvo , porque me acabas de dar la idea de dedicar la jornada de confinamiento de hoy a buscar películas con un alto valor estético-sensual , y a el derroche de energía onanística . URL',\n",
              " 'esta noticia no les gusta a los mamertos muy bien presidente duque 👏 👏 👏 👏',\n",
              " 'amigos y compañeros de partido , pero hoy no estamos aquí ni por política ni por el debate toros si toros no . hemos venido para defender a los profesionales de la tauromaquia y sus familias que están siendo discriminados por el gobierno que les excluye de ayudas por el # covid NUM URL',\n",
              " '« antes del virus mi opinión sobre el gobierno era pésima ( ... ) me parecía un gobierno empeñado en volar el espíritu de la transición y en liquidar el pacto constitucional . ahora creo que además es un gobierno lleno de incompetentes dirigido por dos tipos cada cual más peligroso . »',\n",
              " 'en china nadie ha perdido su puesto de trabajo por el coronavirus . dadle una vuelta a eso .',\n",
              " '# covid NUM pedimos al gobierno que : 🔴 autorice urgentemente la adopción de los animales que se encuentran en centros de acogida 🔴 se establezca una moratoria de la cría de animales destinados a la venta MENTION MENTION por favor es urgente ! ! URL',\n",
              " 'esta pandemia nos está dejando a tan mal , que jorge zjavier vázquez en sálvame le ha dado un repaso a cualquier analista político de este país , y se ha convertido en ídolo de cualquiera que se considere progresista , empezando a caer bien a muchos que pensamos que jamás pasaría .',\n",
              " '¡ durante el confinamiento , hagamos lo que hacen las y los astronautas ! 😎 su entrenamiento nos sirve actualmente para manejar el # quédateencasa durante esta # emergenciasanitaria . 👩  \\u200d  🚀 🧑  \\u200d  🚀 🇲 🇽 ¡ la MENTION te dice cómo ! URL URL',\n",
              " 'decía rubén darío que un libro ` es fuerza , es valor , es alimento ; antorcha del pensamiento y manantial del amor ́ que en estos días de confinamiento , la lectura se convierta en aliada para fortalecernos , enriquecer el alma y aportarnos luz . ¡ feliz # díadellibro ! # dialibro NUM',\n",
              " '# renfedestruye # renfedespide bienvenidos a bordo del despido de NUM trabajadores que están sufriendo un erte por el # covid NUM',\n",
              " 'los colegas de MENTION la están pasando mal por covid - NUM y han creado este álbum increíble de covers para recaudar fondos los invito a checar este proyecto , tiene a grandes artistas y bandas indie haciendo covers a canciones de los 2000s podrán adquirirlo hasta septiembre ❤ ️',\n",
              " 'un virólogo explica lo que han visto en las mutaciones del coronavirus : \" un hilo de esperanza \" URL',\n",
              " 'ustedes me perdonan si les daño el rato , pero si un gobierno con descaro roba , miente y permite muertes de líderes sociales todos los días , podría uno creerle las cifras que nos entregan sobre el covid NUM ?',\n",
              " 'portada con rostros de fallecidos por coronavirus . no son perros , son personas . así que nos podemos ir olvidando de que ferreras monte un pollo . URL',\n",
              " 'chivite cifra en 1.715 los afectados por covid - NUM en navarra y contempla montar un hospital de campaña en refena URL vía MENTION',\n",
              " '¿ pasta a las teles privadas ? ¿ no hay para proteger a nuestros hijos , que se juegan la vida contra el coronavirus y dan millones a las teles ? si escribo lo que les deseo , acabo presa .',\n",
              " 'el foco de los mataderos : de la # listeriosis de sevilla al brote de covid en alemania vázquez # abogados URL',\n",
              " 'como usar correctamente las mascarillas 👇 ✔ lávate las manos antes de ponerla ❌ evita tocar la mascarilla ✔ debe cubrir la boca , nariz y barbilla ✔ cuando esté húmeda , tírala ✔ para quitártela , hazlo por la parte de atrás , sin tocar la parte frontal URL URL',\n",
              " 'apuntes jurisprudenciales sobre la desobediencia en tiempos del confinamiento URL URL',\n",
              " '¿ quieres el recurso a la multa de confinamiento ? un abogado lo regala URL URL',\n",
              " '🔝 # soniapérez : \" podemos conseguir que el # covid NUM no corra tanto quedándonos en casa , pero para que eso sea posible algunos tienen que salir de la suya \" 🗞 ️artículo en MENTION de la consejera socialista de turismo , comercio y consumo del gobierno vasco # fuertesyunidos URL',\n",
              " 'MENTION nuestros gobernantes son el peor de los virus',\n",
              " 'MENTION yo en ningún momento he visto que no mantengan la distancia de seguridad , no hace falta ser \" empresario \" para saber la grave crisis que la pandemia nos esta dejando a todos !',\n",
              " 'hasta MENTION MENTION llama a MENTION para hablar de sus análisis político tras el artículo del pasado lunes “ los trucos de moncloa para sobrevivir a la pandemia ” hay que escucharle para conocerle',\n",
              " '# últimahora todos los estados de ee.uu han activado la declaración de desastre es la primera vez que un presidente declara en estado de desastre a estados unidos en la historia del país . nueva york sigue siendo el foco mundial de la pandemia . URL',\n",
              " 'más de un mes que no veo a nadie de mi familia ni mis amigos encerrada en casa , de casa al hospital tengo una depresión que me muero ... veo esto y me vuelvo loca de rabia e indignacion ... a mi que nadie me aplauda a las 20h ... # enfermería de críticos MENTION # covidー NUM URL',\n",
              " 'iniciativas del MENTION contra el # covid NUM - # estadodealarma MENTION MENTION MENTION URL',\n",
              " '# madrid # fortunatayjacinta by # benitoperezgaldos today me decido a comenzar la lectura . siento debilidad por este escritor . # quedateencasa # yomequedoencasa ok sarah ✌ ️ # sarahsuttonmoda # sarahsuttondiseñadora # sarahsuttonboutique URL',\n",
              " '🔴 # últimahora detectados dos brotes de # coronavirus en tudela y pamplona . la consejera de salud ofrecerá los detalles de este repunte en # navarra a partir de las 18:00 horas . directo en MENTION',\n",
              " 'en olympe abogados volvemos a tener reuniones y visitas presenciales en nuestra oficina desde hoy . si bien , lo más seguro es realizar llamadas y / o videollamadas . podéis revisar nuestro protocolo # covid NUM en nuestra web ( URL ) . disponibles en skype . URL',\n",
              " '# covid NUM | el ministro de sanidad de # alemania , jens spahn , anuncia que se impone el # test obligatorio para todos aquellos que procedan de # cataluña , aunque advierte de que hay más # riesgo dentro de su país URL',\n",
              " 'aquí puedes ver el programa del curso el gestor deportivo en tiempos del covid - NUM URL',\n",
              " 'cuanto antes tiñamos de verde nuestro pueblo , nuestra ciudad , nuestra comarca , antes saldremos . mantengamos el distanciamiento social y extrememos la higiene . vamos a conseguirlo ! 👇 URL URL',\n",
              " 'fernando simón ya dijo que las últimas semanas del confinamiento serían las más difíciles . lo visto con los niños lo prueba . y si las cosas salen mal , los que exigen ahora que salgan los niños dirán que es culpa del gobierno por dejar salir a los niños .',\n",
              " '¿ quieres una raqueta de MENTION , MENTION o MENTION ? participa en la subasta del programa de entrenadores atp para apoyar a los más afectados por la pandemia .',\n",
              " '🇪 🇸 luis enrique , entrenador de la MENTION , sobre la gestión política ante el covid - NUM , en instagram 😡 \" veo una actitud lamentable en todos los políticos ; en los que gobiernan y en los de la oposición \" 😠 \" solo piensan en sus intereses , o al menos eso me parece \" URL',\n",
              " 'os cuento las decisiones de mi universidad actual ( u . de kent , canterbury , uk ) respecto a los exámenes debido a la situación por covid - NUM las cuento porque me parecen decisiones sabias de una universidad que no quiere perjudicar a sus alumnxs y porque podrían servir como modelo .',\n",
              " '. MENTION : \" estamos llegando a una locura absurda . con los datos que manejamos , el # coronavirus no mata . pero está siendo un pelotazo mediático y se está utilizando políticamente . \" # todoesmentira NUM m URL URL',\n",
              " 'de los mejores anuncios que he visto sobre respetar la distancia de seguridad en esta pandemia . muy gráfico y muy ilustrativo ! ( activar audio ) 👏  🏻 👏  🏻 👏  🏻 👏  🏻 👏  🏻 URL',\n",
              " 'medidas de casado frente a la pandemia : declarar # lutonacional . # asínosrcasado sesión control congreso URL',\n",
              " 'en estos momentos de confinamiento en casa a causa del coronavirus , hacer ejercicio es vital . no solo para la salud física , también la mental . ver : URL # yomequedoencasa # ortopediadeportiva # mastectomía # corsés # plantillas # fajas # ortopediatecnicaavenida NUM URL',\n",
              " 'en esta # cuarentena por el # covid NUM # quedateentucasa y diviértete con los más pequeños de la casa construyendo este avión biplano de los años veinte con pinzas de la ropa # estevirusloparamosunidos ayúdanos y # quedateencasa # covid NUM # coronavid NUM URL',\n",
              " 'por cierto , esta imagen es , desde el punto de vista de salud pública , mucho más preocupante que la de los niños y tal del fin de semana . lugar cerrado + aglomeración + personas con alto nivel de contacto con el virus ( sanitarios ) + personas rondando los 55-60 años . en fin .',\n",
              " '⚠ ️en estos momentos de rebrotes , desde MENTION queremos recordar a todos los trabajadores , sea cual sea su puesto y lugar , la necesidad de prevenir el covid - NUM . 😷 recuerda : usa la mascarilla en el trabajo . protege tu empleo . protege tu futuro . URL',\n",
              " 'señora otero , si hiciese usted su labor de periodista ( que es hacerse preguntas e investigar por uno mismo ) , habría visto tan bien como yo de dónde vienen los datos del documento de la ocde . ya que usted no ha hecho ese trabajo , se lo proporciono yo ya hecho . URL',\n",
              " 'susanna griso ha criticado a trump por no tomarse en serio el coronavirus ¿ es la misma susanna que NUM días antes de que se decretase el eo de alarma alentaba a las mujeres a no tener miedo al covid NUM y salir a la calle por el 8m ♀ ️ ? debe ser otra no creo que haya nadie tan cínico',\n",
              " '# coronavirus | se rompe la tendencia a la baja y españa registra un récord en contagios y muertos URL',\n",
              " 'reabrir escuelas : los niños tienen un riesgo mínimo de contraer el virus de wuhan , \" son los adultos los que infectan a los niños , no al revés \" . URL vía MENTION',\n",
              " 'otras personas cuando acabe el confinamiento | | yo URL',\n",
              " 'malaria , pandemia y endemia “ porque , por una vez y siendo realistas , la diferencia en esta ocasión es que todos estamos viviendo en áreas endémicas ” MENTION en MENTION URL',\n",
              " 'ojo al dato el pib de españa se hunde 5,2 % en el primer trimestre por el coronavirus . solo por NUM días . el segundo trimestre que sera completo fácil pasamos del NUM % . inasumible',\n",
              " '¡ buenos días , oviedistas ! ¿ cómo estáis ? dos días para volver a pisar nuestras calles 😊 # oviedistadesdemicasa # yomequedoencasa # realoviedo URL',\n",
              " 'MENTION lo peor , estoy convencido que si en un concierto no se cumplen las medidas de seguridad a los NUM min ya está la policía . mientras tanto en la plaza de toros enlatados que allí no hay coronavirus',\n",
              " 'sabéis por qué han estado los # cayetanos y # borjamaris protestando contra el gobierno ? exactamente , ven que se les acaba el chollo ! la inspección obliga a hacer fijos a 9.500 precarios despedidos ilegalmente en la pandemia URL vía MENTION',\n",
              " 'os imagináis la última noche de confinamiento ? es que me va a doler la tripa de los nervios de solo imaginarme que al dia siguiente vamos a poder salir fua',\n",
              " '♦ ️dia NUM abril NUM # 25aniversarioelvolander ♦ ️ #yomequedoencasa con # apagóncultural en # culturaenhuelga URL',\n",
              " 'ayer falleció una compañera enfermera . había pasado el covid NUM , pero de forma muy leve . en cuanto dio negativo , se reincorporó a su puesto de enfermera de enlace en su centro de salud . por la tarde , cayó fulminada en su casa . estamos desolados , porque la queríamos mucho +',\n",
              " 'min jorge rodríguez , vtv : se detectan NUM nuevos casos , confirmados , de # covid NUM en # venezuela , la cifra aumenta a NUM casos positivos en el país .',\n",
              " 'la policía ha pillado in fraganti al arzobispo de granada saltándose el confinamiento y celebrando una misa con NUM personas . da mucha vergüenza . URL',\n",
              " 'si iglesias hace esto lo guillotinan al amanecer URL',\n",
              " \"la ministra de trabajo , yolanda díaz ( podemos ) , ' da ejemplo ' : hace la compra en mercadona sin la mascarilla y los guantes de látex que el gobierno recomienda a todos los españoles . algo que añadir , pedro sánchez ? ? URL\",\n",
              " 'test serológicos : habla con tu médico antes . ¿ porqué ? 🧑  \\u200d  🔬 las serologias covid tienen limitaciones . 👩  \\u200d  ⚕ ️los médicos llevamos décadas pidiendo serologias . sabemos cuando pedirlas y sobre todo como interpretarlas . 👩  \\u200d  🚀 la salud es tuya pero dejarse ‘ asesorar por tu médico ’ es bueno',\n",
              " 'q irónico es salir a mi calle con mascarilla a sacar al perro y verla repleta de niños patinando o con la bici y sus padres , más importante con el casco pero sin la mascarilla luego podeis salir a aplaudir a las 20:00 o q si os toca a alguno el bicho exigir atención en el hospital',\n",
              " '# loestamosconsiguiendo 0,96 € precio máximo de la mascarilla quirúrgica ¿ sabeis lo que significa eso verdad ? que al coste actual nadie va a querer venderlas y así consiguen que de nuevo la población se quede sin ellas , parece claro el plan que tienen y es siniestro y oscuro ...',\n",
              " 'eeuu acaba de superar los 300.000 contagiados y los 9.000 muertos por coronavirus y sigue sin decretar el confinamiento nacional . españa lo decretó con NUM y NUM francia con NUM y NUM uk con 5.687 y NUM italia con NUM y NUM',\n",
              " 'MENTION cantabria os esperamos está lleno de gente todo cantabria como todos los veranos no nos abandonan la gente del extranjero y de dentro de españa y protegiéndose con el turbante teniendo mucho cuidado para no coger el coronavirus la policía vigila para que la gente siga normas',\n",
              " '¡ te recomiendo que escuches este audio de ivoox ! episodio NUM - # yomequedoencasa URL rememorando momentos divertidos 😍 MENTION MENTION MENTION MENTION # jason 😘 😘 🙏 🙏 # michaeljackson',\n",
              " 'una cajera del lidl , hoy llevaba mascarilla con la bandera de españa . supongo que será una pija del barrio de salamanca , que sube todos los días a villalba a currar en un supermercado por hobby .',\n",
              " 'segundo día consecutivo que en el hospital severo ochoa de leganés los trabajadores están con epis no homologados de un \" todo a cien \" # asino # covid NUM MENTION MENTION MENTION URL',\n",
              " 'jesús corres trabaja como médico en el servicio de urgencia del ramón y cajal , uno de los hospitales más importantes de madrid . su jornada laboral se ha vuelto más dura y exigente desde que arribó la pandemia a españa URL',\n",
              " '🇪 🇸 y esto no es un bulo grave , que va contra los hombres ? donde esta la fiscalía ? 🤦 😡 😡',\n",
              " 'mi amigo MENTION se ha pegado una buena currada , tengo ganas de verlo ! 😍 # prepartyesathome # confinamiento URL',\n",
              " 'MENTION no quiere ver , que no es lo mismo . todos lo vemos . cualquier evento social fue clave para la propagación del virus . negar la mayor es de cínicos .',\n",
              " '“ quien no se mueve no siente las cadenas ” . rosa luxemburgo . no debemos consentir que la pareja tóxica sánchez / iglesias aproveche la covid NUM para liquidar el sistema de libertades del NUM . hay que organizar la resistencia . URL',\n",
              " 'durante muchas semanas en MENTION todos hemos estado centrados en la emergencia # covid NUM . ahora toca mantener la atención en # covid NUM pero empezar a pensar y trabajar por nuestros pacientes con patologías oculares',\n",
              " \"reportaje audiovisual • | ' que la música no pare ' rinde homenaje a los artistas vila-realenses que no han dejado de trabajar durante este confinamiento . además nos ayuda a conocer como se han adaptado a sus nuevas circunstancias . URL\",\n",
              " 'hay unas personas de las que nunca se habla pero que siempre están ahí para cuidar de los más necesitados y ahora , están muy afectadas por el coronavirus porque muchas son muy mayores . son las religiosas . nunca se quejan , no alzan la voz . y también las quiero recordar a ellas . URL',\n",
              " 'en un estudio publicado el viernes en el journal of virus eradication , andrew hill y otros cinco investigadores aseguraban que los medicamentos más prometedores en los ensayos para tratar el # covid NUM podrían hacerse por menos de NUM $ al día .',\n",
              " 'en memoria de los miles de españoles muertos por el coronavirus . URL',\n",
              " '# yomequedoencasa pero haciendo lo posible por ayudar contra este maldito virus # covid NUM , junto con MENTION estas son algunas de los cientos de mascarillas que hemos hecho gracias a MENTION por el material y a MENTION # juntossaldremosadelante # granada URL',\n",
              " 'trump ha comunicado la retirada de ee uu de la oms . en medio de la mayor pandemia en un siglo , el portazo de la primera potencia es casi un hecho , según informó el senador demócrata bob menéndez en twitter y confirmaron fuentes de la administración URL',\n",
              " 'italia ahonda en el desprestigio de dolores delgado : la fiscalía transalpina interrogará a su primer ministro por el coronavirus URL vía MENTION',\n",
              " 'fernando simón lleva meses trabajando mañana , tarde y noche , de lunes a domingo , con rigor y datos y acudiendo a los mejores expertos del país , contra el coronavirus . mientras tanto , la ultraderecha y sus terminales mediáticos llevan meses trabajando contra fernando simón . URL',\n",
              " '# labuenanoticia de la MENTION | entrevista a filósofo josep ramoneda sobre el futuro tras la pandemia \" es el momento de pasar del miedo ( a contagiarnos ) y la culpa ( por si contagiamos a los demás ) a la cultura de la responsabilidad y a cierta osadía \" URL',\n",
              " 'así aislaron a millones de madrileños las medidas de ayuso-almeida previas al confinamiento , por MENTION URL vía MENTION',\n",
              " 'MENTION MENTION totalmente 🥳 🥳 🥳 🥳 🥳 🥳 🥳 # yomequedoencasa eso sí con la mejor música siempre 💃 💃 💃 💃 💃 y las amigas más locas al otro lado del teléfono 💃 💃 💃 💃 💃 🥳 🤪 🤪 🤪 🤪 🤪',\n",
              " '🎶 les arts ( MENTION ) reabre el NUM de junio con un concierto para reconocer la labor de los sanitarios frente a la pandemia de # covid NUM el coliseo reanudará su programación con un ciclo a precios populares y nuevas medidas de seguridad URL',\n",
              " 'confinado - parte v : ha descubierto ahora un problema de antes URL',\n",
              " 'papa francisco confía a san josé obrero los desempleados por coronavirus URL vía MENTION',\n",
              " 'abrir la mano a reanudar la actividad mañana es una enorme irresponsabilidad . no tiene ningún sentido pedirle a la gente q vaya de uno en uno a comprar un sábado y fomentar q entren en un vagón de metro atestado un lunes . solo hay algo peor q NUM confinamiento . NUM confinamientos .',\n",
              " 'más allá del fútbol , la salud : el fuenla con beneplácito de la liga ha viajado conscientemente con un brote de covid a coruña , poniendo en riesgo a personal del avión , hotel , otros clientes del hotel y toda la ciudad . debe haber consecuencias penales # chiringuitosegunda',\n",
              " 'el doctor antonio gutiérrez , fallecido por covid - NUM . \" le llamé varias veces para que se viniera para casa y él me decía que no podía , que tenía que quedarse , que había mucha gente y que tenía que estar allí porque no podían atender a todos y no se podía ir \" URL',\n",
              " 'hoy me ha dicho un vecino que no agite la bandera que puedo mandarle virus y gérmenes , no se si tiene alguna razón o es puro miedo que tenemos ya .',\n",
              " 'NUM inmigrantes ilegales contagiados en un albergue de granada a pensión completa y custodiados por la guardia civil . la guardia civil sin recursos , sin protocolos , sin garantías y sin protección . # motivosparalamocion',\n",
              " 'libertad de expresión para atacar a los jueces . libertad de expresión para atacar al rey en mitad de la pandemia . mientras reclaman unidad . pero vox no tiene libertad de expresion para criticar inigualable gestión sanitaria del gobierno . no tienen límite URL',\n",
              " 'series temporales en lugar de modelos sir . el método de MENTION para predecir la evolución del # covid NUM vía MENTION URL',\n",
              " 'esto ya es personal',\n",
              " 'esta foto me suena ... creo que el confinamiento va a propiciar escenas de voyeurismo y de # laventaindiscreta a ver si te veo el culo ... mmmmm',\n",
              " 'al existir acusación particular en la causa del coronavirus # NUM m aunque la fiscalía pida el archivo la magistrada podrá seguir con la instrucción si aprecia indicios de criminalidad .',\n",
              " 'la pandemia del covid - NUM ha eliminado del paisaje las casetas del día del libro , una fecha clave para un sector que siempre ha sido frágil y que espera salir de esta como ha hecho con otras crisis # coronavirus URL',\n",
              " 'para los de \" lo peor del # covid NUM ya ha pasado \" , se está viendo que eso era solo el pico de la primera ola : - nuevos pacientes crónicos por los daños que ha provocado el virus . - cirugías y diagnósticos que han sido retrasados . - salud mental . - crónicos no vigilados ( 📷 MENTION ) URL',\n",
              " 'día n de confinamiento URL',\n",
              " 'el totalitarismo en acción . prohíben a la empresa tecme s . a . , fabricante de respiradores artificiales , la venta de los mismos sin la \" intervención \" del ministerio de salud de la nación . íbamos a ser venezuela . ya lo somos . # coronavirus # cuarentenacoronavirus',\n",
              " '! ! ️ MENTION denuncia el “ confinamiento y alevosía ” con el que la junta ha impulsado “ su decretazo ” y saluda la vía abierta por el gobierno central para recurrirlo 👇 # decretazo # covid _19 # málaga URL',\n",
              " '📹 ☕ unos amigos y yo hemos hecho un vídeo . espero que os guste y os haga más ameno vuestro confinamiento . ya me contáis que os parece . 😉 👉 # cameracafeencasa # quedateencasa URL',\n",
              " 'leo ciertos comentarios de superioridad moral sobre las flores puertas de iglesias . me pregunto , ¿ cuántos son ? NUM , NUM ... NUM ramos ( exageremos ) . y , ¿ cuál es el problema ? quizás sea una necesidad espiritual . ¿ de verdad eso va a expandir el virus más que ir al mercadona por vicio ?',\n",
              " '\" el colegio de psicología de navarra y el gobierno de navarra activan un teléfono para atender a la ciudadanía durante la pandemia del covid - NUM \" URL # menadel # psicología el colegio oficial de psicología de navarra , en coordinación con la consejería de salud ... URL',\n",
              " '🔴 🔴 los casos por # coronavirus se elevan a 110.238 en # españa . 6.092 personas permanecen ingresadas en uci . se han producido 26.743 altas médicas y 10.003 personas con # covid NUM han fallecido . MENTION # an1 # contigoencasa',\n",
              " 'los gobiernos en el mundo : 🇩 🇪 derrotar al coronavirus . 🇺 🇸 derrotar al coronavirus . 🇬 🇧 derrotar al coronavirus . 🇵 🇹 derrotar al coronavirus . 🇮 🇹 derrotar al coronavirus . 🇫 🇷 derrotar al coronavirus . 🇪 🇸 tocarse los huevos y hacerse test cada dos minutos',\n",
              " 'no voy a salir del confinamiento con más kilos , pero sí con más ojeras',\n",
              " 'hoy # roma “ cumple ” 2.773 años . según la tradición literaria y la leyenda , el NUM de abril del NUM a . c , rómulo y remo fundaron la ciudad eterna . estar vacía la hace aún más hermosa . # covidー NUM 🎥 invideo URL',\n",
              " 'en abril la mascarilla no era obligatoria y ella se contagió trabajando en una residencia de ancianos en la que entró como limpiadora y la pusieron a ejercer de aux . de enfermería . pero no dejemos que la realidad estropee el titular . URL',\n",
              " '🎬 # solovídeos : pablo casado “ obliga ” a sánchez a guardar un minuto de silencio por los fallecidos por el coronavirus URL',\n",
              " 'fichaje estrella de la cnn para su comité de expertos # covid NUM . URL',\n",
              " '« cualquier aficionado a la ciencia ficción podía temer una pandemia así » . estupenda entrevista a MENTION en MENTION URL',\n",
              " 'los gobiernos socialistas se echan la culpa mutuamente ; nadie quiere saber nada de responsabilidades . # albacete coronavirus : emiliano garcía-page acusa al gobierno : \" nos pidió que no cerráramos colegios para no generar alarma \" URL vía MENTION',\n",
              " '\" los productos de impulso están creciendo en las cestas de la compra de los españoles \" MENTION # coronavirus # estevirusloparamosunidos URL',\n",
              " '“ el coronel — según todos los indicios — ha sido cesado por limitarse a cumplir con su deber evitando que se politizara un informe destinado a una juez en unas diligencias penales relacionadas con la manifestación del NUM de marzo y el corona virus ” URL URL',\n",
              " 'acabo de terminar la última desinfección de hoy y necesito decirlo : ni bomberos , ni ejército . el personal de limpieza , mujeres en su mayoría , mal pagadas y desinfectando día a día con discreción mientras otros posan para los medios . si alguien ha frenado al covid son ellas . URL',\n",
              " 'los mossos detienen al alcalde de badalona tras saltarse el confinamiento con síntomas de embriaguez URL',\n",
              " 'hoy damos las gracias a todo el personal sanitario y a los conductores de ambulancias que os estáis esforzando para atendernos sin descanso . # héroes # lascámarasatulado # empresasatulado # estevirusloparamosunidos URL',\n",
              " '🎶 👕 hala madrid y nada más ... ¡ como nunca lo has visto ! 🤩 🇪 🇸 👏 óscar ladero córdoba # yomequedoencasa | # stayhome URL',\n",
              " '# mironews están de nuevo haciendo mucho ruido mediático con asuntos secundarios para despistarnos de lo importante : ¿ dónde , cómo y porqué surgió este virus ? ¿ por qué protegen a la dictadura comunista china ? ¿ a cambio de qué ? un aullido URL',\n",
              " 'y esta moda pepera de llevar la mascarilla en la barbilla ?',\n",
              " 'NUM . la asociación española de profesionales de los servicios funerarios emite un informe sobre los fallecidos coronavirus : 43.985 personas . \" en españa realmente , las cifras oficiales siguen sin arrojar luz sobre este tema desde el inicio de la pandemia \" . URL URL',\n",
              " '🔴 última hora | muere juan cotino por coronavirus URL',\n",
              " 'NUM personas haciendo esto y más cosas todos los días durante toda la tarde que entretiene a la gran mayoría de la gente jubilada que en pleno confinamiento ni puede pasear ni relacionarse . las horas y horas que hablan y explican las medidas sanitarias de seguridad no las ponéis . URL',\n",
              " \"# nohayañosinbando que suene ya ' la parranda ' , ese canto a # murcia # yomequedoencasa URL\",\n",
              " '\" contemplamos a jesús que también sufre en tantas personas de nuestro mundo por razones injustas . agradecemos su sacrificio \" jesús , líbranos de la epidemia de la injusticia que se nos pega día a día . guárdanos en el amor . URL',\n",
              " '🚨 no te pierdas la entrevista de MENTION _ a carmen millán portavoz de la asociación de víctimas del # covidー NUM con un tema explosivo 🧨 ¿ por qué el gobierno nos esconde el dolor de las familias rotas por el coronavirus ? . jueves 13:30 h tienes una cita con MENTION URL',\n",
              " 'con todo respeto , además de presbítero , soy ciudadano como usted y compartimos los mismos derechos y deberes . por lo que esta pregunta capciosa , digna de picapleitos , define su sectarismo y mala fe dolosa .',\n",
              " 'MENTION culpa del coronavirus ajjaja',\n",
              " 'buitrago del lozoya se queja de los visitantes de fin de semana en el confinamiento URL URL',\n",
              " '20:00 horas .. treinta cinco dias de cuarentena en madrid .. gracias a todos los que trabajan en la sanidad policia , bomberosmilitares , barrenderos , seguridad , supermercados , estancos y librerias y prensa .. pronto veremos la luz .. # covid NUM # yomequedoencasa ! ! ! 📱 🌝 🤗 📅 😷 💪 👏 🙆  \\u200d  ♂ ️ 🤙 URL',\n",
              " 'más ayudas para autónomos de navarra ❗ el gobierno de maría chivite acaba de aprobar : 👉 2.200 euros de ayuda directa extraordinaria para quienes han tenido que cesar su negocio . 👉 700-800 euros para los que han registrado al menos un NUM % menos de ingresos respecto a su media .',\n",
              " '# congreso i nuestro diputado en el MENTION , MENTION , apoya la prolongación del estado de alarma , en su cuarta prórroga , argumentando que , en ningún caso , \" vamos a mercadear con la salud de la población ” en la pandemia del coronavirus . ✍ ️ ⤵ ️ URL URL',\n",
              " 'extremadura tiene NUM residencias de mayores afectadas por coronavirus un total de NUM residencias de mayores de las NUM que hay en # extremadura están libres del coronavirus # covidー NUM # gobiernodimision # sancheveteya # iglesiasveteya URL',\n",
              " '# paula , # esther , # miriam , # sandra y # miguel lo tienen claro # todovaasalirbien si respetamos # juntos el estado de alarma , ánimo y fuerza # yaquedamenos . # yomequedoencasa # covid NUM # coronavirus # estadodealarma # sociedad # vcv # somosvoleibol URL',\n",
              " 'imaginad q alguien os hubiese dicho en la última nochevieja que las palabras más utilizadas en NUM serían : \" pandemia \" , \" coronavirus \" , \" epidemiólogo \" , \" confinamiento \" , \" desescalada \" y \" nueva normalidad \" pensadlo un segundo . nos hemos acostumbrado rápido , pero es muy loco .',\n",
              " 'ejercicios para hacer en casa ( y evitar la depresión ) este confinamiento según los expertos de URL URL vía MENTION',\n",
              " '¡ que hostia tienen ! 🤦  🏻\\u200d  ♀ ️ 🤦  🏻\\u200d  ♀ ️ 🤦  🏻\\u200d  ♀ ️ URL',\n",
              " 'spanish prime minister pedro sanchéz called it \" a success for all \" . unfortunately it ’ s also nonsense . quizá el financial times también es parte de la policía patriótica del pp .',\n",
              " 'felipe vi es borbón y por lo tanto ladrón , sabe conjugar perfectamente los verbos rapiñar , despojar , saquear , robar',\n",
              " 'el nuevo marco que intenta instaurar ayuso es el de \" el virus vendrá por barajas por culpa del gobierno \" . la realidad es que seguimos teniendo cierta transmisión comunitaria , poco personal de rastreo en salud pública y una atención primaria en los huesos .',\n",
              " 'MENTION una epidemia es algo muy serio , un día llama al optimismo y otro no por diversos motivos . seamos prudentes y dejemos de pedir verdades absolutas que no existen . es una situación difícil , aunque ya sabemos , estamos en un país de personas especialistas en todo salvo el gobierno',\n",
              " 'cuba denuncia el \" cruel \" bloqueo de ee.uu . que le impide comprar medicamentos para combatir el covid - NUM . asesinos . URL',\n",
              " '# cofradiasmlg | caballeros legionarios han realizado una visita al camarín de nuestros sagrados titulares para encomendarse al cristo de la buena muerte , protector de MENTION , y a nuestra señora de la soledad . agradecemos la labor que están realizando contra la pandemia . URL',\n",
              " 'en la clínicas \" para ricos \" se está inyectando ozono y se dan sesiones de luz uv contra el coronavirus ... trump , que es \" tan loco y malvado \" , piensa extender eso hasta ahora tan exclusivo a toda la población , ¡ y los rojeras ignorantes encima se ríen ! ese es el \" desinfectante \"',\n",
              " 'esto es abuso y violencia policial aceptada por mucha gente en nombre de no se que . ahora fachas de twitter uníos para insultarme y amenazarme si queréis , pero esto es abuso policial en mayúsculas . # covid NUM # coronavirus URL',\n",
              " 'el # cmin ha aprobado el plan de desescalada . el objetivo es poner a españa en marcha protegiendo la salud y la vida de las personas . nos aguarda a todos la tarea de reconstruir unidos nuestro tejido económico y vitalidad social sin dejar a nadie atrás . # estevirusloparamosunidos URL',\n",
              " 'otra concentración , ahora al grito \" bill gates a prisión \" . ya estoy casi seguro de que lo del virus contagioso que ha diezmado a los ancianos y puesto al límite a los médicos y demás lo he soñado . URL',\n",
              " 'quién no entienda que no es tiempo para debates de tinte partidista , no entiende nada . ahora lo único en lo que todos y todas nos debemos de volcar , es en ganar la batalla al coronavirus . el tiempo del debate entre partidos , volverá . pero ahora , unidad para ganar esta batalla .',\n",
              " 'lo de la cultura va a ser global , y de muy mal arreglo . y es importante ? si , es importante . por que ? por mucho ... veamos 👇',\n",
              " 'parece que hay cierta confusión con las técnicas de diagnóstico y vigilancia de # covid NUM . voy a intentar explicarlo un poco . abro hilo 👇',\n",
              " 'eres un virus ? pq me has puesto malísima',\n",
              " 'el presidente MENTION se convirtió en un ejemplo ante la emergencia mundial del # covid NUM estas son las medidas de apoyo económico que tomó el mandatario para su país # elsalvador URL',\n",
              " '⚡ la diputada cecilia patrón da positivo a covid - NUM URL # mérida URL',\n",
              " 'muy de acuerdo con el maestro MENTION con la situación en el fútbol post corona virus . es más para clubes más humildes en fútbol modesto como puede ser NUM ° división , será más difícil fichar a jugadores de fuera o entrenadores de perfil alto . cantera y oportunidades',\n",
              " 'la foto de joedson alves para epa-efe estará en los libros de historia cuando nos recuerden que durante la pandemia de covid NUM , 20mil mineros ilegales invadían las tierras de los indígenas yanomami diseminando el virus . URL',\n",
              " 'maria del carmen delgado , delegada de ugt MENTION en el sector alimentario de huelva os anima a participar en este # primerodemayo por un # otromodeloesnecesario # estevirusloparamosunidos MENTION MENTION URL',\n",
              " 'la portavoz del govern , meritxell budó , ha asegurado que la generalitat hubiera decretado un confinamiento total quince días antes que el consejo de ministros , que lo hizo el NUM de marzo . eso es el sábado NUM de febrero . a continuación , la agenda del govern de aquel fin de semana . URL',\n",
              " 'el 3o tercio de # lalegión MENTION , desinfectando la residencia de manantial de andarax en terque ( almería ) cumpliendo las misiones de la # operaciónbalmis ( futer ) # estevirusloparamosunidos URL',\n",
              " 'MENTION MENTION MENTION le recuerdo que la derecha se mostraba a favor de no parar la actividad laboral ? nada de confinamiento . si se hubiera producido eso ... con que cifras de muertos estaríamos ?',\n",
              " 'dr . néstor vain en # webinarseneo sobre el # sarscov NUM : \" lo que sí parece que tenemos claro es que no se transmite por # lactancia materna \" ➡ ️https :/ / t.co / votf 8z3myh',\n",
              " 'españa supera ya los 30.000 muertos por coronavirus castilla y león se suma a cataluña , madrid y galicia y publica datos completos incluyendo los fallecidos en residencias , con lo que la cifra total de muertos se eleva a 30.348 . el desglose por ccaa es el siguiente : URL',\n",
              " '🦠 💦 😷 # hilo : worldometers ha realizado un interesante resumen de conclusiones sobre los modos de contagio del # coronavirus sars-cov - NUM , sustentado con enlaces a fuentes tales como estudios científicos y artículos de revistas científicas . en él se detallan cosas a tener en cuenta : URL',\n",
              " 'esta imagen construida con las fotografías de los NUM médicos fallecidos / as durante la pandemia del # covid NUM nos debe hacer reflexionar el cuidado que debemos tener para que no se vuelva a repetir URL',\n",
              " 'resum del sánchez : mas nos vale que encuentren la vacuna rapido , sinó sera culpa de la gente , porque ellos no tienen ningun plan que no sea “ palante ” que de esto salimos muy unidos pero ahora el virus ya entiende de territorios . chimpum !',\n",
              " '🔴 # NUM - preguntas y respuestas sobre el plan de contingencia ¿ se mantienen los exámenes finales de todas las materias ? más información en : URL # covidー NUM . # juntosloconseguiremos # ugrencasa URL',\n",
              " 'y se proclama emperador de abisinia',\n",
              " 'NUM ) la ue son unos inútiles . cuando hay problemas de verdad , su ineficiencia tomando decisiones es palmaria . poner de acuerdo NUM países es casi imposible . ahora resultará que españa e italia tienen que salir de la crisis solas , y pedir perdón al resto de la ue por tener el virus .',\n",
              " 'la mitad del gobierno ha estudiado en la concertada . los hijos de la ministra de educación en la privada . durante el covid NUM prefieren la sanidad privada , al tiempo que la “ plebe ” debe ir a la pública . ¡ este gobierno es pura hipocresía ! # motivosparalamocion',\n",
              " '✔ ️tras la “ gripe española ” , alfonso xiii abre el NUM congreso nacional d medicina . homenajea a los médicos muertos por la epidemia y anuncia la creación d la nueva facultad de medicina y hospital clínico d madrid . entre los asistentes , m curie . hace NUM años URL',\n",
              " '# covid NUM evitar que los rebrotes se expandan es la principal preocupación de las autoridades sanitarias URL URL',\n",
              " 'titular : \" el NUM % de los españoles piensa que la gestión del gobierno sobre el coronavirus es excelsa . \" MENTION yo te hago las preguntas por el NUM % que cobra tezanos . piénsatelo me dices .',\n",
              " 'sigues instalada en el mamadero sociocomunistaprogresista',\n",
              " 'mascarillas , respiradores , mascaras protectoras ... los colegios salesianos de toda españa se movilizan para fabricar tecnología para combatir el coronavirus MENTION URL',\n",
              " 'a menudo me acuerdo de este tuit . donni lo redactó el NUM - m , es decir , transcurrieron varios días hasta que la gente se mentalizó de lo que venía . acierta punto por punto en todo . un ignorante como yo no puede dejar de preguntarse si para un experto era tan difícil de prever .',\n",
              " 'el covid es una putada . claro que lo es , mes y medio de erte que estuve deje de ingresar bastante dinero.pero el gobierno me protegió sin que me pudieran despedir y pagándome erte con la posibilidad de regresar a mi trabajo que así fue . con los fachas seria igual ? ? # españaesroja',\n",
              " 'NUM / en los delitos de peligro , en cambio , no es necesario un resultado . bastará poner en peligro a los trabajadores , del modo que describe el art . NUM cp , para que exista delito . no hay que probar que ninguna muerte ni ningún contagio se deba a esa acción . URL',\n",
              " 'yo ya he colaborado para poner mi granito de arena , os animo a todos mis seguidores a amparar en medida que sea posible a esta familia rota por el coronavirus : ⬇ ️ URL',\n",
              " 'hola MENTION ¿ por qué dedicáis más tiempo a un paseo de rajoy que al alcalde del MENTION violando cuarentena y conduciendo borracho ? ¿ por qué más tiempo a una enfermera con ébola que a 20.000 sanitarios por # covid NUM ? ¿ por qué nada a MENTION aparcando en plaza discapacitados ?',\n",
              " 'vamos a aplaudirlos en esto también , los dos saltándose el confinamiento . cero medidas de seguridad , sin mascarillas , sin guantes , sin distancia . sin vergüenza se les queda corto URL',\n",
              " 'nosotros también nos unimos a la iniciativa de la MENTION para lanzar un mensaje de apoyo a los ciudadanos que trabajan en las calles para superar lo antes posible la pandemia . ¡ gracias por cuidarnos ! 👏 # estevirusloparamosunidos URL',\n",
              " 'los que me conocéis sabéis que me fascina observar . pongo el microscopio sobre un tema y le dedico atención absoluta . y llevo varios días dando vueltas a una idea . es sobre cómo los políticos de todo el mundo han reaccionado al covid . reirán , ya verán . dentro hilo .',\n",
              " 'el csic lanza un estudio genético para averiguar por qué algunas personas reaccionan de forma grave al coronavirus , y utilizará una patente española para detectar el virus en una hora de forma fiable . repaso a las # noticiascsic de la semana 👇 léelas aquí ➡ ️https :/ / t.co / w8spntgqe2 URL',\n",
              " 'desde la asociacion madrileña de cirujanos MENTION nos adherimos al comunicado en defensa de la actuación de nuestros compañeros en la crisis del # covid NUM URL',\n",
              " 'a ver a qué coleguita empresario le encarga ayuso la gestión de las cartillas covid por una millonada',\n",
              " 'evolución pandemia coronavirus NUM abril en andalucía por provincias . informe completo del centro de estudios sma granada disponible pdf en URL URL',\n",
              " 'es muy heavy que el único reportaje que podemos ver los españoles sobre lo que está ocurriendo en nuestros hospitales lo haga una tv británica .',\n",
              " '📽 y esta es la actitud del sinvergüenza de MENTION en la comisión de sanidad del MENTION mientras se trata de tomar medidas contra el # covidー NUM y el diputado de MENTION , MENTION , ofrece su apoyo a MENTION . URL',\n",
              " 'MENTION MENTION las únicas circunstancias que permiten restringir el derecho constitucional de reunión y manifestación , fuera del estado de excepción y sitio , son las de art . NUM y NUM de lo 9/83 : alteración del orden público . no por pandemia . el tc incurre en inconstitucionalidad , toca ir a tedh .',\n",
              " 'nada ni nadie nos va a apartar de la línea de unidad y de lealtad que nos llevará a la victoria frente al # coronavirus . con coraje , con esfuerzo y con determinación . el enemigo es el virus . # ahoratocalucharjuntos URL',\n",
              " 'aterriza en la base de # torrejón # madrid un # a400mejércitoaire con más de NUM tn de material sanitario para luchar contra el # covid _19 procedente de # shanghai NUM horas de vuelo , NUM escalas y NUM tripulantes del # ala NUM \" lo que sea , donde sea y cuando sea \" . # estevirusloparamosunidos URL',\n",
              " 'muchos barrios de distintas ciudades protestaron durante meses contra el auge de las casas de apuestas . ahora , mientras españa entera lucha contra el # covidー NUM , el alcalde de madrid aprovecha para rebajar impuestos a salones de juego , bingos y casinos 🤦  \\u200d  ♀ ️ URL t URL',\n",
              " 'sancionado un enfermero con NUM días sin empleo ni sueldo por denunciar falta de medidas de seguridad ante la covid - NUM URL',\n",
              " 'NUM . lleva guantes NUM . la mascarilla por mucho que os empeñéis , esta indicada para reducir transmisión infectado-sano , yo soy el primero que no lleva mascarilla en el super . NUM . escucha hablar al que graba y dime si está justificado o no que lleve escolta .',\n",
              " 'el recién despedido primer ministro francés édouard philippe , junto a varios de sus ministros , enfrentan cargos legales por su nefasta gestión del coronavirus , al prohibir el acceso al beneficioso tratamiento a base de hidroxicloroquina ( que trump ha defendido desde el principio )',\n",
              " 'al presidente no le importa , mañana empieza sus giras ; termina lo que denominan \" jornada de sana distancia \" , mientras NUM de NUM entidades están en rojo y siendo el país número NUM en muertes por covid , con una curva lejos del pico . cuidémonos nosotros . URL URL',\n",
              " 'en toda la # pandemia # covid NUM # estadodealarma este # gobierno se ha referido a # sosprisiones y nos ha nombrado , sólo para acercamiento de # presos # euskadi esta es la triste realidad , y lo que importa este colectivo de empleados públicos . MENTION MENTION MENTION',\n",
              " 'MENTION a día de hoy , población en suecia : 10millones . muertos por coronavirus : NUM . españa , 40millones . muertos : NUM . para que lleguen a nuestro nivel tienen que llegar a los NUM . ahí lo dejo',\n",
              " 'el doctor jamil nos visitó a mí y a mis hermanos durante toda nuestra infancia en el hospital sagrat cor . ¡ un grande ! 👏 👏 👏',\n",
              " \"en lleida no hay brote ni rebrote , desde hace unos días hay epidemia . la ' consellera ' alba vergés miente . “ los brotes no están controlados , no se realizan pcrs a personas que han mantenido contacto directo con infectados de covid - NUM ” URL\",\n",
              " '🔴 madrid asegura que han muerto 10.326 personas por coronavirus y no 6.877 como dice el gobierno . la comunidad de madrid asegura que el gobierno deja fuera a los fallecidos en residencias , en domicilios o en la vía pública . # bulosgubernamentales URL',\n",
              " 'intentamos ir por delante y anticiparnos . debemos estar preparados , porque la peor cara del # coronavirus está por llegar . mis entrevistas hoy en joly y MENTION . URL',\n",
              " 'una nueva víctima eleva a NUM el número de fallecidos en el área sanitaria de ferrol . el sergas ha comunicado esta mañana el fallecimiento de una mujer de NUM años . diagnosticada de coronavirus , estaba ingresada en el chuf y el sergas señala que contaba con patologías previas . URL',\n",
              " '🔴 han tenido que pasar NUM días para que la autoridad sanitaria única nos comunique hoy que la cifra total de sanitarios contagiados por covid - NUM hasta el pasado lunes era de 51.482 , el 21,58 % del total . como para estar satisfechos ... era evitable . ¡ claro que era evitable !',\n",
              " 'lleva confinado demasiado tiempo . la mafia le persigue . pero él no se corta . y sigue denunciando sus prácticas . roberto saviano MENTION este domingo en MENTION URL in',\n",
              " 'la junta de andalucía ha elaborado una guía sobre las medidas sociales adoptadas a raíz de la situación provocada por el covid - NUM . aquí os dejamos una de las diapostivas que la conforman . URL',\n",
              " 'una de las mejores voces de doblaje .',\n",
              " 'que suerte que el covid nos agarró con otro presidente , sino teníamos más muertos que ee.uu con éste pelotudo al mando ... si , todos entendemos a que se refiere con libres',\n",
              " \"iker jiménez muestra el laboratorio de wuhan donde se ' creó el coronavirus ' URL\",\n",
              " 'con mi compañero MENTION hemos asistido a la misa funeral que la generalitat no quería . rezar junto a nuestro arzobispo en memoria de todo los fallecidos en esta pandemia era nuestra obligación . URL URL',\n",
              " 'año NUM : - \" lo que el viento se llevó \" censurado . - los dobladores tendrán que ser de la misma raza que sus personajes . - la gente habla con la e . - los juicios se realizan en la prensa y las redes en lugar de los tribunales . y luego os quejáis de que os mande una pandemia ...',\n",
              " 'esta alexia diciendo que según estamos muriendo tanta gente como para preocuparse de lo k haga ella perdona señora tú te has saltado el confinamiento',\n",
              " '🔵 desde ifema ponemos el call center a disposición de los familiares de pacientes ingresados en el hospital . ☎ ️ pueden recibir la información necesaria llamando al NUM NUM NUM NUM # ifemaerestú | # estevirusloparamosunidos | # covid NUM URL',\n",
              " '\" trump decide dar marcha atrás en las restricciones impuestas por el estado de emergencia . considera que es mejor que mueran todos los que tengan que morir por el # coronavirus que paralizar la economía de estados unidos \" informa MENTION 🔗 URL URL',\n",
              " '# ejemplar : 👏 un niño gaditano dona su máscara de buceo al hospital puerta del mar para que sirva como respirador URL URL',\n",
              " 'cómo cojones saben que tenía coronavirus el puto gato ? no me jodas que no hay tests para los sanitarios pero sí para los gatos . 🤦  \\u200d  ♂ ️',\n",
              " '🚩 tests rápidos vs pcrs : si el gran reto para frenar el coronavirus es el diagnóstico , estas son las herramientas que tenemos 👌 # zirigozagroup 💡 # marketing # seo 👉 URL',\n",
              " 'sueños , proyectos e ilusiones truncadas por la crisis del coronavirus . hoy conocemos la historia de natalia , una joven estudiante que ha tenido que dejar atrás su beca MENTION # covidー NUM URL',\n",
              " '30.000 muertos . un millón de contagios . una sanidad colapsadla . la peor crisis económica del último siglo . así respondemos . MENTION _ MENTION si podéis concienciar por favor .. esto no tiene solución . # laestirpedeloslibres # covid NUM # irresponsables # mileniolive URL',\n",
              " 'el mundo : coronavirus , última hora en directo | repunta la pandemia en el mundo al registrar 90.000 nuevos contagios en un solo día URL MENTION',\n",
              " 'ladrones utilizáis todo lo que podéis para llevaros tajada , incluso una pandemia . hacedme el favor , dejad de lloriquear y echad una mano a españa tanto que la queréis , además de ceder los derechos de autor de la foto a MENTION y dejar de retocarlas a vuestro gusto .',\n",
              " 'no nos confiemos , extrema las medidas para evitar al # coronavirus : - quédate en casa . - lávate las manos en numerosas ocasiones - solo en caso de emergencia llama al 1️⃣1️⃣2️⃣ - sigue las instrucciones de los cuerpos de seguridad del estado URL',\n",
              " 'españa desoyó las llamadas de la oms y de la ue a hacer acopio de material sanitario frente al coronavirus la organización alerto a varios países europeos de que habría desabastecimiento . “ tenemos suficiente \" , respondió salvador illa 👈 URL',\n",
              " 'sin guantes , sin mascarilla , viviendo con una enferma de # coronavirus poniendo en peligro a su escolta , a quien atiende la caja , a todos los que compran en ese supermercado o se cruzan con él . así es él , no respeta a nadie que no séa él mismo . un ególatra sin escrúpulos . URL',\n",
              " 'ultima hora | reino unido devuelve 3,5 millones de test del # viruschino de china porque estaban defectuosos . te regalan el virus y te venden los test basura . URL',\n",
              " 'por si había alguna duda : sí , lo que buscaba la comunidad de madrid a través de la universidad complutense eran rastreadores que le saliesen gratis . en mitad de la peor pandemia en un siglo han ofrecido puestos de rastreadores sin contrato . dan ganas de llorar .',\n",
              " '# vergüenzasdeespaña “ al menos 14.450 ancianos han muerto en residencias durante la crisis del coronavirus . madrid , cataluña y castilla y león encabezan la lista ” # covid NUM URL',\n",
              " 'no se sabe a ciencia cierta cómo se generó el coronavirus . pero es sospechosa la rotundidad con la que los habituales dueños del dogma insisten en el azar vírico del mercado de wuhan . y la fiereza con que descartan la teoría en un laboratorio de wuhan ... que se dedica a eso . URL',\n",
              " 'ldem se ha adherido al protocolo de actuación de conaif frente al coronavirus y expresa su compromiso de cumplimiento para garantizar la seguridad y protección de sus trabajadores , así como de los clientes a cuyos domicilios acceda . URL',\n",
              " 'joe con el perdiguero ...',\n",
              " 'sánchez miente con las causas de las 23.000 muertes por covid NUM . decía que era por envejecimiento ( pero japón solo tiene NUM ) y por usos sociales ( pero portugal sólo NUM ) . hoy dice que es por turismo ... en febrero . todo para negar sus errores , retrasos e incompetencia en la crisis',\n",
              " 'insisto con esto , que puede ayudar a much MENTION : guía de ayudas durante la crisis del coronavirus y cómo solicitarlas . URL',\n",
              " 'confirmado la moncloa desescalar las medidas de confinamiento esta llevando a un caos autonómico . algunas ccaa , cataluña la primera , quieren aprovechar la situación para controlar el territorio . si no se aprueba estado alarma NUM mayo las ccaa volveran a tener competencias sanidad',\n",
              " 'MENTION yo se de uno que dijo que inditex iba a despedir a NUM trabajadores para que entre todos paguemos el NUM % de su salario . ¿ sabes si este bulo fue mal intencionado ? me parece que conoces muy bien a quien lo dijo , MENTION # covid NUM # lasilenciosacat URL',\n",
              " 'MENTION MENTION NUM ) se detectó que en las cercanías a esas cuevas , los habitantes tiene anticuerpos para los coronavirus . por lo que se concluye que la transmisión a humanos es más frecuente de lo que parece , sólo que pasamos la enfermedad sin mayor apuro URL',\n",
              " 'en cada turno de servicio damos lo mejor para garantizar tu # seguridad y preservar la salud pública . la MENTION de asturias os agradece vuestra colaboración y el esfuerzo solidario que estáis haciendo para contener el # covid NUM . # paraserviryproteger en el # estadodealarma . URL',\n",
              " 'trump ya da un paso más señalando a china por el covid dejando claro que \" si se demuestra que no ha sido accidental , debe haber consecuencias \" , y es curioso que todo esto surja cuando parece que estamos en un momento de cambio con china subiendo y eeuu en problemas ...',\n",
              " 'irene montero vuelve a dar positivo por coronavirus tras catorce días en cuarentena . espera , espera ! ! ! que voy a enviarle un mensaje de ánimo a la tipa que estos días ha vuelto a insultarme y a vejarme ... que te den mucho por el * * * * ! ! ! hala ! ! ! ! ! 👎  🏼 URL',\n",
              " 'trabajando y velando por todos 🔴 dos detenidos por ocupar varias viviendas vacías a las que sus propietarios no se podían trasladar por el # estadodealarma . se les imputa dos delitos de usurpación de vivienda , defraudación de fluido eléctrico , daños y desobediencia grave . URL',\n",
              " 'en este hilo está explicada la estrategia de salida de alemania . apertura de colegios : NUM de mayo . todo evento público prohibido hasta el NUM de agosto . 👇',\n",
              " 'trabajadores fijos discontinuos que estan incluidos en los ertes MENTION pero y los miles que no lo estamos ? ? ?',\n",
              " 'hay raperos que van a la cárcel por cantar , tenenos presos políticos en prisión y en el exilio y se nos denuncia por tuitear . pero es aceptable que unos salvajes se salten el confinamiento para contagiar y condenar a gente vulnerable a morir por la enfermedad .',\n",
              " 'hasta julio leyendo vuestros tuits diciendo qeu teneis ganas de follar y noseke mas si hombre me voy a liar a hostias con el virus',\n",
              " '# covid - NUM 😱 | el \" regate \" de nasri al anderlecht # vipdeportivo por MENTION URL URL',\n",
              " 'MENTION MENTION MENTION pero víctor frena ! ! no me has entendido , más que lo que he criticado yo las administraciones en esos ertes nadie ! ! que yo no soy tu enemigo , que defiendo todo y más a esas familias , q sólo recalcó que si de normal tardan NUM meses imagínate en pandemia y con millones de expedient !',\n",
              " 'los colectivos sénior se oponen a un posible confinamiento de los más mayores hasta final de año URL',\n",
              " 'el ministerio de justicia y las comunidades autónomas , con el consenso de MENTION , MENTION y MENTION , adaptan la prestación de los servicios esenciales de justicia del decreto-ley 10/2020 durante el estado de alarma a causa del # covidー NUM URL',\n",
              " 'MENTION MENTION MENTION MENTION MENTION MENTION MENTION MENTION MENTION MENTION MENTION MENTION sr . , josé narro , espero y ruego porque esta noticia sea una fake , pero si se confirma , tenemos que hacer un frente multidisciplinario , los galenos no tenemos asegurada nuestra integridad , mientras este gobierno se escuda en una mediocridad e ignominia absoluta URL',\n",
              " '# coronavirus el presidente ceutí ha arremetido en la televisión nacional contra el gobierno de pedro sánchez , al que acusa de no atender las necesidades de una ciudad \" vulnerable y hostigada desde el exterior \" . URL',\n",
              " 'ese que sujeta el altavoz a la condenada MENTION se parece mucho al enfermero que se pasa el día hablando del coronavirus en MENTION como “ experto ” . pero no puede ser , es imposible que sean tan sectarios . URL',\n",
              " 'así que estás chimbeando mucho con esos decretos de mierda , presidente duque ? sería una lástima que alguien decidiera hacerles control y tumbarte las porquerías que estas intentando meter . síganme para más traducciones jurídicas .',\n",
              " 'MENTION MENTION si es uno de los síntomas del coronavirus',\n",
              " '🚨 🚨 agradecemos a MENTION y a MENTION que se unan a la petición que MENTION hizo por carta el NUM de marzo a la directora general . 🚨 🚨 pase lo que pase es acto de servicio # hablandoclaro # covid _19 # coronavirus URL',\n",
              " 'sabado NUM de junio agresión en cataluña en les ( franqueses del vallés ) , MENTION por no llevar el ciudadano mascarilla , y si pañuelo tapándose la boca , las agresiones de los seguratas y a una mujer , ellos no llevaban mascarillas pero si agreden a los usuarios del vagón del tren . 🤬 URL',\n",
              " 'fallecidos por covid - NUM por millón de habitantes : españa : NUM alemania : NUM grecia : NUM c del sur : NUM gasto público en salud ( % g . público total ) : españa : 15,14 % alemania : 21,36 % grecia : 10,32 % c del sur : 13,45 % seguid pensando que todo lo condiciona el presupuesto y no la gestión',\n",
              " 'NUM sacerdotes ya han muerto en españa por # coronavirus dando compañía , cariño y apoyo a los ancianos en los hospitales en sus momentos finales , jugandose su salud y su vida . casi nadie habla de ellos . gracias por una labor muchas veces silenciada . URL',\n",
              " 'no justifico a rajoy , pero que los que defienden que el # NUM m no se produjo ningún contagio , aunque salieran a manifestarse cientos de miles de personas , digan ahora que rajoy ha puesto en peligro a mucha gente por salir a pasear , es para descojonarse .',\n",
              " 'pablo iglesias denuncia una falsa organización criminal de bulos ante esa fiscalía que controlan cuando su gobierno no ha parado de mentirnos con el coronavirus . y sus turbas se organizan para cerrarles las cuentas a MENTION y MENTION . veremos a periodistas en la cárcel . URL',\n",
              " 'estas son las fechas que barajan las marcas de coches para retomar la producción tras el parón por el coronavirus URL',\n",
              " '# coronavirusarv se podría infectar con los otros coronavirus estacionales de resfriados a los jóvenes bien vitaminados , con vitaminas a , c , d , además de probioticos , zn , betaglucanos , allicina ( ajo ) y luego con el covid - NUM a esos jóvenes voluntarios y luego aislar NUM dias',\n",
              " 'un periodista especializado habla con varios expertos que investigan desde hace semanas el covid y todos concluyen que , aunque se están descubriendo datos reveladores , todavía se sabe poco . pero mejor hazle caso a lo que te manda tu cuñado por telegram , que él no tiene dudas .',\n",
              " '🔴 esta mañana firmo el decreto que ordena el luto oficial en la comunidad de madrid por los fallecidos por el covid - NUM . a partir de mañana y hasta nueva orden , las banderas de madrid ondearán a media asta . guardaremos un minuto de silencio cada día a las 12:00 .',\n",
              " 'necesito ayuda para difundir esto jóvenes españoles han diseñado un respirador artificial para pacientes graves de covid de bajísimo presupuesto y altísima escalabilidad en cualquier taller . las primeras pruebas en vivo exitosas . necesitan colaboración URL',\n",
              " 'el sars-cov - NUM es un patógeno de clase NUM . mi opinión , es que hay que \" protegerse \" como si fuera incluso de clase NUM , porque , una cosa es la baja letalidad respecto a virus como el ébola y otra muy distinta es que sea mucho más infectivo , con una r de casi NUM . MENTION MENTION 👇 URL',\n",
              " 'quiero subrayar que el sistema autonómico está respondiendo eficazmente al desafío del # covid NUM las autonomías españolas hemos demostrado ser instrumentos esenciales y útiles en esta lucha , y lo queremos seguir siendo para impulsar españa . # díadecastillayleón URL',\n",
              " 'máscaras de acetato pvp 4.98 € regulables en tamaño y abatibles para trabajar más cómodo evitando contagios . URL tel . NUM NUM NUM # mascaras # mascarasdeacetato # covid _19 # proteccion # mamparasdemetacrilato # mamparas URL',\n",
              " '# yomequedoencasa hola , vamos con las sugerencias de hoy : cadena perpetua , de frank darabont ; sweet home alabama , de lynyrd skynrd ; el hombre sonriente , de henning mankel URL',\n",
              " \"ojalá que cuando pase todo esto valoremos la enorme contribución de # empresarios y # emprendedores a nuestra sociedad . ' es justo y necesario ' sirva este vídeo como agradecimiento a todos ellos . # emprendimiento # coronavirus # parapensar URL\",\n",
              " 'esta campaña de la izquierda en portugal señala justo lo que necesitamos para reconstruirnos tras la crisis del covid NUM 🇵 🇹 URL',\n",
              " 'acaban de preguntar a la ministra portavoz si se valora una bajada de sueldos de los miembros del gobierno . ha respondido que no están escatimando en horas y que pongamos en valor que cuando alguien tiene coronavirus no se le pide la tarjeta bancaria . no sé ...',\n",
              " '3/3 es una gripe 8/ NUM sola y borracha 14/3 los madrileños propagan el virus 18/3 nadie lo vio venir 22/3 los recortes del pp 25/3 aplaudamos 1/4 esto solo lo paramos unidos 8/ NUM la ultraderecha suelta bulos 12/4 ya pediremos responsabilidades ¿ soy yo o se les agota el discurso ?',\n",
              " 'MENTION MENTION ¿ y la postura de ana rosa qué te ha parecido ? ha alegado que es su vida privada , que se salte el confinamiento y tal ya lo dejamos para otro día , pero pablo iglesias iba sin mascarilla en el super . joder con la vara de medir de anita',\n",
              " 'os voy a contar un secreto . al sector de la noche le da igual lo de los ertes por fuerza mayor por el covid . ¿ sabéis por qué ? porque para eso tendrían que haber dado de alta a algún empleado .',\n",
              " 'la política de vivienda de feijóo durante la crisis de la covid - NUM deja al descubierto el caso interés del pp por defender lo público . MENTION exige que se garantice este derecho fundamental y deje de utilizarse para \" intoxicar \" en los medios URL',\n",
              " 'salen los últimos pacientes del # hospitalifema . personal sanitario y profesionales que han vivido la experiencia con ellos se despiden con emoción . # ifemaerestú | # estevirusloparamosunidos URL',\n",
              " 'me siento en un bar de la calle betis que antes del covid - NUM se jartó de ganar dinero . ahora no cobra con tarjeta para que hacienda no controle los ingresos pero tiene todavía a cinco trabajadores en el erte . no paga pero quiere cobrar . preside el bar una gran bandera de españa .',\n",
              " 'MENTION MENTION al parecer tambien es mentira que lee los twitter de la gente , y lo que tiene es una guerda de jaladores que se los filtran , porque nunca se ve que contestan nunguno , como lo hacia mi comandante chavez URL',\n",
              " '📹 héroes en el podio y también en hospitales , laboratorios y coches patrulla 👮 👮  \\u200d  ♀ ️ 👩  \\u200d  ⚕ ️ 👨  \\u200d  ⚕ ️ 🥇 🥈 🥉 URL # estevirusloparamosunidos URL',\n",
              " 'el estado de nueva york , con más casos de coronavirus que cualquier país del mundo , usa fosas comunes para los muertos URL URL',\n",
              " 'luto en españa : fallece muy joven gema arribas , jugadora del getafe , por coronavirus su presidente , ángel torres , ha mostrado sus condolencias a los familiares y seres queridos de gema , así como a sus compañeras de equipo y el cuerpo técnico . dep . URL',\n",
              " '¿ por qué durante este confinamiento se han reunido con todos los sectores de la comunidad educativa menos con los estudiantes ? ¿ qué propone el mefp para contar con nuestra opinión de cara a futuros rebrotes o la vuelta a la aulas ? responde MENTION en MENTION 🗞 URL',\n",
              " '🇫 🇷 | urgente - coronavirus : el primer ministro francés anuncia la generalización de los test a partir del NUM de mayo . toda persona positiva al covid - NUM será aislada , así como su familia .',\n",
              " 'gracias por obligarme a lavar la luna delantera y darle sepultura a todos los mosquitos',\n",
              " 'ah , que lo denuncian por generar una sensación de “ inseguridad , miedo y desconfianza ” . vamos , que lo denuncian por criticar que la absoluta negligencia de este gobierno nos desprotege frente a la amenaza del virus .',\n",
              " 'los sanitarios del ifema han salido hoy a felicitar a carmen calvo por su magnífica coordinación de la lucha contra el virus . pásalo .',\n",
              " 'sanidad abre la puerta al uso generalizado de mascarillas ante el coronavirus URL',\n",
              " 'hace NUM días algunos criticamos que MENTION había cogido NUM semanas de permiso de paternidad . hoy ha aparecido para decirnos que al no haber eventos deportivos hay menos apuestas y que el confinamiento se pasa mejor en una mansión que en un pisito . casi mejor que se quede en casa . URL',\n",
              " 'buscando oportunidades con el covid ... que también las hay ! 💪 hiberus tecnología invertirá un millón para impulsar negocios de ecommerce URL',\n",
              " 'le doy NUM euros al que no haya visto un rato telecinco durante el confinamiento .',\n",
              " 'si esto es verdad , le debería caer una sanción ejemplar , que perdiera su condición de funcionario y la pérdida de todas las retribuciones del estado que perciba del estado si las sigue cobrando . las personalidades públicas son los primeros que deberían dar ejemplo ...',\n",
              " 'buenos días a tod MENTION , menos a un gobierno como el de MENTION que según los sanitarios \" han significado un virus añadido \" . via MENTION URL',\n",
              " 'secretaría de gobierno de cúcuta , solicita no realizar caravana programada para el día de hoy en el ciudad en respaldo al senador MENTION , debido a las restricciones por la pandemia del # covidー NUM los participantes están expuestos a sanciones por MENTION',\n",
              " 'tiendas de lujo vacías y el centro comercial # china world de guomao bajo mínimos . según me cuentan amigos empresarios , el rebrote del coronavirus en pekín está afectando a la ciudad más que el estallido de la pandemia en wuhan y la posterior parálisis del país . ojalá pase pronto . URL',\n",
              " 'un corzo por las calles de valladolid . calle puente colgante . el confinamiento no es para todos . MENTION MENTION _ MENTION URL',\n",
              " 'el NUM % de los alemanes están a favor de que la unión europea preste ayuda financiera a españa e italia , según una encuesta URL # covid NUM',\n",
              " 'una menor violada en cieza , la violación es retransmitida por instragram y parte de la sociedad debatiendo y preguntándose por qué se había saltado el confinamiento . que asco de verdad .',\n",
              " '¿ # sabíasque la electricidad ⚡ está presente en algunos de los mejores temazos de la historia ? ¡ recordamos los más especiales 🔙 ! inunda tu hogar de música aquí y ahora 😜 👉 URL # somosenergía # graciasportuenergía # estevirusloparamosunidos URL',\n",
              " '🦠 washington post confirma origen del paciente cero del coronavirus : era empleado del famoso laboratorio d virología de la ciudad china de wuhan : el coronavirus covid - NUM se originó en el laboratorio del instituto de virología de wuhan como parte de un programa de 👇  🏻',\n",
              " 'el presidente de la cámara de comercio de barcelona : \" españa es paro y muerte ; catalunya , vida y futuro \" URL # covid NUM URL',\n",
              " '“ el pánico por coronavirus es injustificado ” dice el virólogo argentino pablo goldschmidt URL',\n",
              " 'hoy salgo de tranquis jajaxd',\n",
              " 'un “ genio ” illa . como no logra hacer test ; como le pillan mintiendo con que somos de los que más pruebas hacemos , ahora dice que “ el lavado de manos , la higiene y el distanciamiento son más efectivos que hacer test a personas sin síntomas ” . illa no sabe ni dónde está su silla . URL',\n",
              " 'he superado al # covid NUM y tras la convalecencia me incorporaré a mi trabajo de manera presencial . gracias a los que me habéis acompañado de una u otra manera . mi apoyo y solidaridad a todos los que están pasando por estos difíciles momentos porque # estevirusloparamosunidos',\n",
              " 'increíble colaboración y auténtica solidaridad . gracias # solidaridad # gracias # covid NUM # salud # ciencia # medicina # investigacion',\n",
              " 'una fórmula para ofrecer un soporte experimental a pacientes críticos con # covid NUM \\u2066 formidable trabajo del dr sánchez , dr juberías , MENTION y lidia ybáñez de \\u2066 MENTION \\u2069 👏  🏻 👏  🏻 👏  🏻 MENTION \\u2069 \\u2066 MENTION \\u2069 URL',\n",
              " 'no sabeis comprar test , no sabeis comprar mascarillas , no sabiais que habria pandemia , no sabeis contar los muertos ... ¿ para que pollas tanto ministerio y vicepresidencias ? URL',\n",
              " 'ruego difusión : vox está organizando una red profesionalizada y jerarquizada para lanzar infundios y ataques a nuestra estabilidad en cuanto se termine la crisis del coronavirus . están haciéndolo por whatsapp porque es menos monitorizable . utilizan incluso a cuadros médicos que',\n",
              " '¿ necesitas 🍞 🍎 🍼 comprar ? ✅ individualmente ✅ distancia de seguridad ✅ en un super cercano ✅ compra para varios días # estevirusloparamosunidos URL',\n",
              " 'atención por favor , aclaración tussam . . este video que está circulando por redes sociales no es actual , tiene su tiempo , no sé si NUM años o más , nada tiene que ver con el covid . . actualmente se está estudiando que filtros poner para poder poner en funcionamiento el a / a URL',\n",
              " 'la difusión del virus es culpa de las feministas . a los niños les gusta comer pizza . iglesias es el responsable de las muertes en residencias y sánchez de las muertes en hospitales . la solución es poner crespones negros y seguir despidiendo sanitarios . y con esto ya estaría .',\n",
              " 'MENTION MENTION es normal . el cadáver de franco le daba votos y los cadáveres del coronavirus se los quita . le importamos una mierda a MENTION espero que lo recordemos en las urnas .',\n",
              " 'sanidad ha hecho público el dato que se negaba a facilitar : en españa hay 51.482 sanitarios contagiados por covid NUM URL',\n",
              " 'MENTION MENTION normal no es , hay estado de alarma por pandemia .',\n",
              " 'the new york times pide a los estadounidenses que no ingieran desinfectante tras el aumento de intoxicaciones de este tipo , NUM horas después de que el presidente trump dijera en rueda de prensa que se podría probar “ inyectar desinfectante y tomar el sol ” para matar el coronavirus URL',\n",
              " 'ojalá una causa de fuerza mayor detuviera el curso académico algo rollo una pandemia',\n",
              " 'MENTION MENTION posa al buscador coronavirus anticoagulantes',\n",
              " 'cristiano ronaldo se ha convertido hoy en el primer futbolista en la historia en llegar al billón de dólares . las trabajadoras de la limpieza en los hospistales están ganando NUM € / h en plena pandemia . el virus es el capitalismo . URL',\n",
              " 'china : libera una pandemia ee.uu : libera ovnis argentina : libera presos jajajajajajaja',\n",
              " 'NUM . vamos . ojo : españa salta a 47.610 casos de coronavirus y 3.434 muertos , más que china . aquí la última lista de sanidad por cc aa : URL',\n",
              " '” la fortuna de los NUM españoles más ricos crece un NUM % durante dos meses de pandemia . amancio ortega es 8.651 millones más rico , el patrimonio bursátil del presidente de ferrovial , rafael del pino , mejora un NUM % ; el de florentino pérez , un 41,6 % ... ” URL',\n",
              " 'réplica de mi pregunta a la portavoz del gobierno en la sesión de control . la españa de sánchez se dirige a un triple liderazgo : más muertos , el confinamiento más drástico , la recesión más severa . es un balance para llorar . URL',\n",
              " 'un nene solo x la calle : un peligro para la salud pública ! ! ! ! distancia social ! ! ! diez maderos tirados encima de él : covid ? no me suena .',\n",
              " 'el presidente del gobierno de la nación hablando por twitter con hanna montana , y los muertos sin contar . cansadísimo .',\n",
              " 'hoy los profesionales sanitarios han recibido a díaz ayuso en ifema al grito de \" sanidad pública \" y ella ha respondido con un aplauso . ojalá eso signifique que va a rectificar su plan de echar a 10.000 sanitarios a la calle después de cuidarnos a todos y con la epidemia aún aquí . URL',\n",
              " 'serenidad con responsabilidad sin mermar nuestra capacidad y libertad en la españa de la pandemia URL vía MENTION _ por MENTION 🖋 ️ # covid NUM # coronavirusespaña # yomequedoencasa',\n",
              " 'el profesor de química en la universidad de harvard detenido en enero afronta cargos por haber mentido en sus lazos con el gobierno chino . lieber recibía fuertes sumas de la universidad de wuhan , probablemente , colaboró en la creación del covid - NUM . URL',\n",
              " 'el NUM de marzo una señora nos dijo que nos quitáramos la mascarilla porque asustábamos a los pacientes , le pregunté a mi compañera : - quién és esa ? - la directora del hospital',\n",
              " 'gobernador alemán enfrenta críticas por respuesta a virus URL URL',\n",
              " 'soy hombre y empresario autónomo . me han tenido NUM días impidiéndome trabajar a mí y a mis trabajadores ; impidiéndome despedirlos y obligándome a pagar nóminas y cotizaciones sociales . pero la que ha estado luchando en esta pandemia ha sido MENTION que se hizo 4test en casa',\n",
              " 'coronavirus , el monstruo viajó en el metro : el mapa que explica el comienzo de la epidemia . la red de transporte público en lombardía coincide con las áreas de contagio : cinco millones de personas viajan diariamente en ella sin darse cuenta del peligro . URL',\n",
              " 'el primer curso que acredita a los trazadores de contagios # ayudabiblioteca # covid NUM URL',\n",
              " 'que llamen al cañi , que les hace la misa gratis .',\n",
              " 'ya me he topado con alguno que intenta defender la gestión del gobierno reprochándome que rajoy se salta el confinamiento . aparte de que no sé qué tengo yo que ver con la irresponsabilidad de ese señor , ¿ en serio se está pretendiendo desviar el foco de culpabilidad de esta manera ?',\n",
              " '# minutops la puebla del río suspende su corpus christi por el coronavirus URL',\n",
              " 'orgulloso del trabajo bien hecho entre todos - & gt ; MENTION agradece al consejo general de agentes MENTION de españa y a todos los colegios por la labor de prevención , información y apoyo para ayudar a contener la pandemia # todosprotegidos URL',\n",
              " '📈 parte oficial del gobierno andaluz sobre # covidー NUM ⛑ son 11.425 los casos positivos de # coronavirus en # andalucía URL',\n",
              " 'wedding planner la profesión que ha venido para quedarse URL # lifestyle # yomequedoencasa # covid NUM',\n",
              " 'exijamos pruebas y metodología para catalogar como \" muerto por el coronavirus \" . no basta que \" todo aquel que no sepamos de qué ha muerto , lo ha sido por el coronavirus \" . de ello depende que la histeria remita pronto y reactivemos la economía y salgamos del confinamiento .',\n",
              " '\" gente \" inyectandose mistol en vena en NUM .. NUM ... URL',\n",
              " 'coronavirus en españa , última hora en directo URL',\n",
              " 'el problema , como señala MENTION no es la puntería de los chivatos sino la falta de sentido de comunidad en el cuidado a las infancias .',\n",
              " 'es verdad ! según el ministro ayer empezaban a descender los casos por coronavirus y hoy 👇 64.059 contagios NUM fallecidos dejar de engañar a los españoles . # gobiernonegligente # unidaspandemias URL',\n",
              " '🐭 🦠 MENTION está recogiendo todas las noticias que disney está dando en su primera reunión de inversores tras la crisis del covid - NUM . algunas apuntan cosas interesantes . URL',\n",
              " 'vocería nacional oficial confirma la detección de NUM nuevos casos de covid - NUM , ascendiendo a NUM casos confirmados \" de esos NUM hay seis pacientes en condición crítica , tres pacientes con insuficiencia respiratoria aguda moderada , NUM con insuficiencia leve y NUM sin síntomas \"',\n",
              " 'tendríamos que empezar a revisar términos como \" vencer \" o \" superar \" . una epidemia que se llevará más allá de 20.000 ciudadanos y sumirá en la pobreza a cientos de familias , pasará , terminará o acabaremos sobrellevándola . vencer hubiese sido otra cosa . menos coaching emocional .',\n",
              " '# huelgamir una huelga de médicos suena egoísta ... pero , ¿ sabéis qué piden ? - no tener que compartir camas y mismas sábanas en la guardia con otros residentes ( hay un virus y tal ) . - que los adjuntos no entren a fumar a su habitación . - tener algún día más para ir de formación .',\n",
              " 'hay al menos un millón de infoterroristas ( nuevos perfiles adhoc covid NUM ) , ¿ su objetivo ? ¿ lo dudan ? el enemigo es el virus , pero el objetivo de algunos es la democracia misma .',\n",
              " 'hoy he vuelto a pedir a pedro sánchez que declare luto nacional por las víctimas del coronavirus en españa , las NUM de hoy y las 18.579 en total . que se ponga la corbata negra y el crespón en el logo del psoe con el que homenajeó a las víctimas francesas de la discoteca bataclan . URL',\n",
              " 'lo reclamamos desde las últimas cuatro conferencias de presidentes : NUM y NUM de mayo , NUM y NUM de junio . ojalá lo tardío no sea un plan severo en la entrada del covid en madrid : barajas . y que no volvamos a febrero . nuestra obligación es preocuparnos . URL',\n",
              " 'china insta a los ee.uu . a \" dejar de politizar \" la pandemia del covid - NUM URL',\n",
              " 'la pandemia y la post pandemia tienen sexo URL por beatriz gimeno MENTION MENTION MENTION',\n",
              " '🗞 ️ MENTION preside la reunión de ministros de turismo convocada por el MENTION . \" los vuelos y viajes entre países de la 🇪 🇺 y áreas que estén libres del virus deben ser permitidos tan pronto como sea posible \" . URL',\n",
              " 'el príncipe carlos da positivo por coronavirus : esto es lo que sabemos | cnn URL',\n",
              " 'veterano tu prima 😂 URL',\n",
              " '🔴 MENTION : “ el confinamiento decretado por el presidente MENTION con el estado de alarma fue una drástica pero buena idea ” . # estevirusloparamosunidos URL',\n",
              " 'hablando de rebrotes y aglomeraciones en MENTION mientras que vuestra reportera usa una mascarilla con válvula ! ! ! si estuviera contagiada , lo propagaría ! si por lo que sea tiene que usar esa , una quirúrgica encima para proteger a los demás . MENTION lo explicó !',\n",
              " 'florentino pérez dona NUM euros para ayudar a luchar contra el covid - NUM : URL URL',\n",
              " 'cat llegó a su pico de ocupación de uci hace sólo dos días . el no habitual de camas es de NUM y tenemos una ocupación de NUM ( NUM % ) . los efectos de un desconfinamiento precipitado pueden ser devastadores para nuestro sistema sanitario . decretarlo es imprudente . #yomequedoencasa URL',\n",
              " 'las personas mayores son especialmente vulnerables al coronavirus y suponen el colectivo más afectado por la pandemia . por ello , merecen aún más protección y cuidados . por ello tenemos equipos dedicados a asesorar y dar apoyo a los centros y residencias de mayores y geriátricos .',\n",
              " 'MENTION MENTION MENTION estás muy equivocado , apoyar a este gobierno q deja material sanitario atascado en fronteras y q no compra el medicamento necesario para combatir el coronavirus es lo q llevará a 🇪 🇸 a perder 1generación entera . incapaces de verlo hasta q no os toque de cerca , como miguel bosé',\n",
              " '\" la situación que vivimos en esta epidemia nos lleva a tomar como más protección mayor . pero hay que entender que hay muchas cosas que todavía no tenemos claras , porque son nuevas . eso incluye los tests . \" # covid 19semfyc # covid NUM URL',\n",
              " 'escasos recursos y poco margen para los estudiantes hijos de las familias trabajadoras . nos quieren hacer creer que estamos ante la alquimia de la docencia a distancia mientras se preocupan más por la voluntad del santander que por la calidad educativa # alarmaeducativaucm',\n",
              " 'los sanitarios españoles que trabajan en primera línea contra la pandemia de la covid - NUM han sido galardonados este miércoles con el premio princesa de asturias de la concordia NUM . felicidades ! ! ! ! ánimo , aún queda mucho por andar . MENTION',\n",
              " 'la consejera de MENTION insiste en que el # coronavirus sigue circulando , por lo que hay que extremar las medidas de protección : distancia de seguridad de 1,5 metros , lavado frecuente de manos y uso de mascarilla URL',\n",
              " 'djokovic y su clan se quejan de que no le quieren . nada mejor que organizar un torneo con otros jugadores a puertas abiertas en plena pandemia para ganarse el calor del público . vaya genio',\n",
              " 'la comunidad de madrid no renovará los contratos a los profesionales del sermas que han reforzado la lucha contra el coronavirus . lo de MENTION no tiene nombre . URL',\n",
              " 'operación “ zendal ” . bien que NUM militares obtengan , casa por casa , en todo el territorio nacional , las muestras para los tests de coronavirus . pero es inaceptable que se les obligue a hacer tal servicio sin vestir el uniforme , para esconder su condición militar . URL',\n",
              " 'repuntan los # contagios y los # fallecidos de coronavirus en balears URL MENTION MENTION URL',\n",
              " 'el rey ha conversado hoy en videoconferencia con los responsables del museo nacional centro de arte reina sofía , quienes les comentaron las acciones durante la pandemia de la institución cultural , que reabrió hace días sus puertas de nuevo . URL URL',\n",
              " 'NUM días de confinamiento en wuhan y aquí diciendo que pronto saldremos 🤡 🎪',\n",
              " 'MENTION no digo que sea fácil , pero no sería nada nuevo para nosotros , yo , personalmente , creo que el confinamiento no lo llevaría tan mal como veo que lo está llevando la gente . yo también hablo sobre lo que yo conozco y mi experiencia , habrá quien esté de acuerdo y quien no .',\n",
              " 'tributo - foto NUM los grandes heroes de esta terrible pandemia son nuestros sanitarios . esa ingente cantidad de profesionales que se están dejando la vida y a los que tanto debemos . a partir de hoy y hasta que acabe esta crisis voy a colgar una foto en su homenaje . gracias de corazón . URL',\n",
              " '“ si tienes cojones lo revientas ¡ pringao ! ” dijo el cenutrio que había aparcado su coche en el carril bus en pleno confinamiento ... URL',\n",
              " 'según el informe de la MENTION en # españa estábamos en pandemia desde enero . por eso , MENTION salió de manifa el NUM de marzo frente al # congreso de los diputados URL',\n",
              " 'MENTION es falso , unas simples coincidencias , algunas otras cosas ya se veían venir , y otras como la corona de inglaterra y lo de trump , esta por verse . no menciona pandemias .',\n",
              " 'cataluña dice ahora que tiene 7.097 muertos por coronavirus , 3.341 más de los que admitía hasta ayer : URL',\n",
              " 'yo no se como el mundo cientifico no ponne el grito en el cielo por desconocer los datos reales de muertos , sin una estadistica seria y fiable la anticipacion de medidas frente a la pandemia no pueden existir . URL',\n",
              " 'la medida fetén para acabar con la peste del sxxi es el confinamiento por zonas hasta los NUM fallecidos . como china . están los españoles / europeos preparados para ello ? . está preparada la economía para soportarlo ? .',\n",
              " 'distintivo especial para distinguir los bares libres de coronavirus URL',\n",
              " 'última hora : repunte de contagiados este viernes en guadalajara , NUM nuevas defunciones por coronavirus y NUM personas infectadas en las últimas NUM horas que eleva a 1.850 los contaminados y a NUM los fallecidos URL',\n",
              " 'MENTION rufi sacando pecho con la violencia policial del NUM - o , porque un miserable ha sido destituido ... por un informe sobre el NUM - m y la covid ! ! rufi \" tal vez no recuerda \" , que marlaska ha condecorado a los polis que agredieron brutalmente a \" su pueblo \" . URL',\n",
              " 'dos de las comunidades que peor financiación tendrán por parte del fondo covid para combatir la crisis serán murcia y andalucía ( NUM € menos por habitante que cataluña por ejemplo ) . la una gobernada por vox , la otra por pp + cs . no es casualidad , es sectarismo . gracias presidente .',\n",
              " 'NUM . 💭 ¿ os acordáis del millón de multas a gente que la policía consideraba que se estaba saltando el confinamiento ? 👑 pues parece que si eres un parásito aristócrata sobrino de los reyes de bélgica tienes inmunidad . URL URL',\n",
              " '🔴 última hora | fallece , en su domicilio , una doctora de salamanca en autoaislamiento por síntomas de coronavirus # lanoche 24h 📺 URL URL',\n",
              " '🦠 covid - NUM galicia ▶ ️ primer fallecimiento desde NUM de junio ▶ ️ NUM residente y NUM trabajadores de centros de mayores afectados',\n",
              " 'quirónsalud participa en NUM # estudiosclínicos y observacionales sobre la # covid NUM - los investigadores de MENTION buscan información científica sobre nuevos tratamientos farmacológicos # conideintelligente # genteintellgente información para decidir URL',\n",
              " 'MENTION MENTION MENTION buena gestión : españa : 0,61 % de población mundial . contagios por covid - NUM : 11,2 % del total mundial . muertos por covid - NUM : 19,2 % del total mundial . NUM de cada NUM muertos por covid - NUM en el mundo los han puesto en la morgue MENTION y MENTION . # lapesteroja',\n",
              " 'rajoy aprobó las bases de un plan ante pandemias seis meses antes de su salida que el gobierno siguiente no desarrolló via MENTION m URL',\n",
              " 'un tal sanchez nos dijo hace unos días que podríamos llegar a NUM infectados por coronavirus . llevamos NUM . y solamente leo que es la derecha la que lanza bulos . acojonante',\n",
              " '¡ ¡ 49.610 € por un respirador ! ! dejé de buscarlos porque vamos a tener más respiradores que ucis . pero los básicos estaban en 6.000 y los que se necesitan entre 12.000 y 17.000 € / ud . que sea una empresa que vende hormonas ni cotiza . URL',\n",
              " '# entrevista | el presidente del MENTION , florentino pérez raya : \" cada baja por infección es un profesional que no puede atender en primera línea a # pacientes que lo necesitan o salvar más vidas \" URL',\n",
              " 'seis policías locales se encuentran en cuarentena en málaga tras detener a un hombre con covid - NUM que había sido detenido por agredir a su hermana de NUM años dándole un mordisco en la cabeza . URL',\n",
              " 'aquí está el vídeo oficial de la nueva versión del himno contra el coronavirus , # resistirécadena NUM . la magia de NUM artistas y NUM músicos unidos con un objetivo común ¡ mantenernos unidos y fuertes ! además es solidario a beneficio de MENTION URL',\n",
              " '🔴 última máscara empleada esta tarde : ✅ sato NUM NUM ➡ ️ NUM % ✅ pco NUM a las NUM horas 👉  🏻 NUM 👏  🏻 👏  🏻 👏  🏻 # makersmarañon # somoselmarañon # covid NUM # covidencia URL',\n",
              " 'el cardenal cañizares divulga en misa el bulo de que la vacuna del coronavirus se fabrica con \" células de fetos abortados \" URL informa MENTION URL',\n",
              " 'tremendo lo que está sucediendo en albacete apoyo total a MENTION y MENTION que tengan que intervenir ! inmigrantes , con varios positivos por # covid NUM se escapan de su confinamiento y provocan disturbios . inmigración legal y ordenada si , esto no ! 👇 URL',\n",
              " 'lo de macarena olona de v 🤮 x es de una desvergüenza insufrible . venezuela , socialcomunistas , ferreras , ana pastor y roures ... ¿ y el # covid NUM ?',\n",
              " 'y si el covid - NUM en vd no existe ?',\n",
              " 'durísimo correctivo de \\u2066 MENTION \\u2069 a \\u2066 MENTION \\u2069 x el tratamiento partidista d \\u2066 MENTION \\u2069 a la crisis del coronavirus . fortes intenta darle la vuelta y se lleva un zasca terrible de la portavoz de \\u2066 MENTION \\u2069 . para verlo 👇 URL',\n",
              " 'MENTION dice que una inyección de desinfectante limpiaría los pulmones de enfermos con covid - NUM . yo subo la apuesta , si se mezcla con una cucharada del feiry estoy seguro que los cura . no sé pa qué gastar tanta pasta en vacunas .',\n",
              " 'madrid sale al rescate de las casas de apuesta , casinos y bingos ante la crisis del coronavirus . el ayuntamiento les aplicará una rebaja del NUM % en impuestos para ayudarlos porque los considera de \" especial interés y utilidad municipal \" URL',\n",
              " 'españa , la represión no cura a la gente del coronavirus , ahora se entiende la fijación que tenían con los restos del general franco',\n",
              " 'la oms es un puto cáncer , creo que está clarisimo',\n",
              " 'desde MENTION lanzamos nuestra campaña solidaria para recaudar fondos para la lucha del # covid . desde mñn subastaremos en ebay material de cada uno de los jugadores durante NUM días y todos los fondos irán destinados a cruz roja española . gracias a nuestros jugadores . URL',\n",
              " 'a ver si nos aclaramos ya . las medidas extremas no se tomaron por la gravedad del coronavirus , sino por la dimensión masiva de un contagio que las autoridades permitieron no tomando medidas a tiempo . todos los estragos humanos y económicos vienen de ahí . lo de españa es único .',\n",
              " '🏛 ️nuestro portavoz de # formacionprofesional MENTION , en la comparecencia de MENTION en el MENTION 🗣 ️ \" la crisis de la # covidー NUM ha constatado una mejor adaptación de la formación profesional a la enseñanza a distancia \" . # nadiesequedaatras URL',\n",
              " 'empezamos con el coronavirus y ahora viene venom , lesgo',\n",
              " '🏠 cinco claves para limpiar tu hogar frente al # covid NUM URL URL',\n",
              " '¡ el gobierno admite ahora que es incapaz de ofrecer datos fiables sobre el coronavirus ! - las repúblicas URL',\n",
              " 'francisco pérez , director del MENTION 👇 « los que han seguido trabajando siguiendo todas las normas nos han demostrado que es compatible que la economía se desarrolle a la vez que se va controlando la epidemia » # estonotienequeparar porque # estopasará URL',\n",
              " '¿ queréis saber algo muy gracioso y a la vez irónico ? este pazguato va disfrazado de george washington , quien en NUM evitó que la viruela se propagara por boston ... a ver si lo adivináis ... ¡ mediante la imposición de un confinamiento !',\n",
              " 'un exdirigente del pp critica el papel de la oposición en la epidemia : \" los españoles no están para ocurrencias o mentiras \" URL vía MENTION',\n",
              " 'las muertes diarias por coronavirus siguen creciendo en cifras de NUM dígitos : NUM más en la última jornada URL URL',\n",
              " 'así que el forense del NUM m , por el que se pretende acusar al delegado del gobierno en madrid de propagar el virus dio una conferencia a los legionarios de cristo ¡ ¡ ¡ el NUM m ! ! ! repetimos : legionarios de cristo y 8m .',\n",
              " 'ana villarroya , profe de MENTION , nos da tres ideas para la # conservacion # ambiental desde el # confinamiento . URL URL',\n",
              " 'hemos alcanzado un buen acuerdo en el # eurogrupo , con una red de seguridad triple para # trabajadores , # empresas y # estados en la lucha contra el # covid NUM . seguiremos trabajando en mecanismos comunes de financiación para la recuperación económica . # estevirusloparamosunidos',\n",
              " '💪 dia NUM : jaque mate al coronavirus ➡ ️ mueven blancas y dan mate en dos ... 💩 🥊 🥊 ! ! #yomequedoencasa # responsabilidad # graciassanidadpública # covid _19 # jaquematealcoronavirus URL',\n",
              " 'un chófer de bus , en muerte cerebral tras negarse a llevar a NUM inmigrantes sin mascarilla URL',\n",
              " '# felizviernes # instagram # muydepepadeleyva # quémepongobypepa by MENTION - # tdsmoda # moda # lifestyle # yomequedoencasa 📸 perfil en instagram de pepa de leyva : URL URL',\n",
              " 'brutalidad policial racista , ambiente preelectoral , una pandemia , NUM millones de parados . todas las crisis a la vez . estados unidos bajo el volcán .',\n",
              " 'el primer ministro griego , kyriakos mitsotakis , anunció este lunes una ayuda extraordinaria de NUM euros para alrededor de 155.000 parados de larga duración , para paliar el impacto del # covid NUM MENTION ➡ ️https :/ / t.co / gq3rkcsh3z URL',\n",
              " 'un alcalde peruano se mete en un ataúd y se hace el muerto para no ser detenido por incumplir el confinamiento URL',\n",
              " 'hoy hemos vuelto a superar la barrera de los NUM muertos en las últimas NUM horas y ya hay más de 50.000 sanitarios contagiados . mientras tanto , grupos de extrema derecha se saltan el confinamiento porque no les abren las tiendas de louis vuitton . sois escoria .',\n",
              " '🚨 el comisario y el jefe operativo de la comisaría de # sanblas ponen en riesgo la salud de 2️⃣ MENTION 👮  🏼\\u200d  ♂ ️presentamos # querellacriminal contra el comisario y el inspector jefe , por poner en riesgo a los policías en # estadodealarma por # covid _19 🦠 URL URL',\n",
              " 'el gobierno de españa envía material sanitario caducado e inutilizable a las ccaa , que no tienen competencias para comprar los materiales necesarios . una vez más vuelven a exponer la salud de nuestros sanitarios frente al # covidー NUM qué rule ! 🔃 URL',\n",
              " 'hasta un NUM % de la población americana tiene factores de riesgo para tener complicaciones por la infección de covid y que en pacientes & gt ; NUM años es del NUM % . URL',\n",
              " 'como MENTION lo estás dando todo 💪 . si los tuyos están lejos , con MENTION no hay distancia . lo que necesiten , lo hacemos por ti 🇪 🇸 . activa nuestra red de apoyo solidario . por ti . por los tuyos . pásalo . # redapoyosolidario # hablandoclaro # covid _19 # coronavirus URL',\n",
              " 'libro más que recomendable \" NUM preguntas sobre el # coronavirus \" # sarscov NUM # covid NUM un libro totalmente # gratuito de MENTION y MENTION en el que participan más de NUM profesionales sanitarios y científicos aquí el enlace al pdf 👇 👇 👇 URL URL',\n",
              " 'hola señores de china , aqui yo descubridor del origen de la panemia de sida y su remedio , en este hilo volvere a explicar como sus amigos de la oms mataron a mucha gente al desencadenar negligentemente la pandemia de sida y silenciando mi descubrimiento URL',\n",
              " '🔴 MENTION : \" ya habrá tiempo de hablar todo esto pero lo importante es decirles a los afectados que las administraciones y autoridades estamos centrados en salvar vidas . \" # ayusoondacero # covid NUM',\n",
              " 'MENTION ahora que iba a comer pan normal y se jode por una pandemia',\n",
              " 'las asociaciones de vecinos de # arroyodelfresno # montecarmelo y # peñagrande han elaborado unos listados con comercios de proximidad . muchas gracias a MENTION MENTION y MENTION . # difunde # yomequedoencasa URL',\n",
              " 'en españa hay más de 7.500 personas ingresadas en la uci en estado grave o crítico . que haya altibajos en el número de víctimas diarias es normal dado ese elevado número de personas en la uci . en NUM días tras levantarse parte del confinamiento , es más que posible que aumenten .',\n",
              " '# irbvscovid NUM en el MENTION tenemos en marcha varios proyectos de investigación para frenar la # covid NUM y hemos abierto una plataforma para que quien quiera y pueda colabore con nosotros . la medicina del futuro empieza aquí . ¿ nos ayudas a seguir ? URL URL',\n",
              " 'quiero decirles que apoyo la decisión de la provincia de mantener las mismas condiciones de aislamiento . para las grandes ciudades cómo lanús no estará permitida la salida recreativa de NUM hora . entre todos debemos cuidarnos para ganarle definitivamente al # covid NUM',\n",
              " 'el secretario general del partido comunista , elegido vicepresidente de la comisión de reconstrucción . lo sé . \" comunista \" y \" reconstrucción \" en la misma frase . si fuera un chiste , se haría solo . pero lo más grave es que ha sido en una votación a mano alzada , irregular , en la que',\n",
              " 'durante el # finde reforzaremos los puntos de verificación para comprobar que los desplazamientos están justificados y garantizar la seguridad ciudadana durante el # estadodealarma . # trabajamoparaprotegerte ante cualquier incidencia # NUM 📲 MENTION URL',\n",
              " 'unos jóvenes se saltan el confinamiento para jugar un partido de fútbol en salt . ¿ huyen cuando llega la policía local ? se cachondean de ellos y les pegan un balonazo . quien no quiera cumplir las leyes ni sepa convivir , puede volver a su país de inmediato . URL',\n",
              " 'queridos amigos de twitter , creo que no conozco personalmente a ninguno de uds . pero en esta ocasión vengo a pedirles una oración por mi salud , estoy esperando resultado de covid NUM , pero me siento bastante mal , ayudarme y una petición a dios 🙏',\n",
              " 'el covid - NUM tarda entre NUM y NUM semanas en provocar la muerte URL',\n",
              " 'tengo tantos planes para cuando acabe el confinamiento que haré el confinamiento revertido : NUM meses sin pasar por casa .',\n",
              " 'la verdad sobre los zapatos y el coronavirus . que no te expliquen milongas . todo ello en MENTION # lareunionsecreta URL',\n",
              " 'la crisis del # covid NUM duplica el % de personas que trabajan en condiciones de “ alta tensión ” . la situación empeora en mujeres , trabajadores / as manuales y personas con dificultades para cubrir las necesidades básicas del hogar . artículo en # porexperiencia URL URL',\n",
              " 'URL un cantante gay ? ? ? 🤣 🤣 quen sera lo proximo ? ? ? 😂 vivimos en una simulacion jajajaja 🤣 🤘 🤣 😂 😂 🤣',\n",
              " '🆕 ⚽ \" curso integral de iniciación al arbitraje \" . 📝 💻 ¡ ¡ ¡ apúntate en URL que te esperan 🧐 en MENTION ! ! ! # yomequedoencasa # andalucíajuegaencasa # árbitrosrfaf 🔗 URL URL',\n",
              " 'ahora que empieza la desescalada descubro que tengo síndrome de estocolmo . ¿ soy el único ? # covid NUM # desescaladaresponsable',\n",
              " 'ayer vivimos un momento mágico en ifema : sanitarios , voluntarios , pacientes , celebraron la fiesta de la vida . sólo puedo disculparme porque nosotros también convocamos a mucha gente siendo conscientes de los resultados positivos del confinamiento . no debo fallar ahora . URL',\n",
              " 'sobre el estado de alarma : NUM ) es falso q garantice los erte . un decreto ley puede garantizar los erte NUM ) es falso q garantice el confinamiento . se puede confinar a poblaciones como pasó en la rioja antes dl estdo alarma . NUM ) lo que sí garantiza es el mando único de sánchez .',\n",
              " 'mirando al mar contemplo la vida esta vida de momentos difíciles que espero pasen enseguida . hay que ser positivo y sobrellevarla con ánimo , fuerza y optimismo . # juntospodemos # juntosresistiremos # yomequedoencasa # felizfindesemana # cuídense # tardesconsaboramar 🌊 💙 URL',\n",
              " 'la consejería de salud de la MENTION inicia un ensayo clínico para probar la eficacia de un medicamento para la artritis reumatoide en pacientes con covid NUM . MENTION',\n",
              " '🎥 ¡ nuevo capítulo de # cienciaencasa ! 💡 en esta ocasión , sergio navas , investigador de la # ugr nos habla sobre los neutrinos y su conocida inmunidad frente al # covidー NUM ▶ ️ : URL i️ : URL',\n",
              " '🔴 por primera vez , más del NUM por ciento de la población contagiada son sanitarios . suman 47.481 profesionales con covid - NUM . son NUM más que ayer ...',\n",
              " 'un millón de gracias a todas y todos por vuestro apoyo en el # díadelaenfermería . somos la principal tendencia ( tt ) . sólo falta que los líderes políticos escuchen el mensaje de nuestras enfermeras y enfermeros URL # juntosvenceremos # nursesday NUM # faltanmiles',\n",
              " 'tanto sabe a poco ... muchas gracias por este día ! ! ! 📽 ️ 🎞 ️ 🎬 MENTION MENTION MENTION # actores # actrices # directores # cine # cine # casting # actoresmadrid # encuentros # yomequedoencasa URL',\n",
              " '🔴 el eurogrupo logra acuerdo para la primera red de seguridad comunitaria contra los efectos del # covid : 550.000 millones € en líneas de liquidez a través de NUM vías : ✔ ️mede para estados ✔ ️bei para empresas ✔ ️sure para evitar despidos masivos URL',\n",
              " 'el vocero de tailhade , fabricio dietrich , que ahora dice que yo soy vocera del pro ( sic ) cuánto cobra por mes de nuestros impuestos para que insulte periodistas que sólo cumplen con informar ( cosas q no son de su agrado , como el # dolarterrorista o la verdad sobre el coronavirus ) ? URL',\n",
              " 'boletín coronavirus en nuestro departamento . # córdobasequedaencasa URL',\n",
              " '# 11ago # efe # urgente | putin : rusia ha registrado la primera vacuna contra la covid - NUM en el mundo . # coronavirus según el mandatario , la vacuna rusa es \" eficaz \" , ha superado todas las pruebas necesarias y permite lograr una \" inmunidad estable \" ante la covid - NUM . # coronavirus',\n",
              " 'y yo , y millones de españoles',\n",
              " 'disfruta del concierto 🎼 🎵 one world contra el coronavirus recauda casi NUM millones de euros para la oms : una reunión de estrellas que se juntaron para recaudar dinero 🔗 URL vía . MENTION # etxeangeratu # quedateencasa 😷 💪 📚 URL',\n",
              " 'sánchez no acudirá al funeral presidido por los reyes en memoria de las víctimas de esta pandemia . no solo eso , sino que tve no emitirá el funeral . sí pusieron en directo el funeral de george floyd para la propaganda . se ríen de los muertos y sus familiares . canallas miserables .',\n",
              " 'vaya con los socialistas . un ejemplo \" detenido el alcalde de badalona saltándose el confinamiento y con señales de embriaguez \" URL',\n",
              " 'al recibir las batas que les ayudarán a protegerse del covid - NUM , los profesionales del hospital severo ochoa se han percatado de que en el paquete pone que se trata de chubasqueros . URL',\n",
              " 'debido al covid NUM , al congreso asisten la mitad de diputados . eso quiere decir q el congreso puede funcionar con NUM diputados y nos podríamos ahorrar un pastón en sueldos y dietas ?',\n",
              " 'bueno al final el disco se va a llamar : coronavirus la concha biende tu prima',\n",
              " 'MENTION talmente inadecuada , sí . una ocurrencia de una tarde de confinamiento . sigo con el boe de hoy . desde las NUM en ello . # pabernosmatao',\n",
              " 'madrid utilizará la ciudad de la justicia como segunda morgue para acoger a los fallecidos por coronavirus URL',\n",
              " 'si la mayoría estamos confinados , cómo hay más de NUM nuevos contagios ? por la vuelta al trabajo de actividades no esenciales ? cuando vamos a comprar ? es importantísimo saber qué está pasando . esto es muy grave ! # sanchezmarchateya # yomequedoencasa URL',\n",
              " \"🛑 no todo va a ser información del fuenlabrada . el confinamiento me ha permitido retomar mi blog ' con yardas y a lo loco ' de fútbol americano , mi otra gran pasión . 🏈 compañeros del ovoide , reuníos . URL\",\n",
              " 'desde que empezó el confinamiento tengo dos dudas sin resolver : ¿ dónde está carmen calvo ? ¿ para que sirve alberto garzón ?',\n",
              " 'teresa ribera : la ministra dice que portugal paró antes el coronavirus porque \" venía del este y ellos están al oeste \" URL',\n",
              " '➡ ️ la orden publicada el viernes en el MENTION establece que las ccaa envíen datos más detallados para entender mejor la evolución del # covid NUM . ➡ ️ las ccaa están en periodo de transición para adaptar sus sistemas de información . URL # estevirusloparamosunidos URL',\n",
              " 'servilletas de papel con forma de mascarilla para \" proteger \" a los cántabros . no sé si nos toman por idiotas , si ciertos políticos , incluido revilla , se pasan de listos o alguien está haciendo negocio , pero eso es jugar con la salud de sus conciudadanos . URL',\n",
              " 'el papel protagonista de la # prl en MENTION magnífico artículo URL de # beatrizgarciamanso # coronavirus # epis # plandecontingencia # teletrabajo # distanciadeseguridad # medidasorganizativas # nuevosriesgos MENTION MENTION',\n",
              " 'este artículo explica muchas cosas . 👇 \" la tasa del NUM % a millonarios , evitar la explotación de migrantes y proponer industrias de más valor añadido se ve como actos intolerables de los ministros de unidas podemos \" . URL',\n",
              " 'en ausencia de viento de frente , si se # camina rápido a NUM km / h , la # distancia debería ser al menos de NUM metros . si se # corre a 14.4 km / h esta distancia debería ser de unos NUM metros ⤵ ️ # covid NUM # runners # exercise URL URL',\n",
              " 'os coméis a este hombre por llevar una mascarilla con tiburones que no se que problema os supone y mientras tanto a vuestro adorado rey le ha tenido que decir su hija que se ponga la mascarilla , si es que no dais pa más y no os cansáis de demostrarlo',\n",
              " '! ! ️ el # covid NUM ha golpeado con fuerza al sector turístico 🍊 desde cs hemos propuesto al gobierno de españa un plan de reactivación del turismo . ¡ no hay tiempo que perder ! # políticaútil 📽 MENTION \" no podemos dar a este sector por perdido \" URL',\n",
              " 'pedimos al gobierno que se nos aporten los epis necesarios y que nos realicen los tests de diagnóstico de # coronavirus . NUM farmacéuticos contagiados y NUM farmacias afectadas , el balance en andalucía a día de hoy , y creciendo un NUM % . nota completa ⤵ ️ URL',\n",
              " '# covid NUM el distanciamiento social ( ▶ ️ ◀ ️ ) y las conductas preventivas diarias ( 😷 + 🥽 + 💧 ) son claves para todos los grupos de edad . también los niños . por si se le olvida a alguien ... URL',\n",
              " '🔴 sigue en directo la comparecencia de la consellera de MENTION MENTION con la actualización de datos sobre la incidencia del # coronavirus en la comunitat valenciana URL',\n",
              " 'MENTION MENTION te corrijo el twitt . ⬇ oir hablar al vicepresidente de la junta de andalucia juan marín , de educación , políticas sociales y sanidad , de todo lo que han invertido en ello con la pandemia ... me salen sarpullidos , me pone de mala hostia y me da vergüenza . hdp',\n",
              " \"mi padre acaba de fallecer , este virus nos está destrozando , llevandose a personas maravillosas . cuidaros por favor ! papa , t'estimo moltíssim , perdona no haver-t'ho dit tant com tu a mi , no sé si sabré viure sense tu , desitjo que continuis sent la llum de la meva vida . 🌈 ❤ 🙏\",\n",
              " 'teófilo y mercedes . NUM y NUM años . ambos neumonía bilateral provocada por # covid NUM . casi dos semanas ingresados . ha habido días que no veían la luz al final del negro túnel . lo han superado juntos , como lo hacen todo desde hace NUM años . son mis abuelos y hoy vuelven a casa 👏 👏 URL',\n",
              " '🤯 el plan de desconfinamiento de sánchez es como el vídeo de iglesias haciendo la compra sin mascarilla : inseguro y poco serio . 👉 ¡ más claro imposible ! MENTION en la # sesióndecontrol al gobierno . URL',\n",
              " 'coronavirus : sigamos el ejemplo de taiwán y corea del sur , no el de china 👉 ver tabla comparativa en grande ( pdf ) : URL # libertarios # covid NUM # coronavirus URL',\n",
              " 'la presidenta de madrid , que dice que los techos altos reducen el contagio y que la d de covid NUM significa \" diciembre \" , asegura que podemos pasar de fase . el ministerio de sanidad y al colegio de médicos de madrid dicen que es muy arriesgado . y tú vas y crees a la primera .',\n",
              " 'el presidente del gobierno nos pide que seamos responsables porque el virus sigue ahí fuera . oiga MENTION , repita el mensaje en inglés y alemán para que lo entiendan los turistas a los que usted ha dejado entrar sin que tengan que pasar un test ni hacer cuarentena .',\n",
              " 'ya lo dije aquí alguna otra vez . creo que el presidente sánchez debería mandar a casa a todos l MENTION ministr MENTION y llamar a madina y ayllón . en un plis plás tendría resuelta la pandemia , la reconstrucción económica y la conquista de marte . ¡ un portento estos tipos !',\n",
              " 'entrevista | helena legido , investigadora : \" cuando la pandemia termine , españa deberá abordar la década de falta de inversión en sanidad \" URL',\n",
              " 'sabéis que hecho de menos de mi vida antes del covid - NUM ? estar sola en casa hostia',\n",
              " 'ganas de poder ir a bibliotecas y librerías ☺ 📚 💜 feliz # diadellibro NUM un buen momento para disfrutar de lecturas desde el confinamiento . comparte con nosotras tus libros favoritos , haznos tus recomendaciones , cuéntanos qué libros te han impactado , qué libros te están acompañando URL',\n",
              " '⭕ ️ lo que queremos es que los españoles reciban al menos el mismo trato que se da a los inmigrantes ilegales ⭕ ️ que se entregue de una vez por todas a los españoles mascarillas , guantes , geles y se les hagan test de # coronavirus URL',\n",
              " 'esto de que no se den datos hoy y mañana de fallecidos , contagios y situación del covid NUM porque es fin de semana y hay que relajarse y descansar suena heavy no ? entonces los que enfermen hoy y mañana , cuentan o no cuentan ? los médicos también descansan o no ? esto es tremendo',\n",
              " 'techno ... # yomequedoencasa # yobailoencasa # quédateencasa de migue_taska en URL URL',\n",
              " '¿ a la guardia civil le pagamos el sueldo los españoles o eduardo inda ? URL',\n",
              " 'las risas aseguradas',\n",
              " 'MENTION MENTION tenemos en el exterior el reconocimiento que la oposición no reconoce aquí , están perdiendo la ocasión de que salgamos juntod de la lucha contra esta epidemia salvaje . # ahoratocalucharjuntos',\n",
              " 'buenos días , querida audiencia ! ! ! acaban de echar al ministro de salud chileno . el soberbio q decía hace un mes , q todos los gobiernos lo felicitaban por su excelente labor . pd : al señor se le olvidó reportar NUM muertos por covid - NUM y cada semana cambiaba la metodología d trab .',\n",
              " 'MENTION MENTION ¿ por qué le dejas el virus a tus padres en casa y tienen todo el tiempo que continúe activo para tocarlo y contagiarse ? no lo sé , no soy médico , por eso no discuto vehementemente particularidades de un plan preparado por especialistas .',\n",
              " 'un mosaico circula en redes como hecho con fotos de “ todos ” los funcionarios de la salud fallecidos por # covidー NUM 🧐 pero en realidad el homenaje de una revista usó solo imágenes de los trabajadores mexicanos 🇲 🇽 # afp ➡ ️https :/ / t.co/5kqbdda2ip # datoscoronavirus URL',\n",
              " 'el colegio oficial de médicos de madrid ha afirmado este domingo que ya han muerto en españa NUM médicos por la covid - NUM , de los que NUM ejercían en atención primaria # coronavirus URL m',\n",
              " 'MENTION este es un pseudo análisis . vean a continuación el siguiente video que muestra la realidad en asia del covid - NUM . URL',\n",
              " 'ahora que algunas ccaa como madrid ya admiten públicamente que el sistema sanitario colapsó durante la pandemia estaría bien que el ministro respondiese a una sencilla pregunta : ¿ cuántos traslados de pacientes se produjeron desde ccaa colapsadas a otras ccaa que no lo estaban ?',\n",
              " 'gracias a MENTION y a MENTION por todo vuestro apoyo y solidaridad # contagiabuenhumor # cruzroja # covidー NUM URL k',\n",
              " \"ahora que el director del imss , zoé robledo , tiene covid - NUM , no deja la menor duda de que es un mentiroso , ladrón y traicionero . ¿ a ver con qué maroma nos salen el kk's y sus solovinos ?\",\n",
              " 'por favor , sed responsables . si el # virus repunta ahora , muchos sanitarios no podremos más . estamos al límite de nuestras fuerzas .',\n",
              " 'sinceramente lo de vizcarra es decepcionante , un presidente que más parece tener un programa de chismes y no se enfoca en la realidad del país , perú no está preparado para una pandemia así , claramente por negligencia de los presidentes que tenemos hace más de NUM años ..',\n",
              " 'el pp se suma a vox y no apoya el decreto que protege a las víctimas de violencia machista durante la epidemia URL',\n",
              " 'comunicación accesible en tiempos de # covid NUM .',\n",
              " '🔴 la # últimahora del coronavirus en zaragoza : dos toneladas de comida para el banco de alimentos URL',\n",
              " 'el cantante de taburete , willy bárcenas : “ ¡ ni una puta mascarilla ! ” . lo de saltarse la ley lo lleva en el adn URL',\n",
              " 'parta los fumadores anuncios con las consecuencias del tabaco , la muerte . para conductores anuncios con los cuerpos de los mutilados y fallecidos . para la covid , se invisibilidad de sus consecuencias lo que hace que muchos no sean conscientes de lo peligros de ser imprudentes . URL',\n",
              " 'el director de la prestigiosa the lancet . richard horton . “ el gobierno español era consciente de la gravedad de esta pandemia en enero y en febrero ” \" si hubieran confiando a finales de febrero , se habrían salvado la mayoría de las vidas \" URL MENTION _',\n",
              " 'espadas : “ sevilla tiene un colchón para hacer frente a la crisis del coronavirus \" URL vía MENTION',\n",
              " '. MENTION la guardia civil detiene en san roque a cuatro personas por saltarse el confinamiento URL vía MENTION',\n",
              " '31,000 médicos pidieron licencia con goce de haber aduciendo ser vulnerables desde que empezó la cuarentena , pero atienden en clinicas privadas a pacientes covid - NUM . pero , ciro maguiña y el cmp se indignan porque les digan que \" los médicos son ciudadanos como todo el resto \" . 🤦  \\u200d  ♂ ️ URL',\n",
              " 'que opinan ugt y ccoo del contagio de más de 5.000 sanitari MENTION que han hecho su trabajo sin el material de protección necesario ? 🙄 🤔',\n",
              " 'la fundación carlos slim donará equipo médico , equipo de protección para personal de salud e insumos de limpieza entre otras acciones por la contingencia del coronavirus . URL',\n",
              " 'fotos : temporeros , esenciales y olvidados URL desde los asentamientos chabolistas de huelva hasta la ciudad de lleida , donde los braceros duermen en la calle , un viaje a través de los lugares clave donde trabajan los jornaleros de la pandemia MENTION URL',\n",
              " '🔢 encuesta | más de 1.100 personas han decidido hoy que MENTION ponga la guinda al # 11históricouscf y sea el delantero centro . # yomequedoencasa URL',\n",
              " '1.150 trabajadores han sido afectados por el virus . no hubo muertos entre los sanitarios de este centro , pero no hay datos sobre cuántos fueron ingresados en planta o uci URL',\n",
              " 'MENTION MENTION el virus chino de wuhan , vino de un país comunista que ocultó información al mundo y cuando vino a españa , los comunistas españoles ocultaron información y llevamos ya 50,000 muertos .',\n",
              " 'pedro sánchez defiende que españa es el país europeo que da más datos sobre el covid - NUM . pero un repaso a las fuentes oficiales de otros gobiernos demuestra que no es así . miente , miente y no hace más que mentir . # sanchezveteya URL URL',\n",
              " 'la consejera de sanidad de la junta de castilla y león , verónica casado , rompe a llorar en plena comparecencia cuando recuerda los nombres de los sanitarios fallecidos durante la pandemia . imagen histórica . fuera colores e ideologías . todos luchamos por un mismo objetivo . URL',\n",
              " \"la falta de test de covid - NUM deja a cataluña sin 1.600 ' mossos ' en plena desescalada casi un NUM % del cuerpo policial está aislado en su domicilio a la espera de una prueba pcr para poder reincorporarse al trabajo URL\",\n",
              " 'mi marido lleva desde el pasado día NUM ingresado en el hospital de aranjuez por el maldito virus . hoy ha cumplido NUM años y el personal del hospital le ha hecho esto . no se quienes sois pero estoy profundamente agradecido ❤ ️ URL',\n",
              " 'de la cola del curro a la cola del banco de alimentos . los riders de glovo tienen que pagarse seguridad social , trabajan en plena pandemia sin seguridad y les han bajado tarifa base de 2,50 € a 1,20 € por reparto . no les llega ni para comer . esclavismo en pleno siglo xxi . URL',\n",
              " 'las recomendaciones de hoy contienen algunas joyas imprescindibles : - una de lubitsch - ¿ sabíais que antes que los vaqueros , los españoles ya habían conquistado el lejano oeste ? - un cómic de cuentos . - un disco de ritmos muy especiales . # quedateencasa # yomequedoencasa URL',\n",
              " '# estevirusloparamosunidos si : ❌ no difundimos # bulos ni # fakenews ✔ ️ consultamos siempre fuentes oficiales para mantenernos informados en nuestra web encontrarás i️ actualizada ➡ ️ URL 🚫 # stopbulos 🚫 # covid NUM URL',\n",
              " '# madrid # covid NUM la fuga de los besos URL',\n",
              " 'ésta científica es la experta del MENTION margarita del val . una de las inmunólogas más importante de nuestro país y líder en la coordinación de la respuesta de la comunidad científica a la # covid NUM',\n",
              " 'es gracioso porque si mis hijos cruzan la calle para ir al parque , se me cae el pelo . pero si NUM africanos cruzan la valla de melilla en plan \" guerra mundial z \" , los atendemos con amor y tolerancia . y tienen prioridad para usar un respirador antes que tus abuelos . besitos .',\n",
              " '1/2 el dr . manuel de la o cavazos , secretario de salud de nuevo león , presentó su conferencia rutinaria por el asunto del covid - NUM , y dictó cátedra sobre cómo hace las cosas un médico y servidor público verdaderamente responsable . nótese qué diferencia :',\n",
              " '¿ cómo se explica que estas personas que no están dentro de la categoría de las más vulnerables se enfermen gravemente o mueran por covid - NUM ? URL',\n",
              " 'ayuso dice que envió \" por error \" el protocolo que decía que no se derivase a hospitales a personas mayores con discapacidad . mientras la guardia civil fabrica informes a base de bulos para culpar al NUM m del covid NUM , el pp tomó decisiones que segaron vidas . URL',\n",
              " 'me da igual el motivo de tu manifestación . me pareces un irresponsable , que te importa cero la epidemia , la sanidad colapsada , los esfuerzos del personal sanitario , el sufrimiento de la gente afectada por la crisis y las consecuencias de tus acciones .',\n",
              " 'si rajoy se ha saltado el confinamiento deberá dar explicaciones y acatar la sanción que corresponda . punto . los voceros de la extrema izquierda que no se pongan tan estupendos , que no se mostraron tan indignados cuando iglesias se saltó hasta NUM veces la cuarentena .',\n",
              " 'mi solidaridad y deseos de una pronta recuperación para el primer ministro MENTION . son días difíciles para nuestros países , pero desde la fortaleza y unidad lograremos vencer esta batalla . un abrazo a todo el pueblo británico . # estevirusloparamosunidos # strongertogether',\n",
              " 'pillan a varios cargos del pp de sevilla en una discoteca haciendo el baile viral del ataúd durante la pandemia . entre ellos el presidente de nuevas generaciones , MENTION . ejemplares . URL',\n",
              " 'madre mía , ya han despertado los antivacunas . ahora que si bill gates nos quiere controlar a través de la vacuna del covid - NUM , que son los mismo que dicen que la tierra es plana , madre mía del señor como están , como puede haber tanta cabeza hueca',\n",
              " 'para investigar en medicamentos , diagnóstico y toma de decisiones en la pandemia causada por # covid ayuda al clínico san carlos . los investigadores de # somosclinico # idissc # investigamosparatí # donaidissc aquí 👇 👇 URL ... y pide tu certificado al donar ! URL',\n",
              " 'yo creo que deberían presentarle al premio nobel de medicina . teniendo en cuenta que el dr . simon vaticinó que en españa apenas habria unos cuantos casos de contagios , solo se ha equivocado en 45.000 muertos ( 28.300 reconocidos y 17.000 escondidos ) . un genio ! !',\n",
              " 'francisco igea , vicepresidente de castilla y león , acusa a la comunidad de madrid de hacer \" trampas al solitario \" con respecto a los datos manejados para pasar de fase en la desescalada del confinamiento URL URL',\n",
              " 'el gobierno español no sólo levanta el confinamiento de los trabajos no esenciales sino que además traspasa la responsabilidad de futuros contagios a las empresas y autónomos . cágate lorito ! ! ! mhp MENTION , sino contestan a sus peticiones pq no las ponen en práctica ?',\n",
              " 'MENTION MENTION MENTION MENTION MENTION el financial times señala que por la crisis del coronavirus en todos los países han dejado al lado las tensiones políticas excepto en españa , donde la oposición ataca duramente al gobierno',\n",
              " 'día NUM de confinamiento : estoy de cepa caída .',\n",
              " 'mientras los sanitarios se juegan la vida , la población sufre el confinamiento y miles de compatriotas fallecen ... el gobierno saca partido de la situación para implantar el comunismo en nuestro pais . # náuseabundo # chicasvox ®',\n",
              " '🎥 jorge javier vázquez : \" esta pandemia ha conseguido que pablo iglesias me parezca un excelente vicepresidente \" . vía MENTION URL',\n",
              " 'wadi rum , el desierto rojo de jordania # viajes # turismo # yomequedoencasa # perosigosoñandoconviajes URL URL',\n",
              " '¿ están conectados el # glifosato y covid - NUM ? el glifosato , uno de los químicos más tóxicos del mundo , puede ser la clave de por qué algunas personas se enferman gravemente por covid - NUM . una investigadora del # mit informa : URL',\n",
              " 'estoy entre los firmantes de un manifiesto . en el tweet de abajo está el link para leerlo y todos los firmantes . URL',\n",
              " 'españa es ya el país con más muertes diarias por coronavirus , por delante de italia ( nius ) URL',\n",
              " 'los niños necesitan salir para pasear , no para ir de compras . el gobierno está forzando a los padres a terminar el paseo en un supermercado , un espacio cerrado , donde hay mayor riesgo de contagio . es un error . confío en que rectifiquen .',\n",
              " 'a bordo de una ambulancia . seguimos a los sanitarios que están en primera línea frente al coronavirus . con MENTION ( vídeo ) y MENTION ( vídeo ) . URL',\n",
              " '# medicosporlaverdad # medicosenpeligro MENTION , desatienda a sus cerdos y atienda a los profesionales de la salud ! ! MENTION ud deje su \" quiosquito \" hable menos y hagan más ! !',\n",
              " 'concierto de clutch desde el estudio por la covid - NUM ( NUM / abril / NUM ) URL MENTION URL',\n",
              " '▶ ️ MENTION , director de MENTION , comenta en vídeo el texto inédito de MENTION con su \" plan para resucitar \" a la humanidad tras el # coronavirus URL # covid NUM # coronavirus # buenosdías # felizfinde # felizfindesemana # felizviernesatodos URL',\n",
              " 'primera demanda contra el govern por el coronavirus . el sindicato de médicos denuncia a salud por “ poner en riesgo ” a los profesionales URL',\n",
              " '🗣 ️ MENTION _ , economista y escritor , en MENTION 💉 \" me hice una analítica la semana pasada y me detectaron anticuerpos , por lo que he dado positivo en coronavirus \" 😱 \" los números de infectados que vemos debemos multiplicarlos por NUM \" # partidazocope URL',\n",
              " '📺 el ministro de interior está compareciendo hoy en el congreso . ha soltado una ristra de datos sobre reparto de epi ’ s frente al # covid NUM . dividamos cada cifra entre 170.000 efectivos y ... NUM mascarillas desechables por agente desde el inicio de la pandemia . ❌ no es suficiente URL',\n",
              " 'no parece que mucha gente se esté tomando en serio lo de salir un solo adulto , con mascarilla y nada de encuentros entre adultos . este comportamiento irresponsable lo que significará es que se retrasen el resto de medidas de desconfinamiento .',\n",
              " 'hoy a partir de las 20.00 en la plaza de callao , pedro sánchez estará repartiendo estudios de prestigiosas universidades internacionales que sitúan a españa como el país que mejor ha gestionado la pandemia y que califican a su persona como el presidente más atractivo del mundo .',\n",
              " 'asociaciones d vecinos han reclamado al ayuntamiento d madrid q no incluya a los negocios de apuestas como beneficiarios de bonificaciones del NUM % del ibi y del impuesto de actividades económicas dentro de las medidas para mitigar los efectos económicos del coronavirus',\n",
              " 'muy cierto . lo he comprobado con varias personas ... 👉 muchos trabajadores cobran menos paro del correcto en erte por covid - NUM y ni lo saben . URL via MENTION',\n",
              " 'impresionante : - la junta de castilla y león decreta luto por los muertos por coronavirus - el alcalde socialista de valladolid se niega a seguirlo - la policía municipal pone las banderas a media asta - el alcalde abre una investigación URL',\n",
              " 'llevamos un total de NUM consultas de ciudadanos para evitar que acudan a la urgencia ! mucho ánimo y recordad que seguimos aquí para intentar ayudaros con vuestras urgencias oculares # solidaridad # covid NUM # confinamiento # hgugm # oftalmologia # solidarity',\n",
              " ...]"
            ]
          },
          "metadata": {},
          "execution_count": 81
        }
      ]
    },
    {
      "cell_type": "code",
      "source": [
        "# se está utilizando un modelo pequeño de procesamiento de lenguaje natural para español para un proceso de lematizacion\n",
        "!python -m spacy download es_core_news_sm\n",
        "\n",
        "nlp = spacy.load('es_core_news_sm', disable=['parser', 'ner'])\n",
        "\n",
        "def lematizar_eliminacion_tokens(texto):\n",
        "    # Procesar el texto con el objeto nlp\n",
        "    doc = nlp(texto)\n",
        "\n",
        "    # Lematizar el texto\n",
        "    lemas = [token.lemma_ for token in doc]\n",
        "\n",
        "    # Eliminar símbolos de puntuación y stopwords\n",
        "    tokens_filtrados = [token for token in lemas if token.isalpha() and token.lower() not in es_stopwords]\n",
        "\n",
        "    # Unir los tokens filtrados en un nuevo texto\n",
        "    texto_procesado = ' '.join(tokens_filtrados)\n",
        "\n",
        "    return texto_procesado"
      ],
      "metadata": {
        "id": "ZGMw42iilpuu",
        "outputId": "ef997c21-521e-4e99-a333-5f4ddf66b321",
        "colab": {
          "base_uri": "https://localhost:8080/"
        }
      },
      "execution_count": 82,
      "outputs": [
        {
          "output_type": "stream",
          "name": "stdout",
          "text": [
            "Collecting es-core-news-sm==3.8.0\n",
            "  Downloading https://github.com/explosion/spacy-models/releases/download/es_core_news_sm-3.8.0/es_core_news_sm-3.8.0-py3-none-any.whl (12.9 MB)\n",
            "\u001b[2K     \u001b[90m━━━━━━━━━━━━━━━━━━━━━━━━━━━━━━━━━━━━━━━━\u001b[0m \u001b[32m12.9/12.9 MB\u001b[0m \u001b[31m16.7 MB/s\u001b[0m eta \u001b[36m0:00:00\u001b[0m\n",
            "\u001b[?25h\u001b[38;5;2m✔ Download and installation successful\u001b[0m\n",
            "You can now load the package via spacy.load('es_core_news_sm')\n",
            "\u001b[38;5;3m⚠ Restart to reload dependencies\u001b[0m\n",
            "If you are in a Jupyter or Colab notebook, you may need to restart Python in\n",
            "order to load all the package's dependencies. You can do this by selecting the\n",
            "'Restart kernel' or 'Restart runtime' option.\n"
          ]
        }
      ]
    },
    {
      "cell_type": "code",
      "source": [
        "dataset_train_df[\"preprocessed_text\"] = dataset_train_df[\"normalized\"].progress_apply(lambda x: lematizar_eliminacion_tokens(x))"
      ],
      "metadata": {
        "id": "CmHSbk62l7Lq",
        "outputId": "617c0bd9-4e76-45e3-d2ec-51f2311ac333",
        "colab": {
          "base_uri": "https://localhost:8080/"
        }
      },
      "execution_count": 83,
      "outputs": [
        {
          "output_type": "stream",
          "name": "stderr",
          "text": [
            "100%|██████████| 2786/2786 [00:40<00:00, 68.65it/s]\n"
          ]
        }
      ]
    },
    {
      "cell_type": "code",
      "source": [
        "txt_cat0 = \",\".join(dataset_train_df[dataset_train_df.label==0].preprocessed_text.to_list())\n",
        "txt_cat1 = \",\".join(dataset_train_df[dataset_train_df.label==1].preprocessed_text.to_list())\n",
        "\n",
        "# Label 0\n",
        "wordcloud.generate(txt_cat0)\n",
        "\n",
        "wordcloud.to_image()"
      ],
      "metadata": {
        "id": "RXToHLASnyUS",
        "outputId": "e78608e6-e92b-451f-af3d-6c0a6e0cb4fb",
        "colab": {
          "base_uri": "https://localhost:8080/",
          "height": 211
        }
      },
      "execution_count": 1,
      "outputs": [
        {
          "output_type": "error",
          "ename": "NameError",
          "evalue": "name 'dataset_train_df' is not defined",
          "traceback": [
            "\u001b[0;31m---------------------------------------------------------------------------\u001b[0m",
            "\u001b[0;31mNameError\u001b[0m                                 Traceback (most recent call last)",
            "\u001b[0;32m/tmp/ipython-input-1-1452175444.py\u001b[0m in \u001b[0;36m<cell line: 0>\u001b[0;34m()\u001b[0m\n\u001b[0;32m----> 1\u001b[0;31m \u001b[0mtxt_cat0\u001b[0m \u001b[0;34m=\u001b[0m \u001b[0;34m\",\"\u001b[0m\u001b[0;34m.\u001b[0m\u001b[0mjoin\u001b[0m\u001b[0;34m(\u001b[0m\u001b[0mdataset_train_df\u001b[0m\u001b[0;34m[\u001b[0m\u001b[0mdataset_train_df\u001b[0m\u001b[0;34m.\u001b[0m\u001b[0mlabel\u001b[0m\u001b[0;34m==\u001b[0m\u001b[0;36m0\u001b[0m\u001b[0;34m]\u001b[0m\u001b[0;34m.\u001b[0m\u001b[0mpreprocessed_text\u001b[0m\u001b[0;34m.\u001b[0m\u001b[0mto_list\u001b[0m\u001b[0;34m(\u001b[0m\u001b[0;34m)\u001b[0m\u001b[0;34m)\u001b[0m\u001b[0;34m\u001b[0m\u001b[0;34m\u001b[0m\u001b[0m\n\u001b[0m\u001b[1;32m      2\u001b[0m \u001b[0mtxt_cat1\u001b[0m \u001b[0;34m=\u001b[0m \u001b[0;34m\",\"\u001b[0m\u001b[0;34m.\u001b[0m\u001b[0mjoin\u001b[0m\u001b[0;34m(\u001b[0m\u001b[0mdataset_train_df\u001b[0m\u001b[0;34m[\u001b[0m\u001b[0mdataset_train_df\u001b[0m\u001b[0;34m.\u001b[0m\u001b[0mlabel\u001b[0m\u001b[0;34m==\u001b[0m\u001b[0;36m1\u001b[0m\u001b[0;34m]\u001b[0m\u001b[0;34m.\u001b[0m\u001b[0mpreprocessed_text\u001b[0m\u001b[0;34m.\u001b[0m\u001b[0mto_list\u001b[0m\u001b[0;34m(\u001b[0m\u001b[0;34m)\u001b[0m\u001b[0;34m)\u001b[0m\u001b[0;34m\u001b[0m\u001b[0;34m\u001b[0m\u001b[0m\n\u001b[1;32m      3\u001b[0m \u001b[0;34m\u001b[0m\u001b[0m\n\u001b[1;32m      4\u001b[0m \u001b[0;31m# Label 0\u001b[0m\u001b[0;34m\u001b[0m\u001b[0;34m\u001b[0m\u001b[0m\n\u001b[1;32m      5\u001b[0m \u001b[0mwordcloud\u001b[0m\u001b[0;34m.\u001b[0m\u001b[0mgenerate\u001b[0m\u001b[0;34m(\u001b[0m\u001b[0mtxt_cat0\u001b[0m\u001b[0;34m)\u001b[0m\u001b[0;34m\u001b[0m\u001b[0;34m\u001b[0m\u001b[0m\n",
            "\u001b[0;31mNameError\u001b[0m: name 'dataset_train_df' is not defined"
          ]
        }
      ]
    },
    {
      "cell_type": "code",
      "source": [
        "# Label 1\n",
        "wordcloud.generate(txt_cat1)\n",
        "\n",
        "wordcloud.to_image()"
      ],
      "metadata": {
        "id": "rLBdw28loCWb",
        "outputId": "f047161b-0f77-4753-a164-ee6daa8523bf",
        "colab": {
          "base_uri": "https://localhost:8080/",
          "height": 193
        }
      },
      "execution_count": 2,
      "outputs": [
        {
          "output_type": "error",
          "ename": "NameError",
          "evalue": "name 'wordcloud' is not defined",
          "traceback": [
            "\u001b[0;31m---------------------------------------------------------------------------\u001b[0m",
            "\u001b[0;31mNameError\u001b[0m                                 Traceback (most recent call last)",
            "\u001b[0;32m/tmp/ipython-input-2-4062229797.py\u001b[0m in \u001b[0;36m<cell line: 0>\u001b[0;34m()\u001b[0m\n\u001b[1;32m      1\u001b[0m \u001b[0;31m# Label 1\u001b[0m\u001b[0;34m\u001b[0m\u001b[0;34m\u001b[0m\u001b[0m\n\u001b[0;32m----> 2\u001b[0;31m \u001b[0mwordcloud\u001b[0m\u001b[0;34m.\u001b[0m\u001b[0mgenerate\u001b[0m\u001b[0;34m(\u001b[0m\u001b[0mtxt_cat1\u001b[0m\u001b[0;34m)\u001b[0m\u001b[0;34m\u001b[0m\u001b[0;34m\u001b[0m\u001b[0m\n\u001b[0m\u001b[1;32m      3\u001b[0m \u001b[0;34m\u001b[0m\u001b[0m\n\u001b[1;32m      4\u001b[0m \u001b[0mwordcloud\u001b[0m\u001b[0;34m.\u001b[0m\u001b[0mto_image\u001b[0m\u001b[0;34m(\u001b[0m\u001b[0;34m)\u001b[0m\u001b[0;34m\u001b[0m\u001b[0;34m\u001b[0m\u001b[0m\n",
            "\u001b[0;31mNameError\u001b[0m: name 'wordcloud' is not defined"
          ]
        }
      ]
    },
    {
      "cell_type": "markdown",
      "metadata": {
        "id": "5FZUV6mSIJO1"
      },
      "source": [
        "## Tokenización"
      ]
    },
    {
      "cell_type": "markdown",
      "source": [
        "El texto del dataset no está preparado para ser introducido en un modelo Transformers. Lleva a cabo el proceso de tokenización."
      ],
      "metadata": {
        "id": "61YNAqIAG3aq"
      }
    },
    {
      "cell_type": "code",
      "execution_count": 3,
      "metadata": {
        "id": "fGA4Rz7UIDUz",
        "outputId": "07efe080-5c97-4ec1-fc7a-97e83b8dbb8a",
        "colab": {
          "base_uri": "https://localhost:8080/",
          "height": 339
        }
      },
      "outputs": [
        {
          "output_type": "error",
          "ename": "KeyboardInterrupt",
          "evalue": "",
          "traceback": [
            "\u001b[0;31m---------------------------------------------------------------------------\u001b[0m",
            "\u001b[0;31mKeyboardInterrupt\u001b[0m                         Traceback (most recent call last)",
            "\u001b[0;32m/tmp/ipython-input-3-1171525383.py\u001b[0m in \u001b[0;36m<cell line: 0>\u001b[0;34m()\u001b[0m\n\u001b[1;32m      1\u001b[0m \u001b[0;31m# IMPORTS\u001b[0m\u001b[0;34m\u001b[0m\u001b[0;34m\u001b[0m\u001b[0m\n\u001b[0;32m----> 2\u001b[0;31m \u001b[0;32mfrom\u001b[0m \u001b[0mtransformers\u001b[0m \u001b[0;32mimport\u001b[0m \u001b[0mAutoTokenizer\u001b[0m\u001b[0;34m,\u001b[0m \u001b[0mAutoModel\u001b[0m\u001b[0;34m,\u001b[0m \u001b[0mAutoModelForSequenceClassification\u001b[0m\u001b[0;34m,\u001b[0m \u001b[0mTrainingArguments\u001b[0m\u001b[0;34m,\u001b[0m \u001b[0mTrainer\u001b[0m\u001b[0;34m,\u001b[0m \u001b[0mEarlyStoppingCallback\u001b[0m\u001b[0;34m\u001b[0m\u001b[0;34m\u001b[0m\u001b[0m\n\u001b[0m\u001b[1;32m      3\u001b[0m \u001b[0;32mfrom\u001b[0m \u001b[0mdatasets\u001b[0m \u001b[0;32mimport\u001b[0m \u001b[0mDataset\u001b[0m\u001b[0;34m\u001b[0m\u001b[0;34m\u001b[0m\u001b[0m\n\u001b[1;32m      4\u001b[0m \u001b[0;32mimport\u001b[0m \u001b[0mevaluate\u001b[0m\u001b[0;34m\u001b[0m\u001b[0;34m\u001b[0m\u001b[0m\n",
            "\u001b[0;32m/usr/local/lib/python3.11/dist-packages/transformers/__init__.py\u001b[0m in \u001b[0;36m<module>\u001b[0;34m\u001b[0m\n\u001b[1;32m     25\u001b[0m \u001b[0;34m\u001b[0m\u001b[0m\n\u001b[1;32m     26\u001b[0m \u001b[0;31m# Check the dependencies satisfy the minimal versions required.\u001b[0m\u001b[0;34m\u001b[0m\u001b[0;34m\u001b[0m\u001b[0m\n\u001b[0;32m---> 27\u001b[0;31m \u001b[0;32mfrom\u001b[0m \u001b[0;34m.\u001b[0m \u001b[0;32mimport\u001b[0m \u001b[0mdependency_versions_check\u001b[0m\u001b[0;34m\u001b[0m\u001b[0;34m\u001b[0m\u001b[0m\n\u001b[0m\u001b[1;32m     28\u001b[0m from .utils import (\n\u001b[1;32m     29\u001b[0m     \u001b[0mOptionalDependencyNotAvailable\u001b[0m\u001b[0;34m,\u001b[0m\u001b[0;34m\u001b[0m\u001b[0;34m\u001b[0m\u001b[0m\n",
            "\u001b[0;32m/usr/local/lib/python3.11/dist-packages/transformers/dependency_versions_check.py\u001b[0m in \u001b[0;36m<module>\u001b[0;34m\u001b[0m\n\u001b[1;32m     14\u001b[0m \u001b[0;34m\u001b[0m\u001b[0m\n\u001b[1;32m     15\u001b[0m \u001b[0;32mfrom\u001b[0m \u001b[0;34m.\u001b[0m\u001b[0mdependency_versions_table\u001b[0m \u001b[0;32mimport\u001b[0m \u001b[0mdeps\u001b[0m\u001b[0;34m\u001b[0m\u001b[0;34m\u001b[0m\u001b[0m\n\u001b[0;32m---> 16\u001b[0;31m \u001b[0;32mfrom\u001b[0m \u001b[0;34m.\u001b[0m\u001b[0mutils\u001b[0m\u001b[0;34m.\u001b[0m\u001b[0mversions\u001b[0m \u001b[0;32mimport\u001b[0m \u001b[0mrequire_version\u001b[0m\u001b[0;34m,\u001b[0m \u001b[0mrequire_version_core\u001b[0m\u001b[0;34m\u001b[0m\u001b[0;34m\u001b[0m\u001b[0m\n\u001b[0m\u001b[1;32m     17\u001b[0m \u001b[0;34m\u001b[0m\u001b[0m\n\u001b[1;32m     18\u001b[0m \u001b[0;34m\u001b[0m\u001b[0m\n",
            "\u001b[0;32m/usr/local/lib/python3.11/dist-packages/transformers/utils/__init__.py\u001b[0m in \u001b[0;36m<module>\u001b[0;34m\u001b[0m\n\u001b[1;32m     17\u001b[0m \u001b[0;32mfrom\u001b[0m \u001b[0mfunctools\u001b[0m \u001b[0;32mimport\u001b[0m \u001b[0mlru_cache\u001b[0m\u001b[0;34m\u001b[0m\u001b[0;34m\u001b[0m\u001b[0m\n\u001b[1;32m     18\u001b[0m \u001b[0;34m\u001b[0m\u001b[0m\n\u001b[0;32m---> 19\u001b[0;31m \u001b[0;32mfrom\u001b[0m \u001b[0mhuggingface_hub\u001b[0m \u001b[0;32mimport\u001b[0m \u001b[0mget_full_repo_name\u001b[0m  \u001b[0;31m# for backward compatibility\u001b[0m\u001b[0;34m\u001b[0m\u001b[0;34m\u001b[0m\u001b[0m\n\u001b[0m\u001b[1;32m     20\u001b[0m \u001b[0;32mfrom\u001b[0m \u001b[0mhuggingface_hub\u001b[0m\u001b[0;34m.\u001b[0m\u001b[0mconstants\u001b[0m \u001b[0;32mimport\u001b[0m \u001b[0mHF_HUB_DISABLE_TELEMETRY\u001b[0m \u001b[0;32mas\u001b[0m \u001b[0mDISABLE_TELEMETRY\u001b[0m  \u001b[0;31m# for backward compatibility\u001b[0m\u001b[0;34m\u001b[0m\u001b[0;34m\u001b[0m\u001b[0m\n\u001b[1;32m     21\u001b[0m \u001b[0;32mfrom\u001b[0m \u001b[0mpackaging\u001b[0m \u001b[0;32mimport\u001b[0m \u001b[0mversion\u001b[0m\u001b[0;34m\u001b[0m\u001b[0;34m\u001b[0m\u001b[0m\n",
            "\u001b[0;32m/usr/lib/python3.11/importlib/_bootstrap.py\u001b[0m in \u001b[0;36m_handle_fromlist\u001b[0;34m(module, fromlist, import_, recursive)\u001b[0m\n",
            "\u001b[0;32m/usr/local/lib/python3.11/dist-packages/huggingface_hub/__init__.py\u001b[0m in \u001b[0;36m__getattr__\u001b[0;34m(name)\u001b[0m\n\u001b[1;32m    996\u001b[0m             \u001b[0msubmod_path\u001b[0m \u001b[0;34m=\u001b[0m \u001b[0;34mf\"{package_name}.{attr_to_modules[name]}\"\u001b[0m\u001b[0;34m\u001b[0m\u001b[0;34m\u001b[0m\u001b[0m\n\u001b[1;32m    997\u001b[0m             \u001b[0;32mtry\u001b[0m\u001b[0;34m:\u001b[0m\u001b[0;34m\u001b[0m\u001b[0;34m\u001b[0m\u001b[0m\n\u001b[0;32m--> 998\u001b[0;31m                 \u001b[0msubmod\u001b[0m \u001b[0;34m=\u001b[0m \u001b[0mimportlib\u001b[0m\u001b[0;34m.\u001b[0m\u001b[0mimport_module\u001b[0m\u001b[0;34m(\u001b[0m\u001b[0msubmod_path\u001b[0m\u001b[0;34m)\u001b[0m\u001b[0;34m\u001b[0m\u001b[0;34m\u001b[0m\u001b[0m\n\u001b[0m\u001b[1;32m    999\u001b[0m             \u001b[0;32mexcept\u001b[0m \u001b[0mException\u001b[0m \u001b[0;32mas\u001b[0m \u001b[0me\u001b[0m\u001b[0;34m:\u001b[0m\u001b[0;34m\u001b[0m\u001b[0;34m\u001b[0m\u001b[0m\n\u001b[1;32m   1000\u001b[0m                 \u001b[0mprint\u001b[0m\u001b[0;34m(\u001b[0m\u001b[0;34mf\"Error importing {submod_path}: {e}\"\u001b[0m\u001b[0;34m)\u001b[0m\u001b[0;34m\u001b[0m\u001b[0;34m\u001b[0m\u001b[0m\n",
            "\u001b[0;32m/usr/lib/python3.11/importlib/__init__.py\u001b[0m in \u001b[0;36mimport_module\u001b[0;34m(name, package)\u001b[0m\n\u001b[1;32m    124\u001b[0m                 \u001b[0;32mbreak\u001b[0m\u001b[0;34m\u001b[0m\u001b[0;34m\u001b[0m\u001b[0m\n\u001b[1;32m    125\u001b[0m             \u001b[0mlevel\u001b[0m \u001b[0;34m+=\u001b[0m \u001b[0;36m1\u001b[0m\u001b[0;34m\u001b[0m\u001b[0;34m\u001b[0m\u001b[0m\n\u001b[0;32m--> 126\u001b[0;31m     \u001b[0;32mreturn\u001b[0m \u001b[0m_bootstrap\u001b[0m\u001b[0;34m.\u001b[0m\u001b[0m_gcd_import\u001b[0m\u001b[0;34m(\u001b[0m\u001b[0mname\u001b[0m\u001b[0;34m[\u001b[0m\u001b[0mlevel\u001b[0m\u001b[0;34m:\u001b[0m\u001b[0;34m]\u001b[0m\u001b[0;34m,\u001b[0m \u001b[0mpackage\u001b[0m\u001b[0;34m,\u001b[0m \u001b[0mlevel\u001b[0m\u001b[0;34m)\u001b[0m\u001b[0;34m\u001b[0m\u001b[0;34m\u001b[0m\u001b[0m\n\u001b[0m\u001b[1;32m    127\u001b[0m \u001b[0;34m\u001b[0m\u001b[0m\n\u001b[1;32m    128\u001b[0m \u001b[0;34m\u001b[0m\u001b[0m\n",
            "\u001b[0;32m/usr/local/lib/python3.11/dist-packages/huggingface_hub/hf_api.py\u001b[0m in \u001b[0;36m<module>\u001b[0;34m\u001b[0m\n\u001b[1;32m     49\u001b[0m \u001b[0;32mimport\u001b[0m \u001b[0mrequests\u001b[0m\u001b[0;34m\u001b[0m\u001b[0;34m\u001b[0m\u001b[0m\n\u001b[1;32m     50\u001b[0m \u001b[0;32mfrom\u001b[0m \u001b[0mrequests\u001b[0m\u001b[0;34m.\u001b[0m\u001b[0mexceptions\u001b[0m \u001b[0;32mimport\u001b[0m \u001b[0mHTTPError\u001b[0m\u001b[0;34m\u001b[0m\u001b[0;34m\u001b[0m\u001b[0m\n\u001b[0;32m---> 51\u001b[0;31m \u001b[0;32mfrom\u001b[0m \u001b[0mtqdm\u001b[0m\u001b[0;34m.\u001b[0m\u001b[0mauto\u001b[0m \u001b[0;32mimport\u001b[0m \u001b[0mtqdm\u001b[0m \u001b[0;32mas\u001b[0m \u001b[0mbase_tqdm\u001b[0m\u001b[0;34m\u001b[0m\u001b[0;34m\u001b[0m\u001b[0m\n\u001b[0m\u001b[1;32m     52\u001b[0m \u001b[0;32mfrom\u001b[0m \u001b[0mtqdm\u001b[0m\u001b[0;34m.\u001b[0m\u001b[0mcontrib\u001b[0m\u001b[0;34m.\u001b[0m\u001b[0mconcurrent\u001b[0m \u001b[0;32mimport\u001b[0m \u001b[0mthread_map\u001b[0m\u001b[0;34m\u001b[0m\u001b[0;34m\u001b[0m\u001b[0m\n\u001b[1;32m     53\u001b[0m \u001b[0;34m\u001b[0m\u001b[0m\n",
            "\u001b[0;32m/usr/local/lib/python3.11/dist-packages/tqdm/auto.py\u001b[0m in \u001b[0;36m<module>\u001b[0;34m\u001b[0m\n\u001b[1;32m     19\u001b[0m \u001b[0;32mwith\u001b[0m \u001b[0mwarnings\u001b[0m\u001b[0;34m.\u001b[0m\u001b[0mcatch_warnings\u001b[0m\u001b[0;34m(\u001b[0m\u001b[0;34m)\u001b[0m\u001b[0;34m:\u001b[0m\u001b[0;34m\u001b[0m\u001b[0;34m\u001b[0m\u001b[0m\n\u001b[1;32m     20\u001b[0m     \u001b[0mwarnings\u001b[0m\u001b[0;34m.\u001b[0m\u001b[0msimplefilter\u001b[0m\u001b[0;34m(\u001b[0m\u001b[0;34m\"ignore\"\u001b[0m\u001b[0;34m,\u001b[0m \u001b[0mcategory\u001b[0m\u001b[0;34m=\u001b[0m\u001b[0mTqdmExperimentalWarning\u001b[0m\u001b[0;34m)\u001b[0m\u001b[0;34m\u001b[0m\u001b[0;34m\u001b[0m\u001b[0m\n\u001b[0;32m---> 21\u001b[0;31m     \u001b[0;32mfrom\u001b[0m \u001b[0;34m.\u001b[0m\u001b[0mautonotebook\u001b[0m \u001b[0;32mimport\u001b[0m \u001b[0mtqdm\u001b[0m \u001b[0;32mas\u001b[0m \u001b[0mnotebook_tqdm\u001b[0m\u001b[0;34m\u001b[0m\u001b[0;34m\u001b[0m\u001b[0m\n\u001b[0m\u001b[1;32m     22\u001b[0m \u001b[0;34m\u001b[0m\u001b[0m\n\u001b[1;32m     23\u001b[0m \u001b[0;32mfrom\u001b[0m \u001b[0;34m.\u001b[0m\u001b[0masyncio\u001b[0m \u001b[0;32mimport\u001b[0m \u001b[0mtqdm\u001b[0m \u001b[0;32mas\u001b[0m \u001b[0masyncio_tqdm\u001b[0m\u001b[0;34m\u001b[0m\u001b[0;34m\u001b[0m\u001b[0m\n",
            "\u001b[0;32m/usr/local/lib/python3.11/dist-packages/tqdm/autonotebook.py\u001b[0m in \u001b[0;36m<module>\u001b[0;34m\u001b[0m\n\u001b[1;32m     14\u001b[0m     \u001b[0;32mif\u001b[0m \u001b[0;34m'IPKernelApp'\u001b[0m \u001b[0;32mnot\u001b[0m \u001b[0;32min\u001b[0m \u001b[0mget_ipython\u001b[0m\u001b[0;34m(\u001b[0m\u001b[0;34m)\u001b[0m\u001b[0;34m.\u001b[0m\u001b[0mconfig\u001b[0m\u001b[0;34m:\u001b[0m  \u001b[0;31m# pragma: no cover\u001b[0m\u001b[0;34m\u001b[0m\u001b[0;34m\u001b[0m\u001b[0m\n\u001b[1;32m     15\u001b[0m         \u001b[0;32mraise\u001b[0m \u001b[0mImportError\u001b[0m\u001b[0;34m(\u001b[0m\u001b[0;34m\"console\"\u001b[0m\u001b[0;34m)\u001b[0m\u001b[0;34m\u001b[0m\u001b[0;34m\u001b[0m\u001b[0m\n\u001b[0;32m---> 16\u001b[0;31m     \u001b[0;32mfrom\u001b[0m \u001b[0;34m.\u001b[0m\u001b[0mnotebook\u001b[0m \u001b[0;32mimport\u001b[0m \u001b[0mWARN_NOIPYW\u001b[0m\u001b[0;34m,\u001b[0m \u001b[0mIProgress\u001b[0m\u001b[0;34m\u001b[0m\u001b[0;34m\u001b[0m\u001b[0m\n\u001b[0m\u001b[1;32m     17\u001b[0m     \u001b[0;32mif\u001b[0m \u001b[0mIProgress\u001b[0m \u001b[0;32mis\u001b[0m \u001b[0;32mNone\u001b[0m\u001b[0;34m:\u001b[0m\u001b[0;34m\u001b[0m\u001b[0;34m\u001b[0m\u001b[0m\n\u001b[1;32m     18\u001b[0m         \u001b[0;32mfrom\u001b[0m \u001b[0;34m.\u001b[0m\u001b[0mstd\u001b[0m \u001b[0;32mimport\u001b[0m \u001b[0mTqdmWarning\u001b[0m\u001b[0;34m\u001b[0m\u001b[0;34m\u001b[0m\u001b[0m\n",
            "\u001b[0;32m/usr/local/lib/python3.11/dist-packages/tqdm/notebook.py\u001b[0m in \u001b[0;36m<module>\u001b[0;34m\u001b[0m\n\u001b[1;32m     21\u001b[0m     \u001b[0mIPY\u001b[0m \u001b[0;34m=\u001b[0m \u001b[0;36m0\u001b[0m\u001b[0;34m\u001b[0m\u001b[0;34m\u001b[0m\u001b[0m\n\u001b[1;32m     22\u001b[0m     \u001b[0;32mtry\u001b[0m\u001b[0;34m:\u001b[0m  \u001b[0;31m# IPython 4.x\u001b[0m\u001b[0;34m\u001b[0m\u001b[0;34m\u001b[0m\u001b[0m\n\u001b[0;32m---> 23\u001b[0;31m         \u001b[0;32mimport\u001b[0m \u001b[0mipywidgets\u001b[0m\u001b[0;34m\u001b[0m\u001b[0;34m\u001b[0m\u001b[0m\n\u001b[0m\u001b[1;32m     24\u001b[0m         \u001b[0mIPY\u001b[0m \u001b[0;34m=\u001b[0m \u001b[0;36m4\u001b[0m\u001b[0;34m\u001b[0m\u001b[0;34m\u001b[0m\u001b[0m\n\u001b[1;32m     25\u001b[0m     \u001b[0;32mexcept\u001b[0m \u001b[0mImportError\u001b[0m\u001b[0;34m:\u001b[0m  \u001b[0;31m# IPython 3.x / 2.x\u001b[0m\u001b[0;34m\u001b[0m\u001b[0;34m\u001b[0m\u001b[0m\n",
            "\u001b[0;32m/usr/local/lib/python3.11/dist-packages/ipywidgets/__init__.py\u001b[0m in \u001b[0;36m<module>\u001b[0;34m\u001b[0m\n\u001b[1;32m     23\u001b[0m \u001b[0;32mfrom\u001b[0m \u001b[0mIPython\u001b[0m \u001b[0;32mimport\u001b[0m \u001b[0mget_ipython\u001b[0m\u001b[0;34m\u001b[0m\u001b[0;34m\u001b[0m\u001b[0m\n\u001b[1;32m     24\u001b[0m \u001b[0;32mfrom\u001b[0m \u001b[0;34m.\u001b[0m\u001b[0m_version\u001b[0m \u001b[0;32mimport\u001b[0m \u001b[0mversion_info\u001b[0m\u001b[0;34m,\u001b[0m \u001b[0m__version__\u001b[0m\u001b[0;34m,\u001b[0m \u001b[0m__protocol_version__\u001b[0m\u001b[0;34m,\u001b[0m \u001b[0m__jupyter_widgets_controls_version__\u001b[0m\u001b[0;34m,\u001b[0m \u001b[0m__jupyter_widgets_base_version__\u001b[0m\u001b[0;34m\u001b[0m\u001b[0;34m\u001b[0m\u001b[0m\n\u001b[0;32m---> 25\u001b[0;31m \u001b[0;32mfrom\u001b[0m \u001b[0;34m.\u001b[0m\u001b[0mwidgets\u001b[0m \u001b[0;32mimport\u001b[0m \u001b[0;34m*\u001b[0m\u001b[0;34m\u001b[0m\u001b[0;34m\u001b[0m\u001b[0m\n\u001b[0m\u001b[1;32m     26\u001b[0m \u001b[0;32mfrom\u001b[0m \u001b[0mtraitlets\u001b[0m \u001b[0;32mimport\u001b[0m \u001b[0mlink\u001b[0m\u001b[0;34m,\u001b[0m \u001b[0mdlink\u001b[0m\u001b[0;34m\u001b[0m\u001b[0;34m\u001b[0m\u001b[0m\n\u001b[1;32m     27\u001b[0m \u001b[0;34m\u001b[0m\u001b[0m\n",
            "\u001b[0;32m/usr/local/lib/python3.11/dist-packages/ipywidgets/widgets/__init__.py\u001b[0m in \u001b[0;36m<module>\u001b[0;34m\u001b[0m\n\u001b[1;32m     10\u001b[0m \u001b[0;32mfrom\u001b[0m \u001b[0;34m.\u001b[0m\u001b[0mwidget_core\u001b[0m \u001b[0;32mimport\u001b[0m \u001b[0mCoreWidget\u001b[0m\u001b[0;34m\u001b[0m\u001b[0;34m\u001b[0m\u001b[0m\n\u001b[1;32m     11\u001b[0m \u001b[0;32mfrom\u001b[0m \u001b[0;34m.\u001b[0m\u001b[0mwidget_bool\u001b[0m \u001b[0;32mimport\u001b[0m \u001b[0mCheckbox\u001b[0m\u001b[0;34m,\u001b[0m \u001b[0mToggleButton\u001b[0m\u001b[0;34m,\u001b[0m \u001b[0mValid\u001b[0m\u001b[0;34m\u001b[0m\u001b[0;34m\u001b[0m\u001b[0m\n\u001b[0;32m---> 12\u001b[0;31m \u001b[0;32mfrom\u001b[0m \u001b[0;34m.\u001b[0m\u001b[0mwidget_button\u001b[0m \u001b[0;32mimport\u001b[0m \u001b[0mButton\u001b[0m\u001b[0;34m,\u001b[0m \u001b[0mButtonStyle\u001b[0m\u001b[0;34m\u001b[0m\u001b[0;34m\u001b[0m\u001b[0m\n\u001b[0m\u001b[1;32m     13\u001b[0m \u001b[0;32mfrom\u001b[0m \u001b[0;34m.\u001b[0m\u001b[0mwidget_box\u001b[0m \u001b[0;32mimport\u001b[0m \u001b[0mBox\u001b[0m\u001b[0;34m,\u001b[0m \u001b[0mHBox\u001b[0m\u001b[0;34m,\u001b[0m \u001b[0mVBox\u001b[0m\u001b[0;34m,\u001b[0m \u001b[0mGridBox\u001b[0m\u001b[0;34m\u001b[0m\u001b[0;34m\u001b[0m\u001b[0m\n\u001b[1;32m     14\u001b[0m \u001b[0;32mfrom\u001b[0m \u001b[0;34m.\u001b[0m\u001b[0mwidget_float\u001b[0m \u001b[0;32mimport\u001b[0m \u001b[0mFloatText\u001b[0m\u001b[0;34m,\u001b[0m \u001b[0mBoundedFloatText\u001b[0m\u001b[0;34m,\u001b[0m \u001b[0mFloatSlider\u001b[0m\u001b[0;34m,\u001b[0m \u001b[0mFloatProgress\u001b[0m\u001b[0;34m,\u001b[0m \u001b[0mFloatRangeSlider\u001b[0m\u001b[0;34m,\u001b[0m \u001b[0mFloatLogSlider\u001b[0m\u001b[0;34m\u001b[0m\u001b[0;34m\u001b[0m\u001b[0m\n",
            "\u001b[0;31mKeyboardInterrupt\u001b[0m: "
          ]
        }
      ],
      "source": [
        "# IMPORTS\n",
        "from transformers import AutoTokenizer, AutoModel, AutoModelForSequenceClassification, TrainingArguments, Trainer, EarlyStoppingCallback\n",
        "from datasets import Dataset\n",
        "import evaluate"
      ]
    },
    {
      "cell_type": "markdown",
      "source": [
        "Selecciona un modelo apropiado para la tarea:"
      ],
      "metadata": {
        "id": "kGZStD5MHBuS"
      }
    },
    {
      "cell_type": "markdown",
      "source": [
        "> Recuerda que en la siguiente celda sólo debes asignar un valor a model_name. No añadas más información en la celda."
      ],
      "metadata": {
        "id": "famSsepTHJPx"
      }
    },
    {
      "cell_type": "markdown",
      "source": [
        "He decidido escoger este modelo porque estoy trabajando con tweets en español y en especifico el modelo ha sido entrenado con datos laborales, que se acerca mucho al objetivo de la tarea.\n",
        "\n",
        "He decidido escoger este modelo porque es una versión de BERT entrenada específicamente para español, y es una de las más recomendadas para tareas de NLP en ese idioma"
      ],
      "metadata": {
        "id": "_enNxF6gY7Or"
      }
    },
    {
      "cell_type": "code",
      "execution_count": 4,
      "metadata": {
        "id": "svQiqzz_Lywz"
      },
      "outputs": [],
      "source": [
        "#NO-MODIFY: VARIABLE NAME\n",
        "model_name = 'dccuchile/bert-base-spanish-wwm-cased'"
      ]
    },
    {
      "cell_type": "markdown",
      "source": [
        "Puedes continuar con el proceso aquí:"
      ],
      "metadata": {
        "id": "lMivggEnHQqY"
      }
    },
    {
      "cell_type": "code",
      "source": [
        "# Carga tokenizer\n",
        "tokenizer = AutoTokenizer.from_pretrained(model_name)\n",
        "\n",
        "train_dataset = Dataset.from_pandas(dataset_train_df)\n",
        "val_dataset = Dataset.from_pandas(dataset_val_df)\n",
        "test_dataset = Dataset.from_pandas(dataset_test_df)\n",
        "\n",
        "# Tokeniza\n",
        "def preprocess_function(examples):\n",
        "    # Tokenizar el texto\n",
        "    return tokenizer(examples['text'], padding=\"max_length\", truncation=True)"
      ],
      "metadata": {
        "id": "v6CH_9QpW6IO",
        "outputId": "63a827c1-fd68-4bb9-8346-4b5fe4395f7a",
        "colab": {
          "base_uri": "https://localhost:8080/",
          "height": 211
        }
      },
      "execution_count": 5,
      "outputs": [
        {
          "output_type": "error",
          "ename": "NameError",
          "evalue": "name 'AutoTokenizer' is not defined",
          "traceback": [
            "\u001b[0;31m---------------------------------------------------------------------------\u001b[0m",
            "\u001b[0;31mNameError\u001b[0m                                 Traceback (most recent call last)",
            "\u001b[0;32m/tmp/ipython-input-5-2479181695.py\u001b[0m in \u001b[0;36m<cell line: 0>\u001b[0;34m()\u001b[0m\n\u001b[1;32m      1\u001b[0m \u001b[0;31m# Carga tokenizer\u001b[0m\u001b[0;34m\u001b[0m\u001b[0;34m\u001b[0m\u001b[0m\n\u001b[0;32m----> 2\u001b[0;31m \u001b[0mtokenizer\u001b[0m \u001b[0;34m=\u001b[0m \u001b[0mAutoTokenizer\u001b[0m\u001b[0;34m.\u001b[0m\u001b[0mfrom_pretrained\u001b[0m\u001b[0;34m(\u001b[0m\u001b[0mmodel_name\u001b[0m\u001b[0;34m)\u001b[0m\u001b[0;34m\u001b[0m\u001b[0;34m\u001b[0m\u001b[0m\n\u001b[0m\u001b[1;32m      3\u001b[0m \u001b[0;34m\u001b[0m\u001b[0m\n\u001b[1;32m      4\u001b[0m \u001b[0mtrain_dataset\u001b[0m \u001b[0;34m=\u001b[0m \u001b[0mDataset\u001b[0m\u001b[0;34m.\u001b[0m\u001b[0mfrom_pandas\u001b[0m\u001b[0;34m(\u001b[0m\u001b[0mdataset_train_df\u001b[0m\u001b[0;34m)\u001b[0m\u001b[0;34m\u001b[0m\u001b[0;34m\u001b[0m\u001b[0m\n\u001b[1;32m      5\u001b[0m \u001b[0mval_dataset\u001b[0m \u001b[0;34m=\u001b[0m \u001b[0mDataset\u001b[0m\u001b[0;34m.\u001b[0m\u001b[0mfrom_pandas\u001b[0m\u001b[0;34m(\u001b[0m\u001b[0mdataset_val_df\u001b[0m\u001b[0;34m)\u001b[0m\u001b[0;34m\u001b[0m\u001b[0;34m\u001b[0m\u001b[0m\n",
            "\u001b[0;31mNameError\u001b[0m: name 'AutoTokenizer' is not defined"
          ]
        }
      ]
    },
    {
      "cell_type": "code",
      "source": [
        "train_dataset = train_dataset.map(preprocess_function, batched=True)\n",
        "val_dataset = val_dataset.map(preprocess_function, batched=True)\n",
        "test_dataset = test_dataset.map(preprocess_function, batched=True)"
      ],
      "metadata": {
        "id": "7rZrTVJXWFXR",
        "outputId": "cc4bf34c-2d8b-45dd-8a47-8f79fa736aa6",
        "colab": {
          "base_uri": "https://localhost:8080/",
          "height": 176
        }
      },
      "execution_count": 6,
      "outputs": [
        {
          "output_type": "error",
          "ename": "NameError",
          "evalue": "name 'train_dataset' is not defined",
          "traceback": [
            "\u001b[0;31m---------------------------------------------------------------------------\u001b[0m",
            "\u001b[0;31mNameError\u001b[0m                                 Traceback (most recent call last)",
            "\u001b[0;32m/tmp/ipython-input-6-2254035265.py\u001b[0m in \u001b[0;36m<cell line: 0>\u001b[0;34m()\u001b[0m\n\u001b[0;32m----> 1\u001b[0;31m \u001b[0mtrain_dataset\u001b[0m \u001b[0;34m=\u001b[0m \u001b[0mtrain_dataset\u001b[0m\u001b[0;34m.\u001b[0m\u001b[0mmap\u001b[0m\u001b[0;34m(\u001b[0m\u001b[0mpreprocess_function\u001b[0m\u001b[0;34m,\u001b[0m \u001b[0mbatched\u001b[0m\u001b[0;34m=\u001b[0m\u001b[0;32mTrue\u001b[0m\u001b[0;34m)\u001b[0m\u001b[0;34m\u001b[0m\u001b[0;34m\u001b[0m\u001b[0m\n\u001b[0m\u001b[1;32m      2\u001b[0m \u001b[0mval_dataset\u001b[0m \u001b[0;34m=\u001b[0m \u001b[0mval_dataset\u001b[0m\u001b[0;34m.\u001b[0m\u001b[0mmap\u001b[0m\u001b[0;34m(\u001b[0m\u001b[0mpreprocess_function\u001b[0m\u001b[0;34m,\u001b[0m \u001b[0mbatched\u001b[0m\u001b[0;34m=\u001b[0m\u001b[0;32mTrue\u001b[0m\u001b[0;34m)\u001b[0m\u001b[0;34m\u001b[0m\u001b[0;34m\u001b[0m\u001b[0m\n\u001b[1;32m      3\u001b[0m \u001b[0mtest_dataset\u001b[0m \u001b[0;34m=\u001b[0m \u001b[0mtest_dataset\u001b[0m\u001b[0;34m.\u001b[0m\u001b[0mmap\u001b[0m\u001b[0;34m(\u001b[0m\u001b[0mpreprocess_function\u001b[0m\u001b[0;34m,\u001b[0m \u001b[0mbatched\u001b[0m\u001b[0;34m=\u001b[0m\u001b[0;32mTrue\u001b[0m\u001b[0;34m)\u001b[0m\u001b[0;34m\u001b[0m\u001b[0;34m\u001b[0m\u001b[0m\n",
            "\u001b[0;31mNameError\u001b[0m: name 'train_dataset' is not defined"
          ]
        }
      ]
    },
    {
      "cell_type": "markdown",
      "metadata": {
        "id": "AUel8a-FN0nB"
      },
      "source": [
        "## Fine-tuning"
      ]
    },
    {
      "cell_type": "markdown",
      "source": [
        "Carga el model para ser ajustado posteriormente:\n",
        "\n"
      ],
      "metadata": {
        "id": "cOb2YTABXDv5"
      }
    },
    {
      "cell_type": "code",
      "source": [
        "id2label = {0: \"NO_Profesion\", 1: \"Profesion\"}\n",
        "label2id = {\"NO_Profesion\": 0, \"Profesion\": 1}\n",
        "\n",
        "model = AutoModelForSequenceClassification.from_pretrained(model_name, num_labels=2, id2label=id2label, label2id=label2id)"
      ],
      "metadata": {
        "id": "IzfR_vm5XHOz",
        "outputId": "2f715e91-3530-47ff-cfd0-c6ecd998d698",
        "colab": {
          "base_uri": "https://localhost:8080/",
          "height": 176
        }
      },
      "execution_count": 7,
      "outputs": [
        {
          "output_type": "error",
          "ename": "NameError",
          "evalue": "name 'AutoModelForSequenceClassification' is not defined",
          "traceback": [
            "\u001b[0;31m---------------------------------------------------------------------------\u001b[0m",
            "\u001b[0;31mNameError\u001b[0m                                 Traceback (most recent call last)",
            "\u001b[0;32m/tmp/ipython-input-7-2339588892.py\u001b[0m in \u001b[0;36m<cell line: 0>\u001b[0;34m()\u001b[0m\n\u001b[1;32m      2\u001b[0m \u001b[0mlabel2id\u001b[0m \u001b[0;34m=\u001b[0m \u001b[0;34m{\u001b[0m\u001b[0;34m\"NO_Profesion\"\u001b[0m\u001b[0;34m:\u001b[0m \u001b[0;36m0\u001b[0m\u001b[0;34m,\u001b[0m \u001b[0;34m\"Profesion\"\u001b[0m\u001b[0;34m:\u001b[0m \u001b[0;36m1\u001b[0m\u001b[0;34m}\u001b[0m\u001b[0;34m\u001b[0m\u001b[0;34m\u001b[0m\u001b[0m\n\u001b[1;32m      3\u001b[0m \u001b[0;34m\u001b[0m\u001b[0m\n\u001b[0;32m----> 4\u001b[0;31m \u001b[0mmodel\u001b[0m \u001b[0;34m=\u001b[0m \u001b[0mAutoModelForSequenceClassification\u001b[0m\u001b[0;34m.\u001b[0m\u001b[0mfrom_pretrained\u001b[0m\u001b[0;34m(\u001b[0m\u001b[0mmodel_name\u001b[0m\u001b[0;34m,\u001b[0m \u001b[0mnum_labels\u001b[0m\u001b[0;34m=\u001b[0m\u001b[0;36m2\u001b[0m\u001b[0;34m,\u001b[0m \u001b[0mid2label\u001b[0m\u001b[0;34m=\u001b[0m\u001b[0mid2label\u001b[0m\u001b[0;34m,\u001b[0m \u001b[0mlabel2id\u001b[0m\u001b[0;34m=\u001b[0m\u001b[0mlabel2id\u001b[0m\u001b[0;34m)\u001b[0m\u001b[0;34m\u001b[0m\u001b[0;34m\u001b[0m\u001b[0m\n\u001b[0m",
            "\u001b[0;31mNameError\u001b[0m: name 'AutoModelForSequenceClassification' is not defined"
          ]
        }
      ]
    },
    {
      "cell_type": "markdown",
      "metadata": {
        "id": "KeUuTSJpN9pN"
      },
      "source": [
        "### Configuracion training_args"
      ]
    },
    {
      "cell_type": "markdown",
      "source": [
        "Configura los parámetros de entrenamiento del modelo.\n",
        "\n",
        "\n",
        ">"
      ],
      "metadata": {
        "id": "0Iy9mSLIIkju"
      }
    },
    {
      "cell_type": "markdown",
      "source": [
        "> Recuerda que en la siguiente celda sólo debes asignar atributos a la variable training_args. No añadas  otras variables en la celda"
      ],
      "metadata": {
        "id": "ucWL18iUIqme"
      }
    },
    {
      "cell_type": "code",
      "execution_count": 8,
      "metadata": {
        "id": "mexUYxXoN9v7",
        "outputId": "92d04b72-b4ff-494b-be53-93c5d48ecf88",
        "colab": {
          "base_uri": "https://localhost:8080/",
          "height": 211
        }
      },
      "outputs": [
        {
          "output_type": "error",
          "ename": "NameError",
          "evalue": "name 'TrainingArguments' is not defined",
          "traceback": [
            "\u001b[0;31m---------------------------------------------------------------------------\u001b[0m",
            "\u001b[0;31mNameError\u001b[0m                                 Traceback (most recent call last)",
            "\u001b[0;32m/tmp/ipython-input-8-2980584699.py\u001b[0m in \u001b[0;36m<cell line: 0>\u001b[0;34m()\u001b[0m\n\u001b[1;32m      1\u001b[0m \u001b[0;31m#NO-MODIFY: VARIABLE NAME\u001b[0m\u001b[0;34m\u001b[0m\u001b[0;34m\u001b[0m\u001b[0m\n\u001b[0;32m----> 2\u001b[0;31m training_args = TrainingArguments(\n\u001b[0m\u001b[1;32m      3\u001b[0m     \u001b[0moutput_dir\u001b[0m\u001b[0;34m=\u001b[0m\u001b[0;34m\"modelo_test\"\u001b[0m\u001b[0;34m,\u001b[0m\u001b[0;34m\u001b[0m\u001b[0;34m\u001b[0m\u001b[0m\n\u001b[1;32m      4\u001b[0m     \u001b[0mlearning_rate\u001b[0m\u001b[0;34m=\u001b[0m\u001b[0;36m2e-5\u001b[0m\u001b[0;34m,\u001b[0m\u001b[0;34m\u001b[0m\u001b[0;34m\u001b[0m\u001b[0m\n\u001b[1;32m      5\u001b[0m     \u001b[0mper_device_train_batch_size\u001b[0m\u001b[0;34m=\u001b[0m\u001b[0;36m8\u001b[0m\u001b[0;34m,\u001b[0m\u001b[0;34m\u001b[0m\u001b[0;34m\u001b[0m\u001b[0m\n",
            "\u001b[0;31mNameError\u001b[0m: name 'TrainingArguments' is not defined"
          ]
        }
      ],
      "source": [
        "#NO-MODIFY: VARIABLE NAME\n",
        "training_args = TrainingArguments(\n",
        "    output_dir=\"modelo_test\",\n",
        "    learning_rate=2e-5,\n",
        "    per_device_train_batch_size=8,\n",
        "    per_device_eval_batch_size=8,\n",
        "    num_train_epochs=4,\n",
        "    weight_decay=0.1,\n",
        "    eval_strategy=\"steps\",\n",
        "    save_strategy=\"steps\",\n",
        "    eval_steps=50,\n",
        "    logging_strategy=\"steps\",\n",
        "    logging_steps=50,\n",
        "    load_best_model_at_end=True,\n",
        "    push_to_hub=False,\n",
        "    report_to=\"none\"\n",
        ")\n"
      ]
    },
    {
      "cell_type": "markdown",
      "metadata": {
        "id": "4LosxnaBOIto"
      },
      "source": [
        "### Métricas de evaluación"
      ]
    },
    {
      "cell_type": "markdown",
      "source": [
        "Define las métricas de evaluación"
      ],
      "metadata": {
        "id": "Xkg3xIBBIzdT"
      }
    },
    {
      "cell_type": "code",
      "execution_count": 9,
      "metadata": {
        "id": "99-S1UCeOLAH",
        "outputId": "f4e2275a-8635-4bf0-fd32-aabd692b1574",
        "colab": {
          "base_uri": "https://localhost:8080/",
          "height": 211
        }
      },
      "outputs": [
        {
          "output_type": "error",
          "ename": "NameError",
          "evalue": "name 'evaluate' is not defined",
          "traceback": [
            "\u001b[0;31m---------------------------------------------------------------------------\u001b[0m",
            "\u001b[0;31mNameError\u001b[0m                                 Traceback (most recent call last)",
            "\u001b[0;32m/tmp/ipython-input-9-142965042.py\u001b[0m in \u001b[0;36m<cell line: 0>\u001b[0;34m()\u001b[0m\n\u001b[0;32m----> 1\u001b[0;31m \u001b[0maccuracy\u001b[0m \u001b[0;34m=\u001b[0m \u001b[0mevaluate\u001b[0m\u001b[0;34m.\u001b[0m\u001b[0mload\u001b[0m\u001b[0;34m(\u001b[0m\u001b[0;34m\"accuracy\"\u001b[0m\u001b[0;34m)\u001b[0m\u001b[0;34m\u001b[0m\u001b[0;34m\u001b[0m\u001b[0m\n\u001b[0m\u001b[1;32m      2\u001b[0m \u001b[0mf1_score\u001b[0m \u001b[0;34m=\u001b[0m \u001b[0mevaluate\u001b[0m\u001b[0;34m.\u001b[0m\u001b[0mload\u001b[0m\u001b[0;34m(\u001b[0m\u001b[0;34m\"f1\"\u001b[0m\u001b[0;34m)\u001b[0m\u001b[0;34m\u001b[0m\u001b[0;34m\u001b[0m\u001b[0m\n\u001b[1;32m      3\u001b[0m \u001b[0;34m\u001b[0m\u001b[0m\n\u001b[1;32m      4\u001b[0m \u001b[0;32mdef\u001b[0m \u001b[0mcompute_metrics\u001b[0m\u001b[0;34m(\u001b[0m\u001b[0meval_pred\u001b[0m\u001b[0;34m)\u001b[0m\u001b[0;34m:\u001b[0m\u001b[0;34m\u001b[0m\u001b[0;34m\u001b[0m\u001b[0m\n\u001b[1;32m      5\u001b[0m     \u001b[0mpredictions\u001b[0m\u001b[0;34m,\u001b[0m \u001b[0mlabels\u001b[0m \u001b[0;34m=\u001b[0m \u001b[0meval_pred\u001b[0m\u001b[0;34m\u001b[0m\u001b[0;34m\u001b[0m\u001b[0m\n",
            "\u001b[0;31mNameError\u001b[0m: name 'evaluate' is not defined"
          ]
        }
      ],
      "source": [
        "accuracy = evaluate.load(\"accuracy\")\n",
        "f1_score = evaluate.load(\"f1\")\n",
        "\n",
        "def compute_metrics(eval_pred):\n",
        "    predictions, labels = eval_pred\n",
        "    predictions = np.argmax(predictions, axis=1)\n",
        "    accuracy_value = accuracy.compute(predictions=predictions, references=labels)[\"accuracy\"]\n",
        "    f1_score_value = f1_score.compute(predictions=predictions, references=labels)[\"f1\"]\n",
        "\n",
        "    return {\n",
        "        \"accuracy\": accuracy_value,\n",
        "        \"f1_score\": f1_score_value,\n",
        "    }\n",
        "\n"
      ]
    },
    {
      "cell_type": "markdown",
      "metadata": {
        "id": "0YFV7ugfOMtr"
      },
      "source": [
        "### Ajuste del modelo"
      ]
    },
    {
      "cell_type": "markdown",
      "source": [
        "Lleva a cabo el ajuste del modelo:"
      ],
      "metadata": {
        "id": "62fSC9hEI3ih"
      }
    },
    {
      "cell_type": "code",
      "execution_count": 10,
      "metadata": {
        "id": "7OYXvp-KOQ2J",
        "outputId": "b2c83fd6-cf4f-491c-f9fb-20ebde431f12",
        "colab": {
          "base_uri": "https://localhost:8080/",
          "height": 211
        }
      },
      "outputs": [
        {
          "output_type": "error",
          "ename": "NameError",
          "evalue": "name 'Trainer' is not defined",
          "traceback": [
            "\u001b[0;31m---------------------------------------------------------------------------\u001b[0m",
            "\u001b[0;31mNameError\u001b[0m                                 Traceback (most recent call last)",
            "\u001b[0;32m/tmp/ipython-input-10-1694590531.py\u001b[0m in \u001b[0;36m<cell line: 0>\u001b[0;34m()\u001b[0m\n\u001b[0;32m----> 1\u001b[0;31m trainer = Trainer(\n\u001b[0m\u001b[1;32m      2\u001b[0m     \u001b[0mmodel\u001b[0m\u001b[0;34m=\u001b[0m\u001b[0mmodel\u001b[0m\u001b[0;34m,\u001b[0m\u001b[0;34m\u001b[0m\u001b[0;34m\u001b[0m\u001b[0m\n\u001b[1;32m      3\u001b[0m     \u001b[0margs\u001b[0m\u001b[0;34m=\u001b[0m\u001b[0mtraining_args\u001b[0m\u001b[0;34m,\u001b[0m\u001b[0;34m\u001b[0m\u001b[0;34m\u001b[0m\u001b[0m\n\u001b[1;32m      4\u001b[0m     \u001b[0mtrain_dataset\u001b[0m\u001b[0;34m=\u001b[0m\u001b[0mtrain_dataset\u001b[0m\u001b[0;34m,\u001b[0m\u001b[0;34m\u001b[0m\u001b[0;34m\u001b[0m\u001b[0m\n\u001b[1;32m      5\u001b[0m     \u001b[0meval_dataset\u001b[0m\u001b[0;34m=\u001b[0m\u001b[0mval_dataset\u001b[0m\u001b[0;34m,\u001b[0m\u001b[0;34m\u001b[0m\u001b[0;34m\u001b[0m\u001b[0m\n",
            "\u001b[0;31mNameError\u001b[0m: name 'Trainer' is not defined"
          ]
        }
      ],
      "source": [
        "trainer = Trainer(\n",
        "    model=model,\n",
        "    args=training_args,\n",
        "    train_dataset=train_dataset,\n",
        "    eval_dataset=val_dataset,\n",
        "    tokenizer=tokenizer,\n",
        "    compute_metrics=compute_metrics,\n",
        "    callbacks=[EarlyStoppingCallback(early_stopping_patience=4)]\n",
        ")"
      ]
    },
    {
      "cell_type": "code",
      "source": [
        "trainer.train()"
      ],
      "metadata": {
        "id": "YO5JONVzY1QI",
        "outputId": "2507da31-7cde-450a-f3fc-f67caa4e87ac",
        "colab": {
          "base_uri": "https://localhost:8080/",
          "height": 141
        }
      },
      "execution_count": 11,
      "outputs": [
        {
          "output_type": "error",
          "ename": "NameError",
          "evalue": "name 'trainer' is not defined",
          "traceback": [
            "\u001b[0;31m---------------------------------------------------------------------------\u001b[0m",
            "\u001b[0;31mNameError\u001b[0m                                 Traceback (most recent call last)",
            "\u001b[0;32m/tmp/ipython-input-11-4032920361.py\u001b[0m in \u001b[0;36m<cell line: 0>\u001b[0;34m()\u001b[0m\n\u001b[0;32m----> 1\u001b[0;31m \u001b[0mtrainer\u001b[0m\u001b[0;34m.\u001b[0m\u001b[0mtrain\u001b[0m\u001b[0;34m(\u001b[0m\u001b[0;34m)\u001b[0m\u001b[0;34m\u001b[0m\u001b[0;34m\u001b[0m\u001b[0m\n\u001b[0m",
            "\u001b[0;31mNameError\u001b[0m: name 'trainer' is not defined"
          ]
        }
      ]
    },
    {
      "cell_type": "code",
      "source": [
        "trainer.save_model(\"output_model_save\")"
      ],
      "metadata": {
        "id": "H8tCGz7mgSNs",
        "outputId": "0cd0995a-0847-42bc-cb43-4b8d3ab5fb44",
        "colab": {
          "base_uri": "https://localhost:8080/",
          "height": 141
        }
      },
      "execution_count": 12,
      "outputs": [
        {
          "output_type": "error",
          "ename": "NameError",
          "evalue": "name 'trainer' is not defined",
          "traceback": [
            "\u001b[0;31m---------------------------------------------------------------------------\u001b[0m",
            "\u001b[0;31mNameError\u001b[0m                                 Traceback (most recent call last)",
            "\u001b[0;32m/tmp/ipython-input-12-2368196459.py\u001b[0m in \u001b[0;36m<cell line: 0>\u001b[0;34m()\u001b[0m\n\u001b[0;32m----> 1\u001b[0;31m \u001b[0mtrainer\u001b[0m\u001b[0;34m.\u001b[0m\u001b[0msave_model\u001b[0m\u001b[0;34m(\u001b[0m\u001b[0;34m\"output_model_save\"\u001b[0m\u001b[0;34m)\u001b[0m\u001b[0;34m\u001b[0m\u001b[0;34m\u001b[0m\u001b[0m\n\u001b[0m",
            "\u001b[0;31mNameError\u001b[0m: name 'trainer' is not defined"
          ]
        }
      ]
    },
    {
      "cell_type": "code",
      "source": [
        "# Extraemos los logs de entrenamiento\n",
        "history = pd.DataFrame(trainer.state.log_history)\n",
        "\n",
        "# A veces los logs pueden tener pasos donde no se evalúa. Filtramos filas con 'loss' y 'eval_loss'\n",
        "train_loss = history[history['loss'].notna()][['step', 'loss']]\n",
        "eval_loss = history[history['eval_loss'].notna()][['step', 'eval_loss']]\n",
        "\n",
        "# Plot\n",
        "plt.figure(figsize=(8, 6))\n",
        "plt.plot(train_loss['step'], train_loss['loss'], label='Training Loss')\n",
        "plt.plot(eval_loss['step'], eval_loss['eval_loss'], label='Evaluation Loss')\n",
        "plt.xlabel('Step')\n",
        "plt.ylabel('Loss')\n",
        "plt.title('Training vs Evaluation Loss')\n",
        "plt.legend()\n",
        "plt.grid(True)\n",
        "plt.show()"
      ],
      "metadata": {
        "id": "zWFQfx4lY83b",
        "outputId": "879ec817-c3eb-4d34-9b32-463cda999ffd",
        "colab": {
          "base_uri": "https://localhost:8080/",
          "height": 211
        }
      },
      "execution_count": 13,
      "outputs": [
        {
          "output_type": "error",
          "ename": "NameError",
          "evalue": "name 'pd' is not defined",
          "traceback": [
            "\u001b[0;31m---------------------------------------------------------------------------\u001b[0m",
            "\u001b[0;31mNameError\u001b[0m                                 Traceback (most recent call last)",
            "\u001b[0;32m/tmp/ipython-input-13-1311050137.py\u001b[0m in \u001b[0;36m<cell line: 0>\u001b[0;34m()\u001b[0m\n\u001b[1;32m      1\u001b[0m \u001b[0;31m# Extraemos los logs de entrenamiento\u001b[0m\u001b[0;34m\u001b[0m\u001b[0;34m\u001b[0m\u001b[0m\n\u001b[0;32m----> 2\u001b[0;31m \u001b[0mhistory\u001b[0m \u001b[0;34m=\u001b[0m \u001b[0mpd\u001b[0m\u001b[0;34m.\u001b[0m\u001b[0mDataFrame\u001b[0m\u001b[0;34m(\u001b[0m\u001b[0mtrainer\u001b[0m\u001b[0;34m.\u001b[0m\u001b[0mstate\u001b[0m\u001b[0;34m.\u001b[0m\u001b[0mlog_history\u001b[0m\u001b[0;34m)\u001b[0m\u001b[0;34m\u001b[0m\u001b[0;34m\u001b[0m\u001b[0m\n\u001b[0m\u001b[1;32m      3\u001b[0m \u001b[0;34m\u001b[0m\u001b[0m\n\u001b[1;32m      4\u001b[0m \u001b[0;31m# A veces los logs pueden tener pasos donde no se evalúa. Filtramos filas con 'loss' y 'eval_loss'\u001b[0m\u001b[0;34m\u001b[0m\u001b[0;34m\u001b[0m\u001b[0m\n\u001b[1;32m      5\u001b[0m \u001b[0mtrain_loss\u001b[0m \u001b[0;34m=\u001b[0m \u001b[0mhistory\u001b[0m\u001b[0;34m[\u001b[0m\u001b[0mhistory\u001b[0m\u001b[0;34m[\u001b[0m\u001b[0;34m'loss'\u001b[0m\u001b[0;34m]\u001b[0m\u001b[0;34m.\u001b[0m\u001b[0mnotna\u001b[0m\u001b[0;34m(\u001b[0m\u001b[0;34m)\u001b[0m\u001b[0;34m]\u001b[0m\u001b[0;34m[\u001b[0m\u001b[0;34m[\u001b[0m\u001b[0;34m'step'\u001b[0m\u001b[0;34m,\u001b[0m \u001b[0;34m'loss'\u001b[0m\u001b[0;34m]\u001b[0m\u001b[0;34m]\u001b[0m\u001b[0;34m\u001b[0m\u001b[0;34m\u001b[0m\u001b[0m\n",
            "\u001b[0;31mNameError\u001b[0m: name 'pd' is not defined"
          ]
        }
      ]
    },
    {
      "cell_type": "markdown",
      "metadata": {
        "id": "0hi38oUIOevr"
      },
      "source": [
        "## Evaluacion"
      ]
    },
    {
      "cell_type": "markdown",
      "source": [
        "Una vez llevada a cabo el entrenamiento, realiza la evaluación del modelo."
      ],
      "metadata": {
        "id": "OPYzfaRRI-Ez"
      }
    },
    {
      "cell_type": "code",
      "source": [
        "trainer.evaluate(test_dataset)"
      ],
      "metadata": {
        "id": "rEOk5u3GXOhy",
        "outputId": "3474f740-3476-4a34-ac5e-67ee133c51d8",
        "colab": {
          "base_uri": "https://localhost:8080/",
          "height": 141
        }
      },
      "execution_count": 14,
      "outputs": [
        {
          "output_type": "error",
          "ename": "NameError",
          "evalue": "name 'trainer' is not defined",
          "traceback": [
            "\u001b[0;31m---------------------------------------------------------------------------\u001b[0m",
            "\u001b[0;31mNameError\u001b[0m                                 Traceback (most recent call last)",
            "\u001b[0;32m/tmp/ipython-input-14-1201215446.py\u001b[0m in \u001b[0;36m<cell line: 0>\u001b[0;34m()\u001b[0m\n\u001b[0;32m----> 1\u001b[0;31m \u001b[0mtrainer\u001b[0m\u001b[0;34m.\u001b[0m\u001b[0mevaluate\u001b[0m\u001b[0;34m(\u001b[0m\u001b[0mtest_dataset\u001b[0m\u001b[0;34m)\u001b[0m\u001b[0;34m\u001b[0m\u001b[0;34m\u001b[0m\u001b[0m\n\u001b[0m",
            "\u001b[0;31mNameError\u001b[0m: name 'trainer' is not defined"
          ]
        }
      ]
    },
    {
      "cell_type": "markdown",
      "source": [
        "## Genera predicciones"
      ],
      "metadata": {
        "id": "Sf1-X0ozH1x1"
      }
    },
    {
      "cell_type": "markdown",
      "source": [
        "Genera predicciones sobre el test set. Recuerda que el archivo que generes y adjuntes al ejercicio debe tener dos columnas:\n",
        "\n",
        "\n",
        "| id         | label |\n",
        "|------------|-------|\n",
        "| 1234567890 | 1     |\n",
        "| 1234567891 | 0     |\n",
        "| 1234567892 | 0     |\n",
        "| 1234567893 | 1     |\n",
        "\n",
        "- El archivo debe estar en formato **TSV** (separado por tabuladores).\n",
        "- Debe contener exactamente **dos columnas**: `id` y `label`.\n",
        "- Es obligatorio incluir la **cabecera**.\n"
      ],
      "metadata": {
        "id": "4GyrGKTfJUIo"
      }
    },
    {
      "cell_type": "code",
      "source": [
        "predictions = trainer.predict(test_dataset)"
      ],
      "metadata": {
        "id": "Qf7sQSH_XQ20",
        "outputId": "51d4d6b6-d67e-49ea-d779-fd50920c9b72",
        "colab": {
          "base_uri": "https://localhost:8080/",
          "height": 141
        }
      },
      "execution_count": 15,
      "outputs": [
        {
          "output_type": "error",
          "ename": "NameError",
          "evalue": "name 'trainer' is not defined",
          "traceback": [
            "\u001b[0;31m---------------------------------------------------------------------------\u001b[0m",
            "\u001b[0;31mNameError\u001b[0m                                 Traceback (most recent call last)",
            "\u001b[0;32m/tmp/ipython-input-15-2471638288.py\u001b[0m in \u001b[0;36m<cell line: 0>\u001b[0;34m()\u001b[0m\n\u001b[0;32m----> 1\u001b[0;31m \u001b[0mpredictions\u001b[0m \u001b[0;34m=\u001b[0m \u001b[0mtrainer\u001b[0m\u001b[0;34m.\u001b[0m\u001b[0mpredict\u001b[0m\u001b[0;34m(\u001b[0m\u001b[0mtest_dataset\u001b[0m\u001b[0;34m)\u001b[0m\u001b[0;34m\u001b[0m\u001b[0;34m\u001b[0m\u001b[0m\n\u001b[0m",
            "\u001b[0;31mNameError\u001b[0m: name 'trainer' is not defined"
          ]
        }
      ]
    },
    {
      "cell_type": "code",
      "source": [
        "y_pred = predictions.predictions.argmax(axis=1)\n",
        "y_true = [x[\"labels\"] for x in test_dataset]"
      ],
      "metadata": {
        "id": "7fco-3GbbbKv",
        "outputId": "c9c45707-d01e-476f-cb5f-1b7ac63b4969",
        "colab": {
          "base_uri": "https://localhost:8080/",
          "height": 159
        }
      },
      "execution_count": 16,
      "outputs": [
        {
          "output_type": "error",
          "ename": "NameError",
          "evalue": "name 'predictions' is not defined",
          "traceback": [
            "\u001b[0;31m---------------------------------------------------------------------------\u001b[0m",
            "\u001b[0;31mNameError\u001b[0m                                 Traceback (most recent call last)",
            "\u001b[0;32m/tmp/ipython-input-16-470234735.py\u001b[0m in \u001b[0;36m<cell line: 0>\u001b[0;34m()\u001b[0m\n\u001b[0;32m----> 1\u001b[0;31m \u001b[0my_pred\u001b[0m \u001b[0;34m=\u001b[0m \u001b[0mpredictions\u001b[0m\u001b[0;34m.\u001b[0m\u001b[0mpredictions\u001b[0m\u001b[0;34m.\u001b[0m\u001b[0margmax\u001b[0m\u001b[0;34m(\u001b[0m\u001b[0maxis\u001b[0m\u001b[0;34m=\u001b[0m\u001b[0;36m1\u001b[0m\u001b[0;34m)\u001b[0m\u001b[0;34m\u001b[0m\u001b[0;34m\u001b[0m\u001b[0m\n\u001b[0m\u001b[1;32m      2\u001b[0m \u001b[0my_true\u001b[0m \u001b[0;34m=\u001b[0m \u001b[0;34m[\u001b[0m\u001b[0mx\u001b[0m\u001b[0;34m[\u001b[0m\u001b[0;34m\"labels\"\u001b[0m\u001b[0;34m]\u001b[0m \u001b[0;32mfor\u001b[0m \u001b[0mx\u001b[0m \u001b[0;32min\u001b[0m \u001b[0mtest_dataset\u001b[0m\u001b[0;34m]\u001b[0m\u001b[0;34m\u001b[0m\u001b[0;34m\u001b[0m\u001b[0m\n",
            "\u001b[0;31mNameError\u001b[0m: name 'predictions' is not defined"
          ]
        }
      ]
    }
  ],
  "metadata": {
    "accelerator": "GPU",
    "colab": {
      "provenance": [],
      "gpuType": "T4",
      "include_colab_link": true
    },
    "kernelspec": {
      "display_name": "Python 3",
      "name": "python3"
    },
    "language_info": {
      "name": "python"
    }
  },
  "nbformat": 4,
  "nbformat_minor": 0
}